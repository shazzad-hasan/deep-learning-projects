{
  "nbformat": 4,
  "nbformat_minor": 0,
  "metadata": {
    "colab": {
      "name": "PyTorch_tensor.ipynb",
      "provenance": [],
      "include_colab_link": true
    },
    "kernelspec": {
      "name": "python3",
      "display_name": "Python 3"
    },
    "language_info": {
      "name": "python"
    }
  },
  "cells": [
    {
      "cell_type": "markdown",
      "metadata": {
        "id": "view-in-github",
        "colab_type": "text"
      },
      "source": [
        "<a href=\"https://colab.research.google.com/github/shazzad-hasan/building_deep_learning_solutions_with_pytorch/blob/main/foundation_of_pytorch/PyTorch_tensor.ipynb\" target=\"_parent\"><img src=\"https://colab.research.google.com/assets/colab-badge.svg\" alt=\"Open In Colab\"/></a>"
      ]
    },
    {
      "cell_type": "code",
      "execution_count": 1,
      "metadata": {
        "colab": {
          "base_uri": "https://localhost:8080/"
        },
        "id": "Lqu5Vw-vgKS8",
        "outputId": "9474e1a4-c984-48ab-c283-3ddf8b9935c7"
      },
      "outputs": [
        {
          "output_type": "stream",
          "name": "stdout",
          "text": [
            "1.12.0+cu113\n"
          ]
        }
      ],
      "source": [
        "import torch\n",
        "\n",
        "print(torch.__version__)"
      ]
    },
    {
      "cell_type": "code",
      "source": [
        "torch.get_default_dtype()"
      ],
      "metadata": {
        "colab": {
          "base_uri": "https://localhost:8080/"
        },
        "id": "faEgTHGSvY7D",
        "outputId": "0372d7cd-afe2-4396-8db9-c3fbcb480da4"
      },
      "execution_count": 2,
      "outputs": [
        {
          "output_type": "execute_result",
          "data": {
            "text/plain": [
              "torch.float32"
            ]
          },
          "metadata": {},
          "execution_count": 2
        }
      ]
    },
    {
      "cell_type": "code",
      "source": [
        "torch.set_default_dtype(torch.float64)\n",
        "torch.get_default_dtype()"
      ],
      "metadata": {
        "colab": {
          "base_uri": "https://localhost:8080/"
        },
        "id": "rM7_d3opvmCQ",
        "outputId": "0d8000fc-58f9-4d4a-ddbe-4e9d55aafeb3"
      },
      "execution_count": 3,
      "outputs": [
        {
          "output_type": "execute_result",
          "data": {
            "text/plain": [
              "torch.float64"
            ]
          },
          "metadata": {},
          "execution_count": 3
        }
      ]
    },
    {
      "cell_type": "code",
      "source": [
        "tensor_arr = torch.Tensor([[1,2,3],[4,5,6]])\n",
        "tensor_arr"
      ],
      "metadata": {
        "colab": {
          "base_uri": "https://localhost:8080/"
        },
        "id": "J19RVybtv2d5",
        "outputId": "fcf3b5fe-5d53-4c19-c83e-9eacba0f5bd1"
      },
      "execution_count": 4,
      "outputs": [
        {
          "output_type": "execute_result",
          "data": {
            "text/plain": [
              "tensor([[1., 2., 3.],\n",
              "        [4., 5., 6.]])"
            ]
          },
          "metadata": {},
          "execution_count": 4
        }
      ]
    },
    {
      "cell_type": "code",
      "source": [
        "torch.is_tensor(tensor_arr)"
      ],
      "metadata": {
        "colab": {
          "base_uri": "https://localhost:8080/"
        },
        "id": "0p7lceafwvnx",
        "outputId": "b5918dce-63ed-4e4a-febf-1847edc585d7"
      },
      "execution_count": 5,
      "outputs": [
        {
          "output_type": "execute_result",
          "data": {
            "text/plain": [
              "True"
            ]
          },
          "metadata": {},
          "execution_count": 5
        }
      ]
    },
    {
      "cell_type": "code",
      "source": [
        "torch.numel(tensor_arr)"
      ],
      "metadata": {
        "colab": {
          "base_uri": "https://localhost:8080/"
        },
        "id": "MpPCZUfNxo5c",
        "outputId": "9cf99a48-7cfc-496b-870b-e8cea386fea2"
      },
      "execution_count": 6,
      "outputs": [
        {
          "output_type": "execute_result",
          "data": {
            "text/plain": [
              "6"
            ]
          },
          "metadata": {},
          "execution_count": 6
        }
      ]
    },
    {
      "cell_type": "code",
      "source": [
        "tensor_uninitialized = torch.Tensor(2,2)\n",
        "tensor_uninitialized"
      ],
      "metadata": {
        "colab": {
          "base_uri": "https://localhost:8080/"
        },
        "id": "3dv4zTjWx0Dm",
        "outputId": "e8c4447e-c576-4bf6-d096-f0033737d6df"
      },
      "execution_count": 7,
      "outputs": [
        {
          "output_type": "execute_result",
          "data": {
            "text/plain": [
              "tensor([[3.6574e-316, 1.7786e-322],\n",
              "        [ 3.0000e+00,  2.2367e-46]])"
            ]
          },
          "metadata": {},
          "execution_count": 7
        }
      ]
    },
    {
      "cell_type": "code",
      "source": [
        "tensor_initialized = torch.rand(2,2)\n",
        "tensor_initialized"
      ],
      "metadata": {
        "colab": {
          "base_uri": "https://localhost:8080/"
        },
        "id": "twpZgaP9yMhx",
        "outputId": "4ce2dc57-15db-494a-e603-d71667fcad02"
      },
      "execution_count": 8,
      "outputs": [
        {
          "output_type": "execute_result",
          "data": {
            "text/plain": [
              "tensor([[0.1085, 0.8821],\n",
              "        [0.4447, 0.5544]])"
            ]
          },
          "metadata": {},
          "execution_count": 8
        }
      ]
    },
    {
      "cell_type": "code",
      "source": [
        "tensor_int = torch.tensor([5,3]).type(torch.IntTensor)\n",
        "tensor_int"
      ],
      "metadata": {
        "colab": {
          "base_uri": "https://localhost:8080/"
        },
        "id": "5Bb2_NORyZ76",
        "outputId": "551d29f5-dac3-4a1d-9e4e-e3a0ac0f0107"
      },
      "execution_count": 9,
      "outputs": [
        {
          "output_type": "execute_result",
          "data": {
            "text/plain": [
              "tensor([5, 3], dtype=torch.int32)"
            ]
          },
          "metadata": {},
          "execution_count": 9
        }
      ]
    },
    {
      "cell_type": "code",
      "source": [
        "tensor_short = torch.ShortTensor([1.0, 2.0, 3.0])\n",
        "tensor_short"
      ],
      "metadata": {
        "colab": {
          "base_uri": "https://localhost:8080/"
        },
        "id": "KMj9OIPgyZ_O",
        "outputId": "02a9165b-ebcc-44c2-8b16-4da5b0addc32"
      },
      "execution_count": 10,
      "outputs": [
        {
          "output_type": "execute_result",
          "data": {
            "text/plain": [
              "tensor([1, 2, 3], dtype=torch.int16)"
            ]
          },
          "metadata": {},
          "execution_count": 10
        }
      ]
    },
    {
      "cell_type": "code",
      "source": [
        "tensor_float = torch.tensor([1.0, 2.0, 3.0]).type(torch.half)\n",
        "tensor_float"
      ],
      "metadata": {
        "colab": {
          "base_uri": "https://localhost:8080/"
        },
        "id": "7Tb2xXwFyaCA",
        "outputId": "9dc6983e-09e8-40fd-9db7-8f9545aeedcf"
      },
      "execution_count": 11,
      "outputs": [
        {
          "output_type": "execute_result",
          "data": {
            "text/plain": [
              "tensor([1., 2., 3.], dtype=torch.float16)"
            ]
          },
          "metadata": {},
          "execution_count": 11
        }
      ]
    },
    {
      "cell_type": "code",
      "source": [
        "tensor_fill = torch.full((2,6), fill_value=10)\n",
        "tensor_fill"
      ],
      "metadata": {
        "colab": {
          "base_uri": "https://localhost:8080/"
        },
        "id": "KQUXg4UqyaFG",
        "outputId": "a1a72f09-5933-48e1-a3dc-3e801271b135"
      },
      "execution_count": 12,
      "outputs": [
        {
          "output_type": "execute_result",
          "data": {
            "text/plain": [
              "tensor([[10, 10, 10, 10, 10, 10],\n",
              "        [10, 10, 10, 10, 10, 10]])"
            ]
          },
          "metadata": {},
          "execution_count": 12
        }
      ]
    },
    {
      "cell_type": "code",
      "source": [
        "tensor_of_ones = torch.ones([2,4], dtype=torch.int32)\n",
        "tensor_of_ones"
      ],
      "metadata": {
        "colab": {
          "base_uri": "https://localhost:8080/"
        },
        "id": "FkmEUBfYyaIQ",
        "outputId": "cd911ddf-97c2-4413-d4f8-a50acca5bc81"
      },
      "execution_count": 13,
      "outputs": [
        {
          "output_type": "execute_result",
          "data": {
            "text/plain": [
              "tensor([[1, 1, 1, 1],\n",
              "        [1, 1, 1, 1]], dtype=torch.int32)"
            ]
          },
          "metadata": {},
          "execution_count": 13
        }
      ]
    },
    {
      "cell_type": "code",
      "source": [
        "tensor_of_zeros = torch.zeros_like(tensor_of_ones)\n",
        "tensor_of_zeros"
      ],
      "metadata": {
        "colab": {
          "base_uri": "https://localhost:8080/"
        },
        "id": "N4ekaQCkyaLT",
        "outputId": "2d4cde50-37ec-4bc8-f981-732fff937065"
      },
      "execution_count": 14,
      "outputs": [
        {
          "output_type": "execute_result",
          "data": {
            "text/plain": [
              "tensor([[0, 0, 0, 0],\n",
              "        [0, 0, 0, 0]], dtype=torch.int32)"
            ]
          },
          "metadata": {},
          "execution_count": 14
        }
      ]
    },
    {
      "cell_type": "code",
      "source": [
        "tensor_eye = torch.eye(5)\n",
        "tensor_eye"
      ],
      "metadata": {
        "id": "0xguvhjg6L5K",
        "colab": {
          "base_uri": "https://localhost:8080/"
        },
        "outputId": "5db4dbb8-b633-43d5-9336-050cd6e1bac3"
      },
      "execution_count": 15,
      "outputs": [
        {
          "output_type": "execute_result",
          "data": {
            "text/plain": [
              "tensor([[1., 0., 0., 0., 0.],\n",
              "        [0., 1., 0., 0., 0.],\n",
              "        [0., 0., 1., 0., 0.],\n",
              "        [0., 0., 0., 1., 0.],\n",
              "        [0., 0., 0., 0., 1.]])"
            ]
          },
          "metadata": {},
          "execution_count": 15
        }
      ]
    },
    {
      "cell_type": "code",
      "source": [
        "non_zero = torch.nonzero(tensor_eye)\n",
        "non_zero"
      ],
      "metadata": {
        "colab": {
          "base_uri": "https://localhost:8080/"
        },
        "id": "UJD1FK6-CrXV",
        "outputId": "da9d4dca-6b6b-4b0e-c4f3-a4b507f1d680"
      },
      "execution_count": 16,
      "outputs": [
        {
          "output_type": "execute_result",
          "data": {
            "text/plain": [
              "tensor([[0, 0],\n",
              "        [1, 1],\n",
              "        [2, 2],\n",
              "        [3, 3],\n",
              "        [4, 4]])"
            ]
          },
          "metadata": {},
          "execution_count": 16
        }
      ]
    },
    {
      "cell_type": "code",
      "source": [
        "i = torch.tensor([[0,1,1], \n",
        "                  [2,2,0]])\n",
        "v = torch.tensor([5,6,7], dtype=torch.float32)\n",
        "sparse_tensor = torch.sparse_coo_tensor(i, v, [2,5])\n",
        "sparse_tensor.data"
      ],
      "metadata": {
        "colab": {
          "base_uri": "https://localhost:8080/"
        },
        "id": "LHtvgkVEC0wh",
        "outputId": "ed3b3de1-9a11-4055-bb2f-c380ed87af38"
      },
      "execution_count": 25,
      "outputs": [
        {
          "output_type": "execute_result",
          "data": {
            "text/plain": [
              "tensor(indices=tensor([[0, 1, 1],\n",
              "                       [2, 2, 0]]),\n",
              "       values=tensor([5., 6., 7.]),\n",
              "       size=(2, 5), nnz=3, dtype=torch.float32, layout=torch.sparse_coo)"
            ]
          },
          "metadata": {},
          "execution_count": 25
        }
      ]
    },
    {
      "cell_type": "code",
      "source": [
        "initial_tensor = torch.rand(2,3)\n",
        "initial_tensor"
      ],
      "metadata": {
        "colab": {
          "base_uri": "https://localhost:8080/"
        },
        "id": "SanVJ3OTEnTz",
        "outputId": "b2cf2891-30b3-4b00-9999-97618765c428"
      },
      "execution_count": 26,
      "outputs": [
        {
          "output_type": "execute_result",
          "data": {
            "text/plain": [
              "tensor([[0.8495, 0.3344, 0.3670],\n",
              "        [0.6078, 0.1497, 0.3976]])"
            ]
          },
          "metadata": {},
          "execution_count": 26
        }
      ]
    },
    {
      "cell_type": "code",
      "source": [
        "initial_tensor.fill_(10)"
      ],
      "metadata": {
        "colab": {
          "base_uri": "https://localhost:8080/"
        },
        "id": "XELxerDSZQUh",
        "outputId": "fcc1797a-9419-440c-ce0f-c4daa4844d0a"
      },
      "execution_count": 27,
      "outputs": [
        {
          "output_type": "execute_result",
          "data": {
            "text/plain": [
              "tensor([[10., 10., 10.],\n",
              "        [10., 10., 10.]])"
            ]
          },
          "metadata": {},
          "execution_count": 27
        }
      ]
    },
    {
      "cell_type": "code",
      "source": [
        "new_tensor = initial_tensor.add(5)\n",
        "new_tensor"
      ],
      "metadata": {
        "id": "M5WllxFPZgkh",
        "outputId": "daf696e0-dd03-47ed-bdfa-807278e18d3b",
        "colab": {
          "base_uri": "https://localhost:8080/"
        }
      },
      "execution_count": 28,
      "outputs": [
        {
          "output_type": "execute_result",
          "data": {
            "text/plain": [
              "tensor([[15., 15., 15.],\n",
              "        [15., 15., 15.]])"
            ]
          },
          "metadata": {},
          "execution_count": 28
        }
      ]
    },
    {
      "cell_type": "code",
      "source": [
        "initial_tensor"
      ],
      "metadata": {
        "id": "7FDv8yAYZ3YQ",
        "outputId": "be73dbdf-13b7-4599-ffd9-4c03aab22ee1",
        "colab": {
          "base_uri": "https://localhost:8080/"
        }
      },
      "execution_count": 29,
      "outputs": [
        {
          "output_type": "execute_result",
          "data": {
            "text/plain": [
              "tensor([[10., 10., 10.],\n",
              "        [10., 10., 10.]])"
            ]
          },
          "metadata": {},
          "execution_count": 29
        }
      ]
    },
    {
      "cell_type": "code",
      "source": [
        "initial_tensor.add_(8)\n",
        "initial_tensor"
      ],
      "metadata": {
        "id": "B4jzpMnfaa4y",
        "outputId": "56e24312-3bb6-4d28-a5ad-a97740efac09",
        "colab": {
          "base_uri": "https://localhost:8080/"
        }
      },
      "execution_count": 30,
      "outputs": [
        {
          "output_type": "execute_result",
          "data": {
            "text/plain": [
              "tensor([[18., 18., 18.],\n",
              "        [18., 18., 18.]])"
            ]
          },
          "metadata": {},
          "execution_count": 30
        }
      ]
    },
    {
      "cell_type": "code",
      "source": [
        "new_tensor.sqrt()\n",
        "new_tensor"
      ],
      "metadata": {
        "id": "pGaRHqagahP4",
        "outputId": "81bad62b-aedf-4b6b-c9aa-47ac4d93fe90",
        "colab": {
          "base_uri": "https://localhost:8080/"
        }
      },
      "execution_count": 31,
      "outputs": [
        {
          "output_type": "execute_result",
          "data": {
            "text/plain": [
              "tensor([[15., 15., 15.],\n",
              "        [15., 15., 15.]])"
            ]
          },
          "metadata": {},
          "execution_count": 31
        }
      ]
    },
    {
      "cell_type": "code",
      "source": [
        "x = torch.linspace(start=0.1, end=10.0, steps=15)\n",
        "x"
      ],
      "metadata": {
        "id": "ZDZVEQ9eamvh",
        "outputId": "eca3848a-5010-4cb9-831e-522184b8865c",
        "colab": {
          "base_uri": "https://localhost:8080/"
        }
      },
      "execution_count": 32,
      "outputs": [
        {
          "output_type": "execute_result",
          "data": {
            "text/plain": [
              "tensor([ 0.1000,  0.8071,  1.5143,  2.2214,  2.9286,  3.6357,  4.3429,  5.0500,\n",
              "         5.7571,  6.4643,  7.1714,  7.8786,  8.5857,  9.2929, 10.0000])"
            ]
          },
          "metadata": {},
          "execution_count": 32
        }
      ]
    },
    {
      "cell_type": "code",
      "source": [
        "tensor_chunk = torch.chunk(x, 3, 0)\n",
        "tensor_chunk"
      ],
      "metadata": {
        "id": "k0UalqbOa2cW",
        "outputId": "791a90a0-dd71-407d-83c3-21a94cad5328",
        "colab": {
          "base_uri": "https://localhost:8080/"
        }
      },
      "execution_count": 33,
      "outputs": [
        {
          "output_type": "execute_result",
          "data": {
            "text/plain": [
              "(tensor([0.1000, 0.8071, 1.5143, 2.2214, 2.9286]),\n",
              " tensor([3.6357, 4.3429, 5.0500, 5.7571, 6.4643]),\n",
              " tensor([ 7.1714,  7.8786,  8.5857,  9.2929, 10.0000]))"
            ]
          },
          "metadata": {},
          "execution_count": 33
        }
      ]
    },
    {
      "cell_type": "code",
      "source": [
        "tensor1 = tensor_chunk[0]\n",
        "tensor2 = tensor_chunk[1]\n",
        "tensor3 = torch.tensor([3.0, 4.0, 5.0])\n",
        "\n",
        "torch.cat((tensor1, tensor2, tensor3), 0)"
      ],
      "metadata": {
        "id": "62sriNgXbAQo",
        "outputId": "26632b61-b946-41c8-a443-0c72501462d4",
        "colab": {
          "base_uri": "https://localhost:8080/"
        }
      },
      "execution_count": 34,
      "outputs": [
        {
          "output_type": "execute_result",
          "data": {
            "text/plain": [
              "tensor([0.1000, 0.8071, 1.5143, 2.2214, 2.9286, 3.6357, 4.3429, 5.0500, 5.7571,\n",
              "        6.4643, 3.0000, 4.0000, 5.0000])"
            ]
          },
          "metadata": {},
          "execution_count": 34
        }
      ]
    },
    {
      "cell_type": "code",
      "source": [
        "random_tensor = torch.Tensor([[10, 8, 30], [40, 5, 6], [12, 2, 21]])\n",
        "random_tensor"
      ],
      "metadata": {
        "id": "xgLlEW5ubdAB",
        "outputId": "c371a683-1c34-4012-e838-339175a53469",
        "colab": {
          "base_uri": "https://localhost:8080/"
        }
      },
      "execution_count": 35,
      "outputs": [
        {
          "output_type": "execute_result",
          "data": {
            "text/plain": [
              "tensor([[10.,  8., 30.],\n",
              "        [40.,  5.,  6.],\n",
              "        [12.,  2., 21.]])"
            ]
          },
          "metadata": {},
          "execution_count": 35
        }
      ]
    },
    {
      "cell_type": "code",
      "source": [
        "random_tensor[0, 1]"
      ],
      "metadata": {
        "id": "xY1bb3NMdAp5",
        "outputId": "75a5814c-1c87-48bb-a3b2-6f45cc351cb1",
        "colab": {
          "base_uri": "https://localhost:8080/"
        }
      },
      "execution_count": 36,
      "outputs": [
        {
          "output_type": "execute_result",
          "data": {
            "text/plain": [
              "tensor(8.)"
            ]
          },
          "metadata": {},
          "execution_count": 36
        }
      ]
    },
    {
      "cell_type": "code",
      "source": [
        "random_tensor[1:, 1:]"
      ],
      "metadata": {
        "id": "OqdUtLCudPJ4",
        "outputId": "6936b453-2d46-42af-c04c-5a0b39f6e284",
        "colab": {
          "base_uri": "https://localhost:8080/"
        }
      },
      "execution_count": 37,
      "outputs": [
        {
          "output_type": "execute_result",
          "data": {
            "text/plain": [
              "tensor([[ 5.,  6.],\n",
              "        [ 2., 21.]])"
            ]
          },
          "metadata": {},
          "execution_count": 37
        }
      ]
    },
    {
      "cell_type": "code",
      "source": [
        "random_tensor.size()"
      ],
      "metadata": {
        "id": "EvpIXjXjdSua",
        "outputId": "1a31121f-bc17-4da4-8176-125b7e59a66e",
        "colab": {
          "base_uri": "https://localhost:8080/"
        }
      },
      "execution_count": 38,
      "outputs": [
        {
          "output_type": "execute_result",
          "data": {
            "text/plain": [
              "torch.Size([3, 3])"
            ]
          },
          "metadata": {},
          "execution_count": 38
        }
      ]
    },
    {
      "cell_type": "code",
      "source": [
        "resized_tensor = random_tensor.view(9)\n",
        "resized_tensor"
      ],
      "metadata": {
        "id": "essAKpoJdbig",
        "outputId": "066a68f0-81e8-4b00-fed5-9bd8d93768d1",
        "colab": {
          "base_uri": "https://localhost:8080/"
        }
      },
      "execution_count": 39,
      "outputs": [
        {
          "output_type": "execute_result",
          "data": {
            "text/plain": [
              "tensor([10.,  8., 30., 40.,  5.,  6., 12.,  2., 21.])"
            ]
          },
          "metadata": {},
          "execution_count": 39
        }
      ]
    },
    {
      "cell_type": "code",
      "source": [
        "resized_tensor.size()"
      ],
      "metadata": {
        "id": "cxhCwlMYdpic",
        "outputId": "1b94d920-d9d2-43f0-be4f-6067cbd05911",
        "colab": {
          "base_uri": "https://localhost:8080/"
        }
      },
      "execution_count": 41,
      "outputs": [
        {
          "output_type": "execute_result",
          "data": {
            "text/plain": [
              "torch.Size([9])"
            ]
          },
          "metadata": {},
          "execution_count": 41
        }
      ]
    },
    {
      "cell_type": "code",
      "source": [
        "random_tensor[2,2] = 100.0\n",
        "resized_tensor"
      ],
      "metadata": {
        "id": "9uaIzPYWd4Ww",
        "outputId": "50b3387e-cfd3-4d5d-8779-15e60c7ffe15",
        "colab": {
          "base_uri": "https://localhost:8080/"
        }
      },
      "execution_count": 42,
      "outputs": [
        {
          "output_type": "execute_result",
          "data": {
            "text/plain": [
              "tensor([ 10.,   8.,  30.,  40.,   5.,   6.,  12.,   2., 100.])"
            ]
          },
          "metadata": {},
          "execution_count": 42
        }
      ]
    },
    {
      "cell_type": "code",
      "source": [
        "random_tensor"
      ],
      "metadata": {
        "id": "FN3S1UVGgect",
        "outputId": "4f10de82-79dc-452f-81f7-8a2d0c612df1",
        "colab": {
          "base_uri": "https://localhost:8080/"
        }
      },
      "execution_count": 43,
      "outputs": [
        {
          "output_type": "execute_result",
          "data": {
            "text/plain": [
              "tensor([[ 10.,   8.,  30.],\n",
              "        [ 40.,   5.,   6.],\n",
              "        [ 12.,   2., 100.]])"
            ]
          },
          "metadata": {},
          "execution_count": 43
        }
      ]
    },
    {
      "cell_type": "code",
      "source": [
        "random_tensor.shape"
      ],
      "metadata": {
        "id": "mIFsSUD1giw9",
        "outputId": "39dc51cc-6dab-4b90-944c-615e920148e9",
        "colab": {
          "base_uri": "https://localhost:8080/"
        }
      },
      "execution_count": 45,
      "outputs": [
        {
          "output_type": "execute_result",
          "data": {
            "text/plain": [
              "torch.Size([3, 3])"
            ]
          },
          "metadata": {},
          "execution_count": 45
        }
      ]
    },
    {
      "cell_type": "code",
      "source": [
        "tensor_unsqueeze = torch.unsqueeze(random_tensor, 2)\n",
        "tensor_unsqueeze"
      ],
      "metadata": {
        "id": "1utMQRlcgnz9",
        "outputId": "75e4bd9e-69c4-44cf-ea21-209dedb72d4c",
        "colab": {
          "base_uri": "https://localhost:8080/"
        }
      },
      "execution_count": 47,
      "outputs": [
        {
          "output_type": "execute_result",
          "data": {
            "text/plain": [
              "tensor([[[ 10.],\n",
              "         [  8.],\n",
              "         [ 30.]],\n",
              "\n",
              "        [[ 40.],\n",
              "         [  5.],\n",
              "         [  6.]],\n",
              "\n",
              "        [[ 12.],\n",
              "         [  2.],\n",
              "         [100.]]])"
            ]
          },
          "metadata": {},
          "execution_count": 47
        }
      ]
    },
    {
      "cell_type": "code",
      "source": [
        "tensor_unsqueeze.shape"
      ],
      "metadata": {
        "id": "mHsxBCq_gtjE",
        "outputId": "371b69dc-b781-4e9b-f5e2-36e6fd87c429",
        "colab": {
          "base_uri": "https://localhost:8080/"
        }
      },
      "execution_count": 48,
      "outputs": [
        {
          "output_type": "execute_result",
          "data": {
            "text/plain": [
              "torch.Size([3, 3, 1])"
            ]
          },
          "metadata": {},
          "execution_count": 48
        }
      ]
    },
    {
      "cell_type": "code",
      "source": [
        "initial_tensor"
      ],
      "metadata": {
        "id": "CR2_m0OnhFxN",
        "outputId": "9ce7472e-5c27-4e41-9565-98c10fae49a3",
        "colab": {
          "base_uri": "https://localhost:8080/"
        }
      },
      "execution_count": 49,
      "outputs": [
        {
          "output_type": "execute_result",
          "data": {
            "text/plain": [
              "tensor([[18., 18., 18.],\n",
              "        [18., 18., 18.]])"
            ]
          },
          "metadata": {},
          "execution_count": 49
        }
      ]
    },
    {
      "cell_type": "code",
      "source": [
        "tensor_transpose = torch.transpose(initial_tensor, 0, 1)\n",
        "tensor_transpose"
      ],
      "metadata": {
        "id": "TrB1CFsRhH4_",
        "outputId": "69ccb56f-f159-44d4-ef2c-d7ffcba5c17d",
        "colab": {
          "base_uri": "https://localhost:8080/"
        }
      },
      "execution_count": 50,
      "outputs": [
        {
          "output_type": "execute_result",
          "data": {
            "text/plain": [
              "tensor([[18., 18.],\n",
              "        [18., 18.],\n",
              "        [18., 18.]])"
            ]
          },
          "metadata": {},
          "execution_count": 50
        }
      ]
    },
    {
      "cell_type": "code",
      "source": [
        "sorted_tensor, sorted_indices = torch.sort(random_tensor)"
      ],
      "metadata": {
        "id": "5NU078wQhQml"
      },
      "execution_count": 51,
      "outputs": []
    },
    {
      "cell_type": "code",
      "source": [
        "sorted_tensor"
      ],
      "metadata": {
        "id": "tFSGafN1isII",
        "outputId": "0e296610-3ba3-4e48-fad7-a106c988e134",
        "colab": {
          "base_uri": "https://localhost:8080/"
        }
      },
      "execution_count": 52,
      "outputs": [
        {
          "output_type": "execute_result",
          "data": {
            "text/plain": [
              "tensor([[  8.,  10.,  30.],\n",
              "        [  5.,   6.,  40.],\n",
              "        [  2.,  12., 100.]])"
            ]
          },
          "metadata": {},
          "execution_count": 52
        }
      ]
    },
    {
      "cell_type": "code",
      "source": [
        "sorted_indices"
      ],
      "metadata": {
        "id": "vhQOb1_7iutI",
        "outputId": "33ebcd24-2cf4-4ccd-d347-8223c789d98b",
        "colab": {
          "base_uri": "https://localhost:8080/"
        }
      },
      "execution_count": 53,
      "outputs": [
        {
          "output_type": "execute_result",
          "data": {
            "text/plain": [
              "tensor([[1, 0, 2],\n",
              "        [1, 2, 0],\n",
              "        [1, 0, 2]])"
            ]
          },
          "metadata": {},
          "execution_count": 53
        }
      ]
    },
    {
      "cell_type": "code",
      "source": [
        "tensor_float = torch.FloatTensor([-1.1, -2.2, 3.3])\n",
        "tensor_float"
      ],
      "metadata": {
        "id": "ULdskE7wiwos",
        "outputId": "138c70b2-180a-4c41-e8bb-e85fe5129168",
        "colab": {
          "base_uri": "https://localhost:8080/"
        }
      },
      "execution_count": 54,
      "outputs": [
        {
          "output_type": "execute_result",
          "data": {
            "text/plain": [
              "tensor([-1.1000, -2.2000,  3.3000], dtype=torch.float32)"
            ]
          },
          "metadata": {},
          "execution_count": 54
        }
      ]
    },
    {
      "cell_type": "code",
      "source": [
        "tensor_abs = torch.abs(tensor_float)\n",
        "tensor_abs"
      ],
      "metadata": {
        "id": "CweifjGyjChW",
        "outputId": "45af8bf7-4240-4e87-c1a3-4c0ed911c04f",
        "colab": {
          "base_uri": "https://localhost:8080/"
        }
      },
      "execution_count": 55,
      "outputs": [
        {
          "output_type": "execute_result",
          "data": {
            "text/plain": [
              "tensor([1.1000, 2.2000, 3.3000], dtype=torch.float32)"
            ]
          },
          "metadata": {},
          "execution_count": 55
        }
      ]
    },
    {
      "cell_type": "code",
      "source": [
        "rand1 = torch.abs(torch.randn(2,3))\n",
        "rand2 = torch.abs(torch.randn(2,3))\n",
        "\n",
        "add1 = rand1 + rand2\n",
        "add1"
      ],
      "metadata": {
        "id": "qUzRJO2fjNwe",
        "outputId": "fe182274-376e-4d01-9647-605751fee929",
        "colab": {
          "base_uri": "https://localhost:8080/"
        }
      },
      "execution_count": 56,
      "outputs": [
        {
          "output_type": "execute_result",
          "data": {
            "text/plain": [
              "tensor([[1.0141, 2.5752, 1.6105],\n",
              "        [1.7875, 2.4736, 1.3036]])"
            ]
          },
          "metadata": {},
          "execution_count": 56
        }
      ]
    },
    {
      "cell_type": "code",
      "source": [
        "add2 = torch.add(rand1, rand2)\n",
        "add2"
      ],
      "metadata": {
        "id": "EHgr-RpWjkRp",
        "outputId": "5305019b-8f88-4b62-dd0b-968374822f15",
        "colab": {
          "base_uri": "https://localhost:8080/"
        }
      },
      "execution_count": 57,
      "outputs": [
        {
          "output_type": "execute_result",
          "data": {
            "text/plain": [
              "tensor([[1.0141, 2.5752, 1.6105],\n",
              "        [1.7875, 2.4736, 1.3036]])"
            ]
          },
          "metadata": {},
          "execution_count": 57
        }
      ]
    },
    {
      "cell_type": "code",
      "source": [
        "tensor = torch.Tensor([[-1, -2, -3],\n",
        "                       [1, 2, 3]])\n",
        "\n",
        "tensor_div = torch.div(tensor, tensor + 0.3)\n",
        "tensor_div"
      ],
      "metadata": {
        "id": "6sfXcadrlya8",
        "outputId": "91e71de9-7177-4dd8-9a2b-b4e07471a507",
        "colab": {
          "base_uri": "https://localhost:8080/"
        }
      },
      "execution_count": 58,
      "outputs": [
        {
          "output_type": "execute_result",
          "data": {
            "text/plain": [
              "tensor([[1.4286, 1.1765, 1.1111],\n",
              "        [0.7692, 0.8696, 0.9091]])"
            ]
          },
          "metadata": {},
          "execution_count": 58
        }
      ]
    },
    {
      "cell_type": "code",
      "source": [
        "tensor_mul = torch.mul(tensor, tensor)\n",
        "tensor_mul"
      ],
      "metadata": {
        "id": "G73xwk70mHx_",
        "outputId": "eec800b0-0c9a-4220-e8c3-47838f5a6124",
        "colab": {
          "base_uri": "https://localhost:8080/"
        }
      },
      "execution_count": 59,
      "outputs": [
        {
          "output_type": "execute_result",
          "data": {
            "text/plain": [
              "tensor([[1., 4., 9.],\n",
              "        [1., 4., 9.]])"
            ]
          },
          "metadata": {},
          "execution_count": 59
        }
      ]
    },
    {
      "cell_type": "code",
      "source": [
        "tensor"
      ],
      "metadata": {
        "id": "eMD-Lhxjmt57",
        "outputId": "ae06d8ef-d1e4-4e79-c9b7-e05f701cf696",
        "colab": {
          "base_uri": "https://localhost:8080/"
        }
      },
      "execution_count": 61,
      "outputs": [
        {
          "output_type": "execute_result",
          "data": {
            "text/plain": [
              "tensor([[-1., -2., -3.],\n",
              "        [ 1.,  2.,  3.]])"
            ]
          },
          "metadata": {},
          "execution_count": 61
        }
      ]
    },
    {
      "cell_type": "code",
      "source": [
        "tensor_clamp = torch.clamp(tensor, min=-0.2, max=2)\n",
        "tensor_clamp"
      ],
      "metadata": {
        "id": "ZFE_cqBSmX63",
        "outputId": "060d8b30-dfb9-43f3-ebed-f09f477db3a6",
        "colab": {
          "base_uri": "https://localhost:8080/"
        }
      },
      "execution_count": 60,
      "outputs": [
        {
          "output_type": "execute_result",
          "data": {
            "text/plain": [
              "tensor([[-0.2000, -0.2000, -0.2000],\n",
              "        [ 1.0000,  2.0000,  2.0000]])"
            ]
          },
          "metadata": {},
          "execution_count": 60
        }
      ]
    },
    {
      "cell_type": "code",
      "source": [
        "t1 = torch.Tensor([1, 2])\n",
        "t2 = torch.Tensor([10, 20])\n",
        "\n",
        "dot_product = torch.dot(t1, t2)\n",
        "dot_product"
      ],
      "metadata": {
        "id": "45S7GTZFmig9",
        "outputId": "83d03628-cc16-407d-ab53-8852e7983c1d",
        "colab": {
          "base_uri": "https://localhost:8080/"
        }
      },
      "execution_count": 62,
      "outputs": [
        {
          "output_type": "execute_result",
          "data": {
            "text/plain": [
              "tensor(50.)"
            ]
          },
          "metadata": {},
          "execution_count": 62
        }
      ]
    },
    {
      "cell_type": "code",
      "source": [
        "matrix = torch.Tensor([[1,2,3],\n",
        "                       [4,5,6]])\n",
        "\n",
        "vector = torch.Tensor([0, 1, 2])\n",
        "\n",
        "matrix_vector = torch.mv(matrix, vector)\n",
        "matrix_vector"
      ],
      "metadata": {
        "id": "2paL6782xhA7",
        "outputId": "c2da60fd-0d15-4300-9cba-b639cc1025b7",
        "colab": {
          "base_uri": "https://localhost:8080/"
        }
      },
      "execution_count": 64,
      "outputs": [
        {
          "output_type": "execute_result",
          "data": {
            "text/plain": [
              "tensor([ 8., 17.])"
            ]
          },
          "metadata": {},
          "execution_count": 64
        }
      ]
    },
    {
      "cell_type": "code",
      "source": [
        "another_matrix = torch.Tensor([[10, 30],\n",
        "                       [20, 0],\n",
        "                       [0, 50]])\n",
        "\n",
        "matrix_mul = torch.mm(matrix, another_matrix)\n",
        "matrix_mul"
      ],
      "metadata": {
        "id": "jEdVBhegx3eD",
        "outputId": "d37758aa-ce0b-43b5-9687-346995b9abff",
        "colab": {
          "base_uri": "https://localhost:8080/"
        }
      },
      "execution_count": 65,
      "outputs": [
        {
          "output_type": "execute_result",
          "data": {
            "text/plain": [
              "tensor([[ 50., 180.],\n",
              "        [140., 420.]])"
            ]
          },
          "metadata": {},
          "execution_count": 65
        }
      ]
    },
    {
      "cell_type": "code",
      "source": [
        "torch.argmax(matrix_mul, dim=1)"
      ],
      "metadata": {
        "id": "nfqlrI4kzFFy",
        "outputId": "5dadc509-bdc6-44c0-8911-d12507a98003",
        "colab": {
          "base_uri": "https://localhost:8080/"
        }
      },
      "execution_count": 66,
      "outputs": [
        {
          "output_type": "execute_result",
          "data": {
            "text/plain": [
              "tensor([1, 1])"
            ]
          },
          "metadata": {},
          "execution_count": 66
        }
      ]
    },
    {
      "cell_type": "code",
      "source": [
        "torch.argmin(matrix_mul, dim=0)"
      ],
      "metadata": {
        "id": "jjFmyt1szRQm",
        "outputId": "e9ce4759-8cb0-4c19-d2a8-2157a17a1696",
        "colab": {
          "base_uri": "https://localhost:8080/"
        }
      },
      "execution_count": 67,
      "outputs": [
        {
          "output_type": "execute_result",
          "data": {
            "text/plain": [
              "tensor([0, 0])"
            ]
          },
          "metadata": {},
          "execution_count": 67
        }
      ]
    },
    {
      "cell_type": "code",
      "source": [
        ""
      ],
      "metadata": {
        "id": "jmpR97lozie9"
      },
      "execution_count": null,
      "outputs": []
    }
  ]
}