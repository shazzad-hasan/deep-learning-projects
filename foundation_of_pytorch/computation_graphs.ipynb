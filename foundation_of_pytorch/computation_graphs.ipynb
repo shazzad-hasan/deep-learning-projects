{
  "nbformat": 4,
  "nbformat_minor": 0,
  "metadata": {
    "colab": {
      "name": "computational_graph.ipynb",
      "provenance": [],
      "authorship_tag": "ABX9TyNGYy8kKP7eMCYIdnydqFbE",
      "include_colab_link": true
    },
    "kernelspec": {
      "name": "python3",
      "display_name": "Python 3"
    },
    "language_info": {
      "name": "python"
    }
  },
  "cells": [
    {
      "cell_type": "markdown",
      "metadata": {
        "id": "view-in-github",
        "colab_type": "text"
      },
      "source": [
        "<a href=\"https://colab.research.google.com/github/shazzad-hasan/pytorch-101/blob/main/foundation_of_pytorch/computation_graphs.ipynb\" target=\"_parent\"><img src=\"https://colab.research.google.com/assets/colab-badge.svg\" alt=\"Open In Colab\"/></a>"
      ]
    },
    {
      "cell_type": "code",
      "source": [
        "!pip install graphviz"
      ],
      "metadata": {
        "id": "Oiu9x-0WReAA"
      },
      "execution_count": null,
      "outputs": []
    },
    {
      "cell_type": "code",
      "source": [
        "!pip install hiddenlayer"
      ],
      "metadata": {
        "id": "9VNLVzEdRjqI"
      },
      "execution_count": null,
      "outputs": []
    },
    {
      "cell_type": "code",
      "execution_count": null,
      "metadata": {
        "id": "8r9V3B9ONj4l"
      },
      "outputs": [],
      "source": [
        "import torch\n",
        "import torch.nn as nn\n",
        "import hiddenlayer as hl\n",
        "\n",
        "import numpy as np"
      ]
    },
    {
      "cell_type": "code",
      "source": [
        "W = torch.randn(6)\n",
        "x = torch.tensor([10.0, 10.0, 10.0, 10.0, 10.0, 10.0])\n",
        "b = torch.tensor(3)"
      ],
      "metadata": {
        "id": "VNGQvf2JNxBE"
      },
      "execution_count": null,
      "outputs": []
    },
    {
      "cell_type": "code",
      "source": [
        "W"
      ],
      "metadata": {
        "id": "suyQmbsMO1Wk"
      },
      "execution_count": null,
      "outputs": []
    },
    {
      "cell_type": "code",
      "source": [
        "y = W*x+ b\n",
        "\n",
        "y"
      ],
      "metadata": {
        "id": "0KCk4pKVO7EA"
      },
      "execution_count": null,
      "outputs": []
    },
    {
      "cell_type": "code",
      "source": [
        "W*x"
      ],
      "metadata": {
        "id": "99QbrY_6PCoV"
      },
      "execution_count": null,
      "outputs": []
    },
    {
      "cell_type": "code",
      "source": [
        "b"
      ],
      "metadata": {
        "id": "RICkjzSPPCrk"
      },
      "execution_count": null,
      "outputs": []
    },
    {
      "cell_type": "code",
      "source": [
        "W1 = torch.tensor(6)\n",
        "W2 = torch.tensor(6)\n",
        "W3 = torch.tensor(6)\n",
        "\n",
        "x1 = torch.tensor([2, 2, 2])\n",
        "x2 = torch.tensor([3, 3, 3])\n",
        "x3 = torch.tensor([4, 4, 4])\n",
        "\n",
        "b = torch.tensor(10)"
      ],
      "metadata": {
        "id": "qf1uxczgPCuh"
      },
      "execution_count": null,
      "outputs": []
    },
    {
      "cell_type": "code",
      "source": [
        "W1, W2, W3"
      ],
      "metadata": {
        "id": "Kt3iFL7WP4Y2"
      },
      "execution_count": null,
      "outputs": []
    },
    {
      "cell_type": "code",
      "source": [
        "intermediate_value = W1 * x1 + W2 * x2\n",
        "\n",
        "intermediate_value"
      ],
      "metadata": {
        "id": "0GuynhYNQf3c"
      },
      "execution_count": null,
      "outputs": []
    },
    {
      "cell_type": "code",
      "source": [
        "final_value = W1 * x1 + W2 * x2 + W3 * x3 + b\n",
        "\n",
        "final_value"
      ],
      "metadata": {
        "id": "cVLjcc0EQxRu"
      },
      "execution_count": null,
      "outputs": []
    },
    {
      "cell_type": "code",
      "source": [
        "x_train = np.array([[1.7], [2.5], [5.5], [7.9], [8.8], [2.4],\n",
        "                    [2.4], [8.89], [5], [4.4]], dtype=np.float32)\n",
        "\n",
        "y_train = np.array([[1.9], [2.68], [4.22], [8.19], [9.69], [3.4],\n",
        "                    [2.6], [8.8], [5.6], [4.7]], dtype=np.float32)\n",
        "\n",
        "print(x_train.shape)\n",
        "print(y_train.shape)"
      ],
      "metadata": {
        "id": "LxjyhMkrRDCj"
      },
      "execution_count": null,
      "outputs": []
    },
    {
      "cell_type": "code",
      "source": [
        "input_size = 1\n",
        "output_size = 1\n",
        "hidden_size = 100"
      ],
      "metadata": {
        "id": "4K-gWohyYm7v"
      },
      "execution_count": null,
      "outputs": []
    },
    {
      "cell_type": "code",
      "source": [
        "model = torch.nn.Sequential(torch.nn.Linear(input_size, hidden_size),\n",
        "                            torch.nn.Linear(hidden_size, output_size))"
      ],
      "metadata": {
        "id": "dm8Hc7vNe5rX"
      },
      "execution_count": null,
      "outputs": []
    },
    {
      "cell_type": "code",
      "source": [
        "hl.build_graph(model, torch.zeros([10, 1]), transforms=[])"
      ],
      "metadata": {
        "id": "jvKL66vtatdu"
      },
      "execution_count": null,
      "outputs": []
    },
    {
      "cell_type": "code",
      "source": [
        ""
      ],
      "metadata": {
        "id": "iSNLqXTU1_Ha"
      },
      "execution_count": null,
      "outputs": []
    }
  ]
}