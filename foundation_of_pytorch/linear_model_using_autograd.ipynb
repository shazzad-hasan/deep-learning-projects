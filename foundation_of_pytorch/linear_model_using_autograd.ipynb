{
  "nbformat": 4,
  "nbformat_minor": 0,
  "metadata": {
    "colab": {
      "name": "linear_model_using_autograd.ipynb",
      "provenance": [],
      "authorship_tag": "ABX9TyOEjlzsDvKSP7WtsSa5zwmz",
      "include_colab_link": true
    },
    "kernelspec": {
      "name": "python3",
      "display_name": "Python 3"
    },
    "language_info": {
      "name": "python"
    }
  },
  "cells": [
    {
      "cell_type": "markdown",
      "metadata": {
        "id": "view-in-github",
        "colab_type": "text"
      },
      "source": [
        "<a href=\"https://colab.research.google.com/github/shazzad-hasan/practice-deep-learning-with-pytorch/blob/main/foundation_of_pytorch/linear_model_using_autograd.ipynb\" target=\"_parent\"><img src=\"https://colab.research.google.com/assets/colab-badge.svg\" alt=\"Open In Colab\"/></a>"
      ]
    },
    {
      "cell_type": "code",
      "execution_count": null,
      "metadata": {
        "id": "AwEsYt3xuQ3p"
      },
      "outputs": [],
      "source": [
        "import torch\n",
        "import numpy as np\n",
        "import matplotlib.pyplot as plt"
      ]
    },
    {
      "cell_type": "code",
      "source": [
        "x_train = np.array([[4.7], [2.4], [7.5], [7.1], [4.3], [7.8], [8.9], [5.2],\n",
        "                    [8.6], [2.1], [8.0], [10.0], [4.5], [6.2], [4.0]], dtype=np.float32)\n",
        "\n",
        "y_train = np.array([[2.6], [1.6], [3.09], [2.4], [2.5], [3.35], [2.6], [1.96],\n",
        "                    [3.53], [1.76], [3.2], [3.5], [1.6], [2.5], [2.2]], dtype=np.float32)"
      ],
      "metadata": {
        "id": "iS95yRK7xejt"
      },
      "execution_count": null,
      "outputs": []
    },
    {
      "cell_type": "code",
      "source": [
        "plt.figure(figsize=(8,5))\n",
        "plt.scatter(x_train, y_train, label=\"original data\")\n",
        "plt.legend()\n",
        "plt.show()"
      ],
      "metadata": {
        "colab": {
          "base_uri": "https://localhost:8080/",
          "height": 320
        },
        "id": "ENJMYbJ6xs4h",
        "outputId": "f283dba2-cd2b-4610-9692-bb7e7f0a63d1"
      },
      "execution_count": null,
      "outputs": [
        {
          "output_type": "display_data",
          "data": {
            "text/plain": [
              "<Figure size 576x360 with 1 Axes>"
            ],
            "image/png": "[encoded data removed]"
          },
          "metadata": {
            "needs_background": "light"
          }
        }
      ]
    },
    {
      "cell_type": "code",
      "source": [
        "X_train = torch.from_numpy(x_train)\n",
        "Y_train = torch.from_numpy(y_train)\n",
        "\n",
        "print(\"requires_grad for X_train: \", X_train.requires_grad)\n",
        "print(\"requires_grad for Y_train: \", Y_train.requires_grad)"
      ],
      "metadata": {
        "colab": {
          "base_uri": "https://localhost:8080/"
        },
        "id": "5OLi_vShxygl",
        "outputId": "fdeb7c96-9370-4459-c05c-988856675eff"
      },
      "execution_count": null,
      "outputs": [
        {
          "output_type": "stream",
          "name": "stdout",
          "text": [
            "requires_grad for X_train:  False\n",
            "requires_grad for Y_train:  False\n"
          ]
        }
      ]
    },
    {
      "cell_type": "code",
      "source": [
        "input_size = 1\n",
        "hidden_size = 1\n",
        "output_size = 1\n",
        "learning_rate = 0.001"
      ],
      "metadata": {
        "id": "hXkHdq8f07JR"
      },
      "execution_count": null,
      "outputs": []
    },
    {
      "cell_type": "code",
      "source": [
        "w1 = torch.rand(input_size, hidden_size, requires_grad=True)\n",
        "w1.shape"
      ],
      "metadata": {
        "colab": {
          "base_uri": "https://localhost:8080/"
        },
        "id": "UvY-qU4J1D5T",
        "outputId": "0b3f1e9e-7d3f-4f8c-c561-c41be6aa474e"
      },
      "execution_count": null,
      "outputs": [
        {
          "output_type": "execute_result",
          "data": {
            "text/plain": [
              "torch.Size([1, 1])"
            ]
          },
          "metadata": {},
          "execution_count": 102
        }
      ]
    },
    {
      "cell_type": "code",
      "source": [
        "w2 = torch.rand(hidden_size, output_size, requires_grad=True)\n",
        "w2.shape"
      ],
      "metadata": {
        "colab": {
          "base_uri": "https://localhost:8080/"
        },
        "id": "7MlSf0zW1QVi",
        "outputId": "4d046383-e211-4e48-c5f0-5be752cfc4dd"
      },
      "execution_count": null,
      "outputs": [
        {
          "output_type": "execute_result",
          "data": {
            "text/plain": [
              "torch.Size([1, 1])"
            ]
          },
          "metadata": {},
          "execution_count": 103
        }
      ]
    },
    {
      "cell_type": "code",
      "source": [
        "for i in range(1, 10):\n",
        "  y_pred = X_train.mm(w1).mm(w2)\n",
        "  loss = (y_pred - Y_train).pow(2).sum()\n",
        "\n",
        "  print(\"iter: {}  loss: {}\".format(i, loss))\n",
        "\n",
        "  loss.backward()\n",
        "\n",
        "  with torch.no_grad():\n",
        "    w1 -= learning_rate * w1.grad\n",
        "    w2 -= learning_rate * w2.grad\n",
        "    w1.grad.zero_()\n",
        "    w2.grad.zero_()"
      ],
      "metadata": {
        "colab": {
          "base_uri": "https://localhost:8080/"
        },
        "id": "mruKCnUl1grq",
        "outputId": "9f16a65d-6519-4845-b003-cc43e33d4a49"
      },
      "execution_count": null,
      "outputs": [
        {
          "output_type": "stream",
          "name": "stdout",
          "text": [
            "iter: 1  loss: 5.130121231079102\n",
            "iter: 2  loss: 4.236581325531006\n",
            "iter: 3  loss: 4.22458553314209\n",
            "iter: 4  loss: 4.224183559417725\n",
            "iter: 5  loss: 4.224172115325928\n",
            "iter: 6  loss: 4.2241716384887695\n",
            "iter: 7  loss: 4.2241716384887695\n",
            "iter: 8  loss: 4.2241716384887695\n",
            "iter: 9  loss: 4.2241716384887695\n"
          ]
        }
      ]
    },
    {
      "cell_type": "code",
      "source": [
        "print(\"w1: \", w1)\n",
        "print(\"w2: \", w2)"
      ],
      "metadata": {
        "colab": {
          "base_uri": "https://localhost:8080/"
        },
        "id": "-GGMYzOACJVi",
        "outputId": "5d3063df-7f80-4e15-c36a-ceefcb97e691"
      },
      "execution_count": null,
      "outputs": [
        {
          "output_type": "stream",
          "name": "stdout",
          "text": [
            "w1:  tensor([[0.4749]], requires_grad=True)\n",
            "w2:  tensor([[0.8350]], requires_grad=True)\n"
          ]
        }
      ]
    },
    {
      "cell_type": "code",
      "source": [
        "x_train_tensor = torch.from_numpy(x_train)\n",
        "x_train_tensor"
      ],
      "metadata": {
        "colab": {
          "base_uri": "https://localhost:8080/"
        },
        "id": "QuNLT0asCJYb",
        "outputId": "79535dec-212a-4e93-8a92-719849d21387"
      },
      "execution_count": null,
      "outputs": [
        {
          "output_type": "execute_result",
          "data": {
            "text/plain": [
              "tensor([[ 4.7000],\n",
              "        [ 2.4000],\n",
              "        [ 7.5000],\n",
              "        [ 7.1000],\n",
              "        [ 4.3000],\n",
              "        [ 7.8000],\n",
              "        [ 8.9000],\n",
              "        [ 5.2000],\n",
              "        [ 8.6000],\n",
              "        [ 2.1000],\n",
              "        [ 8.0000],\n",
              "        [10.0000],\n",
              "        [ 4.5000],\n",
              "        [ 6.2000],\n",
              "        [ 4.0000]])"
            ]
          },
          "metadata": {},
          "execution_count": 106
        }
      ]
    },
    {
      "cell_type": "code",
      "source": [
        "predicted_in_tensor = x_train_tensor.mm(w1).mm(w2)\n",
        "predicted_in_tensor"
      ],
      "metadata": {
        "colab": {
          "base_uri": "https://localhost:8080/"
        },
        "id": "f9VWLqDlCJbX",
        "outputId": "9e777089-ff97-4244-9d90-9d961667ac0d"
      },
      "execution_count": null,
      "outputs": [
        {
          "output_type": "execute_result",
          "data": {
            "text/plain": [
              "tensor([[1.8636],\n",
              "        [0.9516],\n",
              "        [2.9739],\n",
              "        [2.8153],\n",
              "        [1.7050],\n",
              "        [3.0928],\n",
              "        [3.5290],\n",
              "        [2.0619],\n",
              "        [3.4100],\n",
              "        [0.8327],\n",
              "        [3.1721],\n",
              "        [3.9652],\n",
              "        [1.7843],\n",
              "        [2.4584],\n",
              "        [1.5861]], grad_fn=<MmBackward0>)"
            ]
          },
          "metadata": {},
          "execution_count": 107
        }
      ]
    },
    {
      "cell_type": "code",
      "source": [
        "predicted = predicted_in_tensor.detach().numpy()\n",
        "predicted"
      ],
      "metadata": {
        "colab": {
          "base_uri": "https://localhost:8080/"
        },
        "id": "Rt_OhedyF-kj",
        "outputId": "fa93482f-8537-4f4a-f39a-447c79387c56"
      },
      "execution_count": null,
      "outputs": [
        {
          "output_type": "execute_result",
          "data": {
            "text/plain": [
              "array([[1.8636311 ],\n",
              "       [0.9516415 ],\n",
              "       [2.9738798 ],\n",
              "       [2.8152728 ],\n",
              "       [1.7050245 ],\n",
              "       [3.092835  ],\n",
              "       [3.5290039 ],\n",
              "       [2.06189   ],\n",
              "       [3.410049  ],\n",
              "       [0.83268625],\n",
              "       [3.1721385 ],\n",
              "       [3.9651728 ],\n",
              "       [1.7843277 ],\n",
              "       [2.4584072 ],\n",
              "       [1.5860692 ]], dtype=float32)"
            ]
          },
          "metadata": {},
          "execution_count": 108
        }
      ]
    },
    {
      "cell_type": "code",
      "source": [
        "plt.figure(figsize=(8,5))\n",
        "plt.scatter(x_train, y_train, label=\"original data\", c='b')\n",
        "plt.plot(x_train, predicted, label=\"Fitter line\", c='g')\n",
        "plt.legend()\n",
        "plt.show()"
      ],
      "metadata": {
        "colab": {
          "base_uri": "https://localhost:8080/",
          "height": 320
        },
        "id": "DPSTdrdNGKvA",
        "outputId": "192af37b-22cf-44f3-b262-b01e5d4cb070"
      },
      "execution_count": null,
      "outputs": [
        {
          "output_type": "display_data",
          "data": {
            "text/plain": [
              "<Figure size 576x360 with 1 Axes>"
            ],
            "image/png": "[encoded data removed]"
          },
          "metadata": {
            "needs_background": "light"
          }
        }
      ]
    },
    {
      "cell_type": "code",
      "source": [],
      "metadata": {
        "id": "V6DoiqsUGKyJ"
      },
      "execution_count": null,
      "outputs": []
    }
  ]
}