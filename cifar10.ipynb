{
  "nbformat": 4,
  "nbformat_minor": 0,
  "metadata": {
    "colab": {
      "name": "cifar10.ipynb",
      "provenance": [],
      "machine_shape": "hm",
      "authorship_tag": "ABX9TyMsTjatsbcQuwWogkq6Rsc8",
      "include_colab_link": true
    },
    "kernelspec": {
      "name": "python3",
      "display_name": "Python 3"
    },
    "language_info": {
      "name": "python"
    },
    "accelerator": "GPU"
  },
  "cells": [
    {
      "cell_type": "markdown",
      "metadata": {
        "id": "view-in-github",
        "colab_type": "text"
      },
      "source": [
        "<a href=\"https://colab.research.google.com/github/shazzad-hasan/practice-deep-learning-with-pytorch/blob/main/cifar10.ipynb\" target=\"_parent\"><img src=\"https://colab.research.google.com/assets/colab-badge.svg\" alt=\"Open In Colab\"/></a>"
      ]
    },
    {
      "cell_type": "markdown",
      "source": [
        "In this notebook, we will train a ConvNet to classify images from the [CIFAR-10](https://www.cs.toronto.edu/~kriz/cifar.html) database. The CIFAR-10 dataset consists of 60000 32x32 colour images in 10 classes (airplane, automobile,bird, cat, deer,dog, frog, horse, ship, truck), with 6000 images per class. There are 50000 training images and 10000 test images.\n",
        "\n",
        "The process will be broken down into the following steps:\n",
        "\n",
        "    1. Load and visualize the dataset\n",
        "    2. Define a neural network\n",
        "    3. Define a Loss function and optimizer\n",
        "    4. Train the model on the training dataset\n",
        "    5. Evaluate the performance of the trained model on the test dataset"
      ],
      "metadata": {
        "id": "QpkSmFBNkTRI"
      }
    },
    {
      "cell_type": "code",
      "source": [
        "# import required libraries\n",
        "import torch\n",
        "import torchvision\n",
        "\n",
        "import numpy as np\n",
        "import matplotlib.pyplot as plt\n",
        "%matplotlib inline"
      ],
      "metadata": {
        "id": "z-oXR6C9lD4v"
      },
      "execution_count": 1,
      "outputs": []
    },
    {
      "cell_type": "code",
      "source": [
        "# check if cuda in available\n",
        "train_on_gpu = torch.cuda.is_available()\n",
        "\n",
        "if not train_on_gpu:\n",
        "  print(\"CUDA is not available\")\n",
        "else:\n",
        "  print(\"CUDA is available\")\n",
        "\n",
        "device = torch.device('cuda') if train_on_gpu else torch.device('cpu')"
      ],
      "metadata": {
        "colab": {
          "base_uri": "https://localhost:8080/"
        },
        "id": "6oj1ub4F8z94",
        "outputId": "91005aab-d339-47f9-d505-76b386edfd7d"
      },
      "execution_count": 2,
      "outputs": [
        {
          "output_type": "stream",
          "name": "stdout",
          "text": [
            "CUDA is available\n"
          ]
        }
      ]
    },
    {
      "cell_type": "markdown",
      "source": [
        "### Load and visualize the dataset"
      ],
      "metadata": {
        "id": "alb7Q-PdnHDK"
      }
    },
    {
      "cell_type": "code",
      "source": [
        "from torchvision import datasets\n",
        "import torchvision.transforms as transforms\n",
        "from torch.utils.data.sampler import SubsetRandomSampler\n",
        "\n",
        "\n",
        "# convert the data to a normalized torch.FloatTensor\n",
        "transform = transforms.Compose([\n",
        "        transforms.ToTensor(),\n",
        "        transforms.Normalize((0.5, 0.5, 0.5),(0.5, 0.5, 0.5))])\n",
        "\n",
        "# choose the training and test dataset\n",
        "train_data = datasets.CIFAR10(root=\"./data\", train=True, download=True, transform=transform)\n",
        "test_data = datasets.CIFAR10(root=\"./data\", train=False, download=True, transform=transform)\n",
        "\n",
        "# obtain training indices for creating a validation dataset\n",
        "num_train = len(train_data)\n",
        "indices = list(range(num_train))\n",
        "np.random.shuffle(indices)\n",
        "# choose percentage of training data for validation\n",
        "valid_size = 0.2\n",
        "split = int(np.floor(valid_size * num_train))\n",
        "train_idx, valid_idx = indices[split:], indices[:split]\n",
        "\n",
        "# define samplers for obtaining training and validation batches\n",
        "train_sampler = SubsetRandomSampler(train_idx)\n",
        "valid_sampler = SubsetRandomSampler(valid_idx)\n",
        "\n",
        "# number of subprocesses to use for data loading\n",
        "num_workers = 0\n",
        "# how many samples per batch to load\n",
        "batch_size = 20\n",
        "\n",
        "\n",
        "# prepare train, test and valid data loaders\n",
        "train_loader = torch.utils.data.DataLoader(train_data, batch_size, sampler=train_sampler, num_workers=num_workers)\n",
        "valid_loader = torch.utils.data.DataLoader(train_data, batch_size, sampler=valid_sampler, num_workers=num_workers)\n",
        "test_loader = torch.utils.data.DataLoader(test_data, batch_size, num_workers=num_workers)\n",
        "\n",
        "# specify image classes in the dataset\n",
        "classes = ['airplane', 'automobile', 'bird', 'cat', 'deer', 'dog', 'frog', 'horse', 'ship', 'truck']"
      ],
      "metadata": {
        "id": "3NULsF2tpS1u",
        "outputId": "aea9a7f2-c981-43e3-8fe9-9aa0e49a89e5",
        "colab": {
          "base_uri": "https://localhost:8080/"
        }
      },
      "execution_count": 3,
      "outputs": [
        {
          "output_type": "stream",
          "name": "stdout",
          "text": [
            "Files already downloaded and verified\n",
            "Files already downloaded and verified\n"
          ]
        }
      ]
    },
    {
      "cell_type": "code",
      "source": [
        "# visualize a batch of training data\n",
        "\n",
        "def imshow(img):\n",
        "  # unnormalize\n",
        "  img = img / 2 + 0.5\n",
        "  # convert from Tensor to image\n",
        "  plt.imshow(np.transpose(img, (1,2,0)))\n",
        "\n",
        "# obtain one batch on training images\n",
        "dataiter = iter(train_loader)\n",
        "images, labels = dataiter.next()\n",
        "# convert images to numpy for display\n",
        "images = images.numpy() \n",
        "\n",
        "# plot the images in the batch along with the corresponding labels\n",
        "fig = plt.figure(figsize=(10,4))\n",
        "# display 10 images\n",
        "for ind in np.arange(10):\n",
        "  ax = fig.add_subplot(2, 10/2, ind+1, xticks=[], yticks=[])\n",
        "  imshow(images[ind])\n",
        "  ax.set_title(classes[labels[ind]])"
      ],
      "metadata": {
        "id": "aBXdccVRpS9M",
        "outputId": "a247c918-3fbc-4ab6-ce4c-081215368bb5",
        "colab": {
          "base_uri": "https://localhost:8080/",
          "height": 265
        }
      },
      "execution_count": 4,
      "outputs": [
        {
          "output_type": "display_data",
          "data": {
            "text/plain": [
              "<Figure size 720x288 with 10 Axes>"
            ],
            "image/png": "[encoded data removed]"
          },
          "metadata": {}
        }
      ]
    },
    {
      "cell_type": "markdown",
      "source": [
        "### Define a neural network"
      ],
      "metadata": {
        "id": "juppJfF8_H6t"
      }
    },
    {
      "cell_type": "code",
      "source": [
        "import torch.nn as nn\n",
        "import torch.nn.functional as F\n",
        "\n",
        "class Net(nn.Module):\n",
        "  def __init__(self):\n",
        "    super(Net, self).__init__()\n",
        "    self.conv1 = nn.Conv2d(3, 16, 3, padding=1)  # (sees 32x32x3 image tensor)\n",
        "    self.conv2 = nn.Conv2d(16, 32, 3, padding=1) # (sees 16x16x16 tensor)\n",
        "    self.conv3 = nn.Conv2d(32, 64, 3, padding=1) # (sees 8x8x32 tensor)\n",
        "\n",
        "    self.pool = nn.MaxPool2d(2, 2)\n",
        "    self.fc1 = nn.Linear(64*4*4, 500) \n",
        "    self.fc2 = nn.Linear(500, 10)\n",
        "    self.dropout = nn.Dropout(0.25)\n",
        "\n",
        "  def forward(self, x):\n",
        "    x = self.pool(F.relu(self.conv1(x)))\n",
        "    x = self.pool(F.relu(self.conv2(x)))\n",
        "    x = self.pool(F.relu(self.conv3(x)))\n",
        "\n",
        "    # flatten image input\n",
        "    x = x.view(-1, 64*4*4)\n",
        "    x = self.dropout(x)\n",
        "    x = F.relu(self.fc1(x))\n",
        "    x = self.dropout(x)\n",
        "    x = self.fc2(x)\n",
        "    return x\n",
        "\n",
        "model = Net()\n",
        "model.to(device)\n",
        "\n",
        "print(model)"
      ],
      "metadata": {
        "id": "TNlqCWWLpTAS",
        "outputId": "52b33921-8e9e-424f-97ca-a4ba18f62bbe",
        "colab": {
          "base_uri": "https://localhost:8080/"
        }
      },
      "execution_count": 5,
      "outputs": [
        {
          "output_type": "stream",
          "name": "stdout",
          "text": [
            "Net(\n",
            "  (conv1): Conv2d(3, 16, kernel_size=(3, 3), stride=(1, 1), padding=(1, 1))\n",
            "  (conv2): Conv2d(16, 32, kernel_size=(3, 3), stride=(1, 1), padding=(1, 1))\n",
            "  (conv3): Conv2d(32, 64, kernel_size=(3, 3), stride=(1, 1), padding=(1, 1))\n",
            "  (pool): MaxPool2d(kernel_size=2, stride=2, padding=0, dilation=1, ceil_mode=False)\n",
            "  (fc1): Linear(in_features=1024, out_features=500, bias=True)\n",
            "  (fc2): Linear(in_features=500, out_features=10, bias=True)\n",
            "  (dropout): Dropout(p=0.25, inplace=False)\n",
            ")\n"
          ]
        }
      ]
    },
    {
      "cell_type": "markdown",
      "source": [
        "### Define loss function and optimizer"
      ],
      "metadata": {
        "id": "5QraxtTVK9SC"
      }
    },
    {
      "cell_type": "code",
      "source": [
        "import torch.optim as optim\n",
        "\n",
        "criterion = nn.CrossEntropyLoss()\n",
        "\n",
        "optimizer = optim.SGD(model.parameters(), lr=0.01)"
      ],
      "metadata": {
        "id": "bX9bUGtMK8o9"
      },
      "execution_count": 6,
      "outputs": []
    },
    {
      "cell_type": "markdown",
      "source": [
        "### Train the model on the training dataset"
      ],
      "metadata": {
        "id": "zs4jSUvcLh58"
      }
    },
    {
      "cell_type": "code",
      "source": [
        "# helper function to calculate accuracy\n",
        "def calc_acc(loader):\n",
        "  correct, total = 0, 0\n",
        "  for inputs, targets in loader:\n",
        "    inputs, targets = inputs.to(device), targets.to(device)\n",
        "  outputs = model(inputs)\n",
        "  # the class with the highest energy is what we choose as prediction\n",
        "  _, predicted = torch.max(outputs, 1)\n",
        "  total += targets.size(0)\n",
        "  correct += (predicted==targets).sum().item()\n",
        "  return ((100 * correct)/ total)"
      ],
      "metadata": {
        "id": "fRq6wOf7-cEP"
      },
      "execution_count": 7,
      "outputs": []
    },
    {
      "cell_type": "code",
      "source": [
        "def training(epochs):\n",
        "  train_loss, valid_loss = [], []\n",
        "  train_acc, valid_acc = [], []\n",
        "\n",
        "  # initialize trackers for min validation loss\n",
        "  min_valid_loss = np.inf\n",
        "\n",
        "  for epoch in range(epochs):\n",
        "    running_train_loss = 0.0\n",
        "    running_valid_loss = 0.0\n",
        "\n",
        "    #--------- train the model -----------\n",
        "    # prepare model for training\n",
        "    model.train()\n",
        "    for batch_idx, data in enumerate(train_loader):\n",
        "      inputs, targets = data\n",
        "      inputs, targets = inputs.to(device), targets.to(device)\n",
        "      # clear the gradients of all optimized variables\n",
        "      optimizer.zero_grad()\n",
        "      # forward pass\n",
        "      outputs = model(inputs)\n",
        "      # calculate the batch loss\n",
        "      loss = criterion(outputs, targets)\n",
        "      # backward loss\n",
        "      loss.backward()\n",
        "      # perform a single step\n",
        "      optimizer.step()\n",
        "      # update training loss\n",
        "      running_train_loss += loss.item() \n",
        "\n",
        "    # ---------- validate the model ----------\n",
        "    model.eval()\n",
        "    for batch_idx, data in enumerate(valid_loader):\n",
        "      inputs, targets = data\n",
        "      inputs, targets = inputs.to(device), targets.to(device)\n",
        "      # forward pass\n",
        "      outputs = model(inputs)\n",
        "      # calculate the batch loss\n",
        "      loss = criterion(outputs, targets)\n",
        "      # update validation loss\n",
        "      running_valid_loss += loss.item()\n",
        "\n",
        "    \n",
        "    # calculate average losses over an epoch\n",
        "    running_train_loss = running_train_loss / len(train_loader)\n",
        "    running_valid_loss = running_valid_loss / len(valid_loader)\n",
        "\n",
        "    train_loss.append(running_train_loss)\n",
        "    valid_loss.append(running_valid_loss)\n",
        "\n",
        "    train_acc.append(calc_acc(train_loader))\n",
        "    valid_acc.append(calc_acc(valid_loader))\n",
        "\n",
        "    print(\"Epochs: {} \\tTraining loss: {:.6f} \\tValidation loss: {:.6f}\".format(epoch+1, running_train_loss, running_valid_loss))\n",
        "\n",
        "    # save model if validation loss has decreased\n",
        "    if running_valid_loss <= min_valid_loss:\n",
        "      print(\"Validation loss decreased ({:.6f} --> {:.6f}). Saving model ... \".format(\n",
        "          min_valid_loss, running_valid_loss\n",
        "      ))\n",
        "\n",
        "      torch.save(model.state_dict(), 'model.pt')\n",
        "      min_valid_loss = running_valid_loss\n",
        "\n",
        "  print(\"Finished training!\")\n",
        "\n",
        "  return train_loss, valid_loss, train_acc, valid_acc"
      ],
      "metadata": {
        "id": "uVx5ATfppTXw"
      },
      "execution_count": 8,
      "outputs": []
    },
    {
      "cell_type": "code",
      "source": [
        "import time\n",
        "\n",
        "num_epochs = 30\n",
        "\n",
        "start = time.time()\n",
        "train_loss, valid_loss, train_acc, valid_acc = training(num_epochs)\n",
        "end = time.time()\n",
        "\n",
        "print(\"%0.2f Minutes\" % ((end - start)/60))"
      ],
      "metadata": {
        "id": "OKTz74hwAxFF",
        "outputId": "0937e71a-5294-45c2-a52c-58f8c4890136",
        "colab": {
          "base_uri": "https://localhost:8080/"
        }
      },
      "execution_count": 9,
      "outputs": [
        {
          "output_type": "stream",
          "name": "stdout",
          "text": [
            "Epochs: 1 \tTraining loss: 2.064426 \tValidation loss: 1.808883\n",
            "Validation loss decreased (inf --> 1.808883). Saving model ... \n",
            "Epochs: 2 \tTraining loss: 1.668337 \tValidation loss: 1.516200\n",
            "Validation loss decreased (1.808883 --> 1.516200). Saving model ... \n",
            "Epochs: 3 \tTraining loss: 1.470021 \tValidation loss: 1.349303\n",
            "Validation loss decreased (1.516200 --> 1.349303). Saving model ... \n",
            "Epochs: 4 \tTraining loss: 1.355505 \tValidation loss: 1.276846\n",
            "Validation loss decreased (1.349303 --> 1.276846). Saving model ... \n",
            "Epochs: 5 \tTraining loss: 1.253562 \tValidation loss: 1.185886\n",
            "Validation loss decreased (1.276846 --> 1.185886). Saving model ... \n",
            "Epochs: 6 \tTraining loss: 1.172012 \tValidation loss: 1.102645\n",
            "Validation loss decreased (1.185886 --> 1.102645). Saving model ... \n",
            "Epochs: 7 \tTraining loss: 1.101494 \tValidation loss: 1.061001\n",
            "Validation loss decreased (1.102645 --> 1.061001). Saving model ... \n",
            "Epochs: 8 \tTraining loss: 1.038777 \tValidation loss: 1.005884\n",
            "Validation loss decreased (1.061001 --> 1.005884). Saving model ... \n",
            "Epochs: 9 \tTraining loss: 0.989075 \tValidation loss: 0.941558\n",
            "Validation loss decreased (1.005884 --> 0.941558). Saving model ... \n",
            "Epochs: 10 \tTraining loss: 0.940947 \tValidation loss: 0.933553\n",
            "Validation loss decreased (0.941558 --> 0.933553). Saving model ... \n",
            "Epochs: 11 \tTraining loss: 0.900878 \tValidation loss: 0.904022\n",
            "Validation loss decreased (0.933553 --> 0.904022). Saving model ... \n",
            "Epochs: 12 \tTraining loss: 0.859282 \tValidation loss: 0.886108\n",
            "Validation loss decreased (0.904022 --> 0.886108). Saving model ... \n",
            "Epochs: 13 \tTraining loss: 0.823187 \tValidation loss: 0.839130\n",
            "Validation loss decreased (0.886108 --> 0.839130). Saving model ... \n",
            "Epochs: 14 \tTraining loss: 0.783033 \tValidation loss: 0.856283\n",
            "Epochs: 15 \tTraining loss: 0.752225 \tValidation loss: 0.799667\n",
            "Validation loss decreased (0.839130 --> 0.799667). Saving model ... \n",
            "Epochs: 16 \tTraining loss: 0.721760 \tValidation loss: 0.807196\n",
            "Epochs: 17 \tTraining loss: 0.690869 \tValidation loss: 0.797798\n",
            "Validation loss decreased (0.799667 --> 0.797798). Saving model ... \n",
            "Epochs: 18 \tTraining loss: 0.666162 \tValidation loss: 0.768691\n",
            "Validation loss decreased (0.797798 --> 0.768691). Saving model ... \n",
            "Epochs: 19 \tTraining loss: 0.641951 \tValidation loss: 0.768996\n",
            "Epochs: 20 \tTraining loss: 0.614609 \tValidation loss: 0.763768\n",
            "Validation loss decreased (0.768691 --> 0.763768). Saving model ... \n",
            "Epochs: 21 \tTraining loss: 0.587785 \tValidation loss: 0.768069\n",
            "Epochs: 22 \tTraining loss: 0.567751 \tValidation loss: 0.745808\n",
            "Validation loss decreased (0.763768 --> 0.745808). Saving model ... \n",
            "Epochs: 23 \tTraining loss: 0.546084 \tValidation loss: 0.743499\n",
            "Validation loss decreased (0.745808 --> 0.743499). Saving model ... \n",
            "Epochs: 24 \tTraining loss: 0.522345 \tValidation loss: 0.762830\n",
            "Epochs: 25 \tTraining loss: 0.501060 \tValidation loss: 0.764864\n",
            "Epochs: 26 \tTraining loss: 0.479791 \tValidation loss: 0.762846\n",
            "Epochs: 27 \tTraining loss: 0.459705 \tValidation loss: 0.748714\n",
            "Epochs: 28 \tTraining loss: 0.441801 \tValidation loss: 0.762889\n",
            "Epochs: 29 \tTraining loss: 0.424468 \tValidation loss: 0.740794\n",
            "Validation loss decreased (0.743499 --> 0.740794). Saving model ... \n",
            "Epochs: 30 \tTraining loss: 0.404674 \tValidation loss: 0.771522\n",
            "Finished training!\n",
            "12.39 Minutes\n"
          ]
        }
      ]
    },
    {
      "cell_type": "code",
      "source": [
        "epochs = range(1, num_epochs+1)\n",
        "plt.plot(epochs, train_loss, 'bo', label=\"Training loss\")\n",
        "plt.plot(epochs, valid_loss, 'b', label=\"Validation loss\")\n",
        "\n",
        "plt.figure()\n",
        "\n",
        "plt.plot(epochs, train_acc, 'bo', label=\"Training accuracy\")\n",
        "plt.plot(epochs, valid_acc, 'b', label=\"Validation accuracy\")\n",
        "plt.show()"
      ],
      "metadata": {
        "id": "OPnVE9BdG02j",
        "outputId": "62adc512-3bf4-40af-8b43-a909ea5ff1bb",
        "colab": {
          "base_uri": "https://localhost:8080/",
          "height": 513
        }
      },
      "execution_count": 13,
      "outputs": [
        {
          "output_type": "display_data",
          "data": {
            "text/plain": [
              "<Figure size 432x288 with 1 Axes>"
            ],
            "image/png": "[encoded data removed]"
          },
          "metadata": {
            "needs_background": "light"
          }
        },
        {
          "output_type": "display_data",
          "data": {
            "text/plain": [
              "<Figure size 432x288 with 1 Axes>"
            ],
            "image/png": "[encoded data removed]"
          },
          "metadata": {
            "needs_background": "light"
          }
        }
      ]
    },
    {
      "cell_type": "markdown",
      "source": [
        "### Evaluate the performance of the trained model on the test dataset"
      ],
      "metadata": {
        "id": "jPkh0neBGV40"
      }
    },
    {
      "cell_type": "code",
      "source": [
        "# load the model with the lowest validation loss\n",
        "model.load_state_dict(torch.load('model.pt'))"
      ],
      "metadata": {
        "id": "ue1TH48ZGUjg",
        "outputId": "bfb04be6-0b16-4a51-f5a5-11beb3e4c42c",
        "colab": {
          "base_uri": "https://localhost:8080/"
        }
      },
      "execution_count": 10,
      "outputs": [
        {
          "output_type": "execute_result",
          "data": {
            "text/plain": [
              "<All keys matched successfully>"
            ]
          },
          "metadata": {},
          "execution_count": 10
        }
      ]
    },
    {
      "cell_type": "code",
      "source": [
        ""
      ],
      "metadata": {
        "id": "WYc4yTlmGUow"
      },
      "execution_count": null,
      "outputs": []
    },
    {
      "cell_type": "code",
      "source": [
        ""
      ],
      "metadata": {
        "id": "f8JN7LIrGUu5"
      },
      "execution_count": null,
      "outputs": []
    }
  ]
}