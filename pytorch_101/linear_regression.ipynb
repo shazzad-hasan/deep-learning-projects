{
  "nbformat": 4,
  "nbformat_minor": 0,
  "metadata": {
    "colab": {
      "name": "linear_regression.ipynb",
      "provenance": [],
      "collapsed_sections": [],
      "machine_shape": "hm"
    },
    "kernelspec": {
      "name": "python3",
      "display_name": "Python 3"
    },
    "language_info": {
      "name": "python"
    },
    "accelerator": "GPU"
  },
  "cells": [
    {
      "cell_type": "code",
      "execution_count": 1,
      "metadata": {
        "id": "VSfHomQ56Vt7"
      },
      "outputs": [],
      "source": [
        "# import required libraries\n",
        "import torch\n",
        "import numpy as np\n",
        "import matplotlib.pyplot as plt\n",
        "\n",
        "from sklearn.datasets import make_classification\n",
        "from sklearn.model_selection import train_test_split\n",
        "from sklearn import metrics\n",
        "\n",
        "%matplotlib inline"
      ]
    },
    {
      "cell_type": "code",
      "source": [
        "# create a custom dataset\n",
        "class CustomDataset(torch.utils.data.Dataset):\n",
        "  def __init__(self, data, targets):\n",
        "    self.data = data\n",
        "    self.targets = targets\n",
        "\n",
        "  def __len__(self):\n",
        "    return self.data.shape[0]\n",
        "\n",
        "  def __getitem__(self, idx):\n",
        "    current_sample = self.data[idx, :]\n",
        "    current_target = self.targets[idx]\n",
        "    d = {}\n",
        "    d[\"x\"] = torch.tensor(current_sample, dtype=torch.float)\n",
        "    d[\"y\"] = torch.tensor(current_target, dtype=torch.long)\n",
        "    return d"
      ],
      "metadata": {
        "id": "g8o8uqK168D9"
      },
      "execution_count": 2,
      "outputs": []
    },
    {
      "cell_type": "code",
      "source": [
        "data, targets = make_classification(n_samples=1000)\n",
        "\n",
        "train_x, test_x, train_y, test_y = train_test_split(data, targets, stratify=targets)"
      ],
      "metadata": {
        "id": "nzGIab0c9M1D"
      },
      "execution_count": 3,
      "outputs": []
    },
    {
      "cell_type": "code",
      "source": [
        "train_x.shape"
      ],
      "metadata": {
        "colab": {
          "base_uri": "https://localhost:8080/"
        },
        "id": "wOY5KKPCjkZt",
        "outputId": "aa6acf94-92d2-4d91-9527-e9d0d473f754"
      },
      "execution_count": 4,
      "outputs": [
        {
          "output_type": "execute_result",
          "data": {
            "text/plain": [
              "(750, 20)"
            ]
          },
          "metadata": {},
          "execution_count": 4
        }
      ]
    },
    {
      "cell_type": "code",
      "source": [
        "print(test_x.shape)"
      ],
      "metadata": {
        "colab": {
          "base_uri": "https://localhost:8080/"
        },
        "id": "G3icCkwNkDIP",
        "outputId": "93449e85-4137-48a1-ba96-d26ab44dd21d"
      },
      "execution_count": 5,
      "outputs": [
        {
          "output_type": "stream",
          "name": "stdout",
          "text": [
            "(250, 20)\n"
          ]
        }
      ]
    },
    {
      "cell_type": "code",
      "source": [
        "train_data = CustomDataset(train_x, train_y)\n",
        "test_data = CustomDataset(test_x, test_y)"
      ],
      "metadata": {
        "id": "0IuxrRwT-Mim"
      },
      "execution_count": 6,
      "outputs": []
    },
    {
      "cell_type": "code",
      "source": [
        "batch_size = 4\n",
        "num_workers = 2\n",
        "\n",
        "train_loader = torch.utils.data.DataLoader(train_data, batch_size=batch_size, num_workers=num_workers)\n",
        "test_loader = torch.utils.data.DataLoader(test_data, batch_size=batch_size, num_workers=num_workers)"
      ],
      "metadata": {
        "id": "Gk1QRCAC-gex"
      },
      "execution_count": 7,
      "outputs": []
    },
    {
      "cell_type": "code",
      "source": [
        "model = lambda x, w, b: torch.matmul(x,W) + b"
      ],
      "metadata": {
        "id": "GMFHnhU3_Qdw"
      },
      "execution_count": 8,
      "outputs": []
    },
    {
      "cell_type": "code",
      "source": [
        "W = torch.randn(20, 1, requires_grad=True)\n",
        "b = torch.randn(1, requires_grad = True)\n",
        "lr = 0.001\n",
        "num_epochs = 20\n",
        "\n",
        "train_losses = []\n",
        "\n",
        "for epochs in range(num_epochs):\n",
        "  train_loss = 0.0\n",
        "  counter = 0\n",
        "  for data in train_loader:\n",
        "    inputs = data[\"x\"]\n",
        "    labels = data[\"y\"]\n",
        "\n",
        "    outputs = model(inputs, W, b)\n",
        "    loss = torch.mean((labels.view(-1) - outputs.view(-1))**2)\n",
        "    train_loss += loss.item()\n",
        "    loss.backward() \n",
        "\n",
        "    with torch.no_grad():\n",
        "      W = W - lr * W.grad\n",
        "      b = b - lr * b.grad\n",
        "    \n",
        "    W.requires_grad_(True)\n",
        "    b.requires_grad_(True)\n",
        "\n",
        "    counter += 1\n",
        "\n",
        "  train_losses.append(train_loss)\n",
        "  print(\"Epoch: {} ------> Training Loss: {:0.6f}\".format(epochs+1, train_loss/counter))\n"
      ],
      "metadata": {
        "colab": {
          "base_uri": "https://localhost:8080/"
        },
        "id": "4drDcxji_YSx",
        "outputId": "49e967fd-be47-489e-bd4c-ed58ee3c0e82"
      },
      "execution_count": 9,
      "outputs": [
        {
          "output_type": "stream",
          "name": "stdout",
          "text": [
            "Epoch: 1 ------> Training Loss: 22.026894\n",
            "Epoch: 2 ------> Training Loss: 9.861369\n",
            "Epoch: 3 ------> Training Loss: 4.800403\n",
            "Epoch: 4 ------> Training Loss: 2.414897\n",
            "Epoch: 5 ------> Training Loss: 1.253491\n",
            "Epoch: 6 ------> Training Loss: 0.678995\n",
            "Epoch: 7 ------> Training Loss: 0.391182\n",
            "Epoch: 8 ------> Training Loss: 0.245301\n",
            "Epoch: 9 ------> Training Loss: 0.170548\n",
            "Epoch: 10 ------> Training Loss: 0.131851\n",
            "Epoch: 11 ------> Training Loss: 0.111630\n",
            "Epoch: 12 ------> Training Loss: 0.100971\n",
            "Epoch: 13 ------> Training Loss: 0.095308\n",
            "Epoch: 14 ------> Training Loss: 0.092278\n",
            "Epoch: 15 ------> Training Loss: 0.090646\n",
            "Epoch: 16 ------> Training Loss: 0.089762\n",
            "Epoch: 17 ------> Training Loss: 0.089281\n",
            "Epoch: 18 ------> Training Loss: 0.089017\n",
            "Epoch: 19 ------> Training Loss: 0.088873\n",
            "Epoch: 20 ------> Training Loss: 0.088793\n"
          ]
        }
      ]
    },
    {
      "cell_type": "code",
      "source": [
        "# plot the loss for each epochs\n",
        "epochs = range(1, num_epochs+1)\n",
        "plt.plot(epochs, train_losses, 'bo')\n",
        "plt.xlabel(\"epochs\")\n",
        "plt.ylabel(\"Training loss\")\n",
        "plt.show()"
      ],
      "metadata": {
        "colab": {
          "base_uri": "https://localhost:8080/",
          "height": 279
        },
        "id": "92zkG-uENlAA",
        "outputId": "d134bab4-798a-4815-ccdd-addee52c88ef"
      },
      "execution_count": 10,
      "outputs": [
        {
          "output_type": "display_data",
          "data": {
            "text/plain": [
              "<Figure size 432x288 with 1 Axes>"
            ],
            "image/png": "[encoded data removed]"
          },
          "metadata": {
            "needs_background": "light"
          }
        }
      ]
    },
    {
      "cell_type": "code",
      "source": [
        "predictions = []\n",
        "targets = []\n",
        "with torch.no_grad():\n",
        "  for data in test_loader:\n",
        "    inputs = data[\"x\"]\n",
        "    labels = data[\"y\"]\n",
        "\n",
        "    pred = model(inputs, W, b)\n",
        "    targets.append(labels)\n",
        "    predictions.append(pred)"
      ],
      "metadata": {
        "id": "1wJoc0viUUdv"
      },
      "execution_count": 11,
      "outputs": []
    },
    {
      "cell_type": "code",
      "source": [
        "auc_score = metrics.roc_auc_score(torch.cat(targets).view(-1), torch.cat(predictions).view(-1))\n",
        "print(auc_score)"
      ],
      "metadata": {
        "colab": {
          "base_uri": "https://localhost:8080/"
        },
        "id": "sFr0R7IriAOh",
        "outputId": "6ece0cd9-2b37-4d9c-b8cc-43314494d602"
      },
      "execution_count": 12,
      "outputs": [
        {
          "output_type": "stream",
          "name": "stdout",
          "text": [
            "0.9791346646185355\n"
          ]
        }
      ]
    },
    {
      "cell_type": "code",
      "source": [
        ""
      ],
      "metadata": {
        "id": "wcCuljn2iDrZ"
      },
      "execution_count": 12,
      "outputs": []
    }
  ]
}