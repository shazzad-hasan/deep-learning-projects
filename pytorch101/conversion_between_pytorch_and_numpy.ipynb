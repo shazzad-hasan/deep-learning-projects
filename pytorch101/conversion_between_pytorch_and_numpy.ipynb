{
  "nbformat": 4,
  "nbformat_minor": 0,
  "metadata": {
    "colab": {
      "name": "conversion_between_pytorch_and_numpy.ipynb",
      "provenance": [],
      "authorship_tag": "ABX9TyMw2h2WzxT+tPwDli73Dm5L",
      "include_colab_link": true
    },
    "kernelspec": {
      "name": "python3",
      "display_name": "Python 3"
    },
    "language_info": {
      "name": "python"
    }
  },
  "cells": [
    {
      "cell_type": "markdown",
      "metadata": {
        "id": "view-in-github",
        "colab_type": "text"
      },
      "source": [
        "<a href=\"https://colab.research.google.com/github/shazzad-hasan/practice-deep-learning-with-pytorch/blob/main/foundation_of_pytorch/conversion_between_pytorch_and_numpy.ipynb\" target=\"_parent\"><img src=\"https://colab.research.google.com/assets/colab-badge.svg\" alt=\"Open In Colab\"/></a>"
      ]
    },
    {
      "cell_type": "code",
      "execution_count": null,
      "metadata": {
        "id": "bNBFtiYiz4Ju"
      },
      "outputs": [],
      "source": [
        "import torch\n",
        "import numpy as np"
      ]
    },
    {
      "cell_type": "code",
      "source": [
        "tensor = torch.rand(4, 3)\n",
        "tensor"
      ],
      "metadata": {
        "colab": {
          "base_uri": "https://localhost:8080/"
        },
        "id": "Rzna4gen0Daa",
        "outputId": "f216a933-1526-4e82-bfdb-c8f3eb49c673"
      },
      "execution_count": null,
      "outputs": [
        {
          "output_type": "execute_result",
          "data": {
            "text/plain": [
              "tensor([[0.1527, 0.3162, 0.1837],\n",
              "        [0.0620, 0.3754, 0.2011],\n",
              "        [0.4137, 0.5115, 0.0567],\n",
              "        [0.6296, 0.6311, 0.3685]])"
            ]
          },
          "metadata": {},
          "execution_count": 2
        }
      ]
    },
    {
      "cell_type": "code",
      "source": [
        "type(tensor)"
      ],
      "metadata": {
        "colab": {
          "base_uri": "https://localhost:8080/"
        },
        "id": "WWUYb0ob4Gm3",
        "outputId": "8c05ef21-ecff-4d63-9ef7-b3bd22358564"
      },
      "execution_count": null,
      "outputs": [
        {
          "output_type": "execute_result",
          "data": {
            "text/plain": [
              "torch.Tensor"
            ]
          },
          "metadata": {},
          "execution_count": 3
        }
      ]
    },
    {
      "cell_type": "code",
      "source": [
        "numpy_from_tensor = tensor.numpy()\n",
        "numpy_from_tensor"
      ],
      "metadata": {
        "colab": {
          "base_uri": "https://localhost:8080/"
        },
        "id": "TvlXypzm4Jds",
        "outputId": "18cc8a91-b37e-4beb-a0f4-d4da98ef2672"
      },
      "execution_count": null,
      "outputs": [
        {
          "output_type": "execute_result",
          "data": {
            "text/plain": [
              "array([[0.15268868, 0.31622583, 0.18374586],\n",
              "       [0.0619927 , 0.37538743, 0.20113534],\n",
              "       [0.4137286 , 0.51152843, 0.05672914],\n",
              "       [0.62960297, 0.6310672 , 0.36851227]], dtype=float32)"
            ]
          },
          "metadata": {},
          "execution_count": 4
        }
      ]
    },
    {
      "cell_type": "code",
      "source": [
        "type(numpy_from_tensor)"
      ],
      "metadata": {
        "colab": {
          "base_uri": "https://localhost:8080/"
        },
        "id": "iIdhKkPc440B",
        "outputId": "bd8b4c54-832f-424d-f848-33427a7708d8"
      },
      "execution_count": null,
      "outputs": [
        {
          "output_type": "execute_result",
          "data": {
            "text/plain": [
              "numpy.ndarray"
            ]
          },
          "metadata": {},
          "execution_count": 5
        }
      ]
    },
    {
      "cell_type": "code",
      "source": [
        "torch.is_tensor(tensor)"
      ],
      "metadata": {
        "colab": {
          "base_uri": "https://localhost:8080/"
        },
        "id": "RntRGXR35Cyw",
        "outputId": "01919eb0-a833-41e4-d3b0-ff142c90a8ce"
      },
      "execution_count": null,
      "outputs": [
        {
          "output_type": "execute_result",
          "data": {
            "text/plain": [
              "True"
            ]
          },
          "metadata": {},
          "execution_count": 6
        }
      ]
    },
    {
      "cell_type": "code",
      "source": [
        "numpy_from_tensor[0, 0] = 100.0\n",
        "numpy_from_tensor"
      ],
      "metadata": {
        "colab": {
          "base_uri": "https://localhost:8080/"
        },
        "id": "isdsiOEA5IpS",
        "outputId": "1b0ce486-d547-46b2-8909-cdd603a203fb"
      },
      "execution_count": null,
      "outputs": [
        {
          "output_type": "execute_result",
          "data": {
            "text/plain": [
              "array([[1.0000000e+02, 3.1622583e-01, 1.8374586e-01],\n",
              "       [6.1992705e-02, 3.7538743e-01, 2.0113534e-01],\n",
              "       [4.1372859e-01, 5.1152843e-01, 5.6729138e-02],\n",
              "       [6.2960297e-01, 6.3106722e-01, 3.6851227e-01]], dtype=float32)"
            ]
          },
          "metadata": {},
          "execution_count": 7
        }
      ]
    },
    {
      "cell_type": "code",
      "source": [
        "tensor"
      ],
      "metadata": {
        "colab": {
          "base_uri": "https://localhost:8080/"
        },
        "id": "PG7DSolB5ZjD",
        "outputId": "d03a5312-d27f-4465-b763-c73e5be31823"
      },
      "execution_count": null,
      "outputs": [
        {
          "output_type": "execute_result",
          "data": {
            "text/plain": [
              "tensor([[1.0000e+02, 3.1623e-01, 1.8375e-01],\n",
              "        [6.1993e-02, 3.7539e-01, 2.0114e-01],\n",
              "        [4.1373e-01, 5.1153e-01, 5.6729e-02],\n",
              "        [6.2960e-01, 6.3107e-01, 3.6851e-01]])"
            ]
          },
          "metadata": {},
          "execution_count": 8
        }
      ]
    },
    {
      "cell_type": "code",
      "source": [
        "numpy_arr = np.array([[1.0, 2.0, 3.0],\n",
        "                      [10.0, 20.0, 30.0],\n",
        "                      [100.0, 200.0, 300.0]])\n",
        "\n",
        "numpy_arr"
      ],
      "metadata": {
        "colab": {
          "base_uri": "https://localhost:8080/"
        },
        "id": "ZeKXcsS35cEN",
        "outputId": "4bbde5bc-180f-493b-d51d-595be983d290"
      },
      "execution_count": null,
      "outputs": [
        {
          "output_type": "execute_result",
          "data": {
            "text/plain": [
              "array([[  1.,   2.,   3.],\n",
              "       [ 10.,  20.,  30.],\n",
              "       [100., 200., 300.]])"
            ]
          },
          "metadata": {},
          "execution_count": 9
        }
      ]
    },
    {
      "cell_type": "code",
      "source": [
        "tensor_from_numpy = torch.from_numpy(numpy_arr)\n",
        "tensor_from_numpy"
      ],
      "metadata": {
        "colab": {
          "base_uri": "https://localhost:8080/"
        },
        "id": "dUlADL175uqv",
        "outputId": "419cda70-8278-4602-e832-ceaf0ee3050d"
      },
      "execution_count": null,
      "outputs": [
        {
          "output_type": "execute_result",
          "data": {
            "text/plain": [
              "tensor([[  1.,   2.,   3.],\n",
              "        [ 10.,  20.,  30.],\n",
              "        [100., 200., 300.]], dtype=torch.float64)"
            ]
          },
          "metadata": {},
          "execution_count": 10
        }
      ]
    },
    {
      "cell_type": "code",
      "source": [
        "type(tensor_from_numpy)"
      ],
      "metadata": {
        "colab": {
          "base_uri": "https://localhost:8080/"
        },
        "id": "BJQAiWKE6hxO",
        "outputId": "03c33996-d10c-42d0-d32d-f0a1d9611fcb"
      },
      "execution_count": null,
      "outputs": [
        {
          "output_type": "execute_result",
          "data": {
            "text/plain": [
              "torch.Tensor"
            ]
          },
          "metadata": {},
          "execution_count": 11
        }
      ]
    },
    {
      "cell_type": "code",
      "source": [
        "tensor_from_numpy[0] = 1\n",
        "tensor_from_numpy"
      ],
      "metadata": {
        "colab": {
          "base_uri": "https://localhost:8080/"
        },
        "id": "98ZTVg8P6wFF",
        "outputId": "d6c865da-e589-4d4c-d63e-236313cef29a"
      },
      "execution_count": null,
      "outputs": [
        {
          "output_type": "execute_result",
          "data": {
            "text/plain": [
              "tensor([[  1.,   1.,   1.],\n",
              "        [ 10.,  20.,  30.],\n",
              "        [100., 200., 300.]], dtype=torch.float64)"
            ]
          },
          "metadata": {},
          "execution_count": 15
        }
      ]
    },
    {
      "cell_type": "code",
      "source": [
        "numpy_arr"
      ],
      "metadata": {
        "colab": {
          "base_uri": "https://localhost:8080/"
        },
        "id": "gboU4-T665wO",
        "outputId": "cc2c0a1c-d5b1-455f-f759-e1399d01be3a"
      },
      "execution_count": null,
      "outputs": [
        {
          "output_type": "execute_result",
          "data": {
            "text/plain": [
              "array([[  1.,   1.,   1.],\n",
              "       [ 10.,  20.,  30.],\n",
              "       [100., 200., 300.]])"
            ]
          },
          "metadata": {},
          "execution_count": 16
        }
      ]
    },
    {
      "cell_type": "code",
      "source": [
        "np_array_one = np.array([4, 8])\n",
        "np_array_one"
      ],
      "metadata": {
        "colab": {
          "base_uri": "https://localhost:8080/"
        },
        "id": "_HT2539P7EbK",
        "outputId": "321bea68-40e5-4462-a202-ff23436fc504"
      },
      "execution_count": null,
      "outputs": [
        {
          "output_type": "execute_result",
          "data": {
            "text/plain": [
              "array([4, 8])"
            ]
          },
          "metadata": {},
          "execution_count": 17
        }
      ]
    },
    {
      "cell_type": "code",
      "source": [
        "tensor_from_array_one = torch.as_tensor(np_array_one)\n",
        "tensor_from_array_one"
      ],
      "metadata": {
        "colab": {
          "base_uri": "https://localhost:8080/"
        },
        "id": "RJUwnRvD7TEY",
        "outputId": "e2fb2543-000d-485d-8fed-3138116fae14"
      },
      "execution_count": null,
      "outputs": [
        {
          "output_type": "execute_result",
          "data": {
            "text/plain": [
              "tensor([4, 8])"
            ]
          },
          "metadata": {},
          "execution_count": 18
        }
      ]
    },
    {
      "cell_type": "code",
      "source": [
        "np_array_one[1] = 5\n",
        "np_array_one"
      ],
      "metadata": {
        "colab": {
          "base_uri": "https://localhost:8080/"
        },
        "id": "kRZo8Es87e_O",
        "outputId": "0b4ab417-1a3d-4104-d764-b3fa118b1e22"
      },
      "execution_count": null,
      "outputs": [
        {
          "output_type": "execute_result",
          "data": {
            "text/plain": [
              "array([4, 5])"
            ]
          },
          "metadata": {},
          "execution_count": 19
        }
      ]
    },
    {
      "cell_type": "code",
      "source": [
        "tensor_from_array_one"
      ],
      "metadata": {
        "colab": {
          "base_uri": "https://localhost:8080/"
        },
        "id": "NP2HaCgG71qC",
        "outputId": "60e14b68-706f-47be-8f8c-be00a2c65528"
      },
      "execution_count": null,
      "outputs": [
        {
          "output_type": "execute_result",
          "data": {
            "text/plain": [
              "tensor([4, 5])"
            ]
          },
          "metadata": {},
          "execution_count": 20
        }
      ]
    },
    {
      "cell_type": "code",
      "source": [
        "np_array_two = np.array([2, 2])\n",
        "np_array_two"
      ],
      "metadata": {
        "colab": {
          "base_uri": "https://localhost:8080/"
        },
        "id": "DeqflHby79ak",
        "outputId": "f092214e-afd7-4db8-ceb6-6ba72e3357b8"
      },
      "execution_count": null,
      "outputs": [
        {
          "output_type": "execute_result",
          "data": {
            "text/plain": [
              "array([2, 2])"
            ]
          },
          "metadata": {},
          "execution_count": 21
        }
      ]
    },
    {
      "cell_type": "code",
      "source": [
        "tensor_from_array_two = torch.tensor(np_array_two)\n",
        "tensor_from_array_two"
      ],
      "metadata": {
        "colab": {
          "base_uri": "https://localhost:8080/"
        },
        "id": "7IsyVFhw9n-o",
        "outputId": "19b29ad2-5ca4-42ba-94fb-b3c144f9fe23"
      },
      "execution_count": null,
      "outputs": [
        {
          "output_type": "execute_result",
          "data": {
            "text/plain": [
              "tensor([2, 2])"
            ]
          },
          "metadata": {},
          "execution_count": 22
        }
      ]
    },
    {
      "cell_type": "code",
      "source": [
        "np_array_two[1] = 4\n",
        "np_array_two"
      ],
      "metadata": {
        "colab": {
          "base_uri": "https://localhost:8080/"
        },
        "id": "jzcRM6Qj9w46",
        "outputId": "6a9e42e3-796b-45b3-e2b1-9af9b9738ff4"
      },
      "execution_count": null,
      "outputs": [
        {
          "output_type": "execute_result",
          "data": {
            "text/plain": [
              "array([2, 4])"
            ]
          },
          "metadata": {},
          "execution_count": 23
        }
      ]
    },
    {
      "cell_type": "code",
      "source": [
        "tensor_from_array_two"
      ],
      "metadata": {
        "colab": {
          "base_uri": "https://localhost:8080/"
        },
        "id": "juX3UcJo97hT",
        "outputId": "14c8fa5c-b63d-4d8f-eb5c-80b252d005c4"
      },
      "execution_count": null,
      "outputs": [
        {
          "output_type": "execute_result",
          "data": {
            "text/plain": [
              "tensor([2, 2])"
            ]
          },
          "metadata": {},
          "execution_count": 24
        }
      ]
    },
    {
      "cell_type": "code",
      "source": [],
      "metadata": {
        "id": "dzo1phxi-BH_"
      },
      "execution_count": null,
      "outputs": []
    }
  ]
}