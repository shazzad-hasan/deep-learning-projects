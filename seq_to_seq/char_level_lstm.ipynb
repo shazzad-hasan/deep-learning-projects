{
  "nbformat": 4,
  "nbformat_minor": 0,
  "metadata": {
    "colab": {
      "provenance": [],
      "machine_shape": "hm",
      "include_colab_link": true
    },
    "kernelspec": {
      "name": "python3",
      "display_name": "Python 3"
    },
    "language_info": {
      "name": "python"
    },
    "accelerator": "GPU",
    "gpuClass": "premium"
  },
  "cells": [
    {
      "cell_type": "markdown",
      "metadata": {
        "id": "view-in-github",
        "colab_type": "text"
      },
      "source": [
        "<a href=\"https://colab.research.google.com/github/shazzad-hasan/practice-deep-learning-with-pytorch/blob/main/seq_to_seq/char_level_lstm.ipynb\" target=\"_parent\"><img src=\"https://colab.research.google.com/assets/colab-badge.svg\" alt=\"Open In Colab\"/></a>"
      ]
    },
    {
      "cell_type": "code",
      "execution_count": null,
      "metadata": {
        "id": "CITpOagOBv3Z"
      },
      "outputs": [],
      "source": [
        "# upload kaggle API key from your local machine\n",
        "from google.colab import files\n",
        "files.upload()"
      ]
    },
    {
      "cell_type": "code",
      "source": [
        "# make a kaggle dir, copy the API key to it\n",
        "# and make sure the file in only readable by yourself (chmod 600)\n",
        "!mkdir ~/.kaggle \n",
        "!cp kaggle.json ~/.kaggle/\n",
        "!chmod 600 ~/.kaggle/kaggle.json"
      ],
      "metadata": {
        "id": "IajRinOUFcEm"
      },
      "execution_count": null,
      "outputs": []
    },
    {
      "cell_type": "code",
      "source": [
        "# use API command to download the dataset\n",
        "!kaggle datasets download -d wanderdust/anna-karenina-book"
      ],
      "metadata": {
        "id": "BGlxw58uGJf1"
      },
      "execution_count": null,
      "outputs": []
    },
    {
      "cell_type": "code",
      "source": [
        "# uncompress the dataset\n",
        "!unzip -qq anna-karenina-book.zip"
      ],
      "metadata": {
        "id": "QfxEg189G_4J"
      },
      "execution_count": null,
      "outputs": []
    },
    {
      "cell_type": "code",
      "source": [
        "# open text file and read in some data as text\n",
        "with open(\"/content/anna.txt\", \"r\") as f:\n",
        "  text = f.read()\n",
        "\n",
        "text[:100]"
      ],
      "metadata": {
        "id": "ruMs8t0lGOwW"
      },
      "execution_count": null,
      "outputs": []
    },
    {
      "cell_type": "code",
      "source": [
        "# import required libraries\n",
        "import torch\n",
        "import numpy as np"
      ],
      "metadata": {
        "id": "M7s-hXEgM4tN"
      },
      "execution_count": null,
      "outputs": []
    },
    {
      "cell_type": "code",
      "source": [
        "# check if cuda is available\n",
        "train_on_gpu = torch.cuda.is_available()\n",
        "\n",
        "if not train_on_gpu:\n",
        "  print(\"CUDA is not available\")\n",
        "else:\n",
        "  print(\"CUDA is available\")\n",
        "\n",
        "device = torch.device('cuda') if train_on_gpu else torch.device('cpu')"
      ],
      "metadata": {
        "id": "hmDInJ5mcHI0"
      },
      "execution_count": null,
      "outputs": []
    },
    {
      "cell_type": "markdown",
      "source": [
        "### Pre-process the dataset"
      ],
      "metadata": {
        "id": "1XeTje0xHgu9"
      }
    },
    {
      "cell_type": "code",
      "source": [
        "# tokenization\n",
        "\n",
        "chars = tuple(set(text))\n",
        "# map each int to char\n",
        "int_to_char = dict(enumerate(chars))\n",
        "# map each char to int\n",
        "char_to_int = {ch:idx for idx, ch in int_to_char.items()}\n",
        "\n",
        "# encode \n",
        "encoded = np.array([char_to_int[ch] for ch in text])\n",
        "encoded[:100]"
      ],
      "metadata": {
        "id": "AuOH3bqVHRpP"
      },
      "execution_count": null,
      "outputs": []
    },
    {
      "cell_type": "code",
      "source": [
        "def one_hot_encode(arr, n_labels):\n",
        "    \n",
        "    # initialize the the encoded array with zeros\n",
        "    one_hot = np.zeros((arr.size, n_labels), dtype=np.float32)\n",
        "    \n",
        "    # fill with ones where appropriate\n",
        "    one_hot[np.arange(one_hot.shape[0]), arr.flatten()] = 1.\n",
        "    \n",
        "    # reshape to get back to the original array\n",
        "    one_hot = one_hot.reshape((*arr.shape, n_labels))\n",
        "    \n",
        "    return one_hot"
      ],
      "metadata": {
        "id": "Z_18UrpVQAjm"
      },
      "execution_count": null,
      "outputs": []
    },
    {
      "cell_type": "code",
      "source": [
        "def get_batches(arr, batch_size, seq_length):\n",
        "    total_batch_size = batch_size * seq_length\n",
        "    # total number of batches\n",
        "    n_batches = len(arr)//total_batch_size\n",
        "    \n",
        "    # keep enough characters to make full batches\n",
        "    arr = arr[:n_batches * total_batch_size]\n",
        "    # reshape into batch_size rows\n",
        "    arr = arr.reshape((batch_size, -1))\n",
        "    \n",
        "    for n in range(0, arr.shape[1], seq_length):\n",
        "        # features\n",
        "        x = arr[:, n:n+seq_length]\n",
        "        # targets, shifted by one\n",
        "        y = np.zeros_like(x)\n",
        "        try:\n",
        "            y[:, :-1], y[:, -1] = x[:, 1:], arr[:, n+seq_length]\n",
        "        except IndexError:\n",
        "            y[:, :-1], y[:, -1] = x[:, 1:], arr[:, 0]\n",
        "        yield x, y\n",
        "  "
      ],
      "metadata": {
        "id": "XxElsQitRNph"
      },
      "execution_count": null,
      "outputs": []
    },
    {
      "cell_type": "markdown",
      "source": [
        "### Model"
      ],
      "metadata": {
        "id": "vCVb7_7fcL7k"
      }
    },
    {
      "cell_type": "code",
      "source": [
        "import torch.nn as nn\n",
        "import torch.optim as optim\n",
        "\n",
        "class CharRNN(nn.Module):\n",
        "  def __init__(self, tokens, n_hidden, n_layers, drop_prob, lr):\n",
        "    super().__init__()\n",
        "    self.drop_prob = drop_prob \n",
        "    self.n_layers = n_layers \n",
        "    self.n_hidden = n_hidden \n",
        "    self.lr = lr \n",
        "\n",
        "    self.chars = tokens \n",
        "    self.int_to_char = dict(enumerate(self.chars))\n",
        "    self.char_to_int = {ch:idx for idx, ch in self.int_to_char.items()}\n",
        "\n",
        "    self.lstm = nn.LSTM(len(self.chars), n_hidden, n_layers, dropout=drop_prob, batch_first=True)\n",
        "    self.dropout = nn.Dropout(drop_prob)\n",
        "    self.fc = nn.Linear(n_hidden, len(self.chars))\n",
        "\n",
        "\n",
        "  def forward(self, x, hidden):\n",
        "    output, hidden = self.lstm(x, hidden)\n",
        "    output = self.dropout(output)\n",
        "    output = output.contiguous().view(-1, self.n_hidden)\n",
        "    output = self.fc(output)\n",
        "    return output, hidden\n",
        "\n",
        "  def init_hidden(self, batch_size):\n",
        "    weight = next(self.parameters()).data\n",
        "\n",
        "    hidden = (weight.new(self.n_layers, batch_size, self.n_hidden).zero_().to(device),\n",
        "             weight.new(self.n_layers, batch_size, self.n_hidden).zero_().to(device))\n",
        "    \n",
        "    return hidden"
      ],
      "metadata": {
        "id": "jx8zpIx8Re2E"
      },
      "execution_count": null,
      "outputs": []
    },
    {
      "cell_type": "code",
      "source": [
        "n_hidden = 512 \n",
        "n_layers = 2 \n",
        "drop_prob=0.5\n",
        "lr=0.001\n",
        "\n",
        "model = CharRNN(chars, n_hidden, n_layers, drop_prob, lr)\n",
        "print(model)"
      ],
      "metadata": {
        "id": "rxQgMBKE50NJ"
      },
      "execution_count": null,
      "outputs": []
    },
    {
      "cell_type": "markdown",
      "source": [
        "### Train"
      ],
      "metadata": {
        "id": "8cgoevWpoyhB"
      }
    },
    {
      "cell_type": "code",
      "source": [
        "def train(model, data, epochs, batch_size, seq_length, lr, clip, valid_size, print_every=10):\n",
        "  model.train()\n",
        "  \n",
        "  optimizer = optim.Adam(model.parameters(), lr = lr)\n",
        "  criterion = nn.CrossEntropyLoss()\n",
        "\n",
        "  valid_idx = int(len(data)*(1-valid_size))\n",
        "  train_data, valid_data = data[:valid_idx], data[valid_idx:]\n",
        "\n",
        "  model.to(device)\n",
        "\n",
        "  counter = 0\n",
        "  n_chars = len(model.chars)\n",
        "  for epoch in range(epochs):\n",
        "    h = model.init_hidden(batch_size)\n",
        "    for inputs, targets in get_batches(data, batch_size, seq_length):\n",
        "      counter += 1 \n",
        "      inputs = one_hot_encode(inputs, n_chars)\n",
        "      inputs, targets = torch.from_numpy(inputs), torch.from_numpy(targets)\n",
        "      inputs, targets = inputs.to(device), targets.to(device)\n",
        "\n",
        "      h = tuple([each.data for each in h])\n",
        "\n",
        "      model.zero_grad()\n",
        "      output, h = model(inputs, h)\n",
        "      loss = criterion(output, targets.view(batch_size * seq_length).long())\n",
        "      loss.backward()\n",
        "      nn.utils.clip_grad_norm(model.parameters(), clip)\n",
        "      optimizer.step()\n",
        "\n",
        "      if counter % print_every == 0:\n",
        "        valid_h = model.init_hidden(batch_size)\n",
        "        valid_losses = []\n",
        "\n",
        "        model.eval()\n",
        "        for inputs, targets in get_batches(valid_data, batch_size, seq_length):\n",
        "          inputs = one_hot_encode(inputs, n_chars)\n",
        "          inputs, targets = torch.from_numpy(inputs), torch.from_numpy(targets)\n",
        "\n",
        "          valid_h = tuple([each for each in valid_h])\n",
        "\n",
        "          inputs, targets = inputs.to(device), targets.to(device)\n",
        "\n",
        "          output, valid_h = model(inputs, valid_h)\n",
        "          valid_loss = criterion(output, targets.view(batch_size * seq_length).long())\n",
        "\n",
        "          valid_losses.append(valid_loss.item())\n",
        "        model.train()\n",
        "\n",
        "        print(\"Epochs: {} \\tStep: {} \\tTraining loss: {:.6f} \\tValidation loss: {:.6f}\".format(epoch+1, counter, loss.item(), np.mean(valid_losses)))"
      ],
      "metadata": {
        "id": "IsnPrdprRe5H"
      },
      "execution_count": null,
      "outputs": []
    },
    {
      "cell_type": "code",
      "source": [
        "epochs = 5\n",
        "batch_size = 128\n",
        "seq_length = 100\n",
        "n_epochs = 20\n",
        "lr=0.001\n",
        "clip = 5\n",
        "val_size=0.1\n",
        "print_every=10\n",
        "\n",
        "# train the model\n",
        "train(model, encoded, epochs, batch_size, seq_length, lr, clip, val_size, print_every=10)"
      ],
      "metadata": {
        "id": "SjF7eho750QE"
      },
      "execution_count": null,
      "outputs": []
    },
    {
      "cell_type": "code",
      "source": [],
      "metadata": {
        "id": "1kHHTVxN50TF"
      },
      "execution_count": null,
      "outputs": []
    },
    {
      "cell_type": "code",
      "source": [],
      "metadata": {
        "id": "ZDPcIBLy50WH"
      },
      "execution_count": null,
      "outputs": []
    },
    {
      "cell_type": "code",
      "source": [],
      "metadata": {
        "id": "K0cSQ5KL50Y5"
      },
      "execution_count": null,
      "outputs": []
    }
  ]
}