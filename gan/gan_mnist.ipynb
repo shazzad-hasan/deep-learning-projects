{
  "nbformat": 4,
  "nbformat_minor": 0,
  "metadata": {
    "colab": {
      "name": "gan_mnist.ipynb",
      "provenance": [],
      "machine_shape": "hm",
      "include_colab_link": true
    },
    "kernelspec": {
      "name": "python3",
      "display_name": "Python 3"
    },
    "language_info": {
      "name": "python"
    },
    "accelerator": "GPU",
    "gpuClass": "standard",
    "widgets": {
      "application/vnd.jupyter.widget-state+json": {
        "93cdd6a40d1a425fa5cfdec2bfbf9309": {
          "model_module": "@jupyter-widgets/controls",
          "model_name": "HBoxModel",
          "model_module_version": "1.5.0",
          "state": {
            "_dom_classes": [],
            "_model_module": "@jupyter-widgets/controls",
            "_model_module_version": "1.5.0",
            "_model_name": "HBoxModel",
            "_view_count": null,
            "_view_module": "@jupyter-widgets/controls",
            "_view_module_version": "1.5.0",
            "_view_name": "HBoxView",
            "box_style": "",
            "children": [
              "IPY_MODEL_806c3f80ad9c4b96a39fecc3b8ceaf9e",
              "IPY_MODEL_e3fa7edba3c6462a946979717fba63e4",
              "IPY_MODEL_7c1202936e9944b8ac5b4899b72eed8a"
            ],
            "layout": "IPY_MODEL_8aeef5d160754623b221e021af700444"
          }
        },
        "806c3f80ad9c4b96a39fecc3b8ceaf9e": {
          "model_module": "@jupyter-widgets/controls",
          "model_name": "HTMLModel",
          "model_module_version": "1.5.0",
          "state": {
            "_dom_classes": [],
            "_model_module": "@jupyter-widgets/controls",
            "_model_module_version": "1.5.0",
            "_model_name": "HTMLModel",
            "_view_count": null,
            "_view_module": "@jupyter-widgets/controls",
            "_view_module_version": "1.5.0",
            "_view_name": "HTMLView",
            "description": "",
            "description_tooltip": null,
            "layout": "IPY_MODEL_eca93dc83572464a9d734d4be03281ed",
            "placeholder": "​",
            "style": "IPY_MODEL_1394a300117c4498882d678ba966845c",
            "value": ""
          }
        },
        "e3fa7edba3c6462a946979717fba63e4": {
          "model_module": "@jupyter-widgets/controls",
          "model_name": "FloatProgressModel",
          "model_module_version": "1.5.0",
          "state": {
            "_dom_classes": [],
            "_model_module": "@jupyter-widgets/controls",
            "_model_module_version": "1.5.0",
            "_model_name": "FloatProgressModel",
            "_view_count": null,
            "_view_module": "@jupyter-widgets/controls",
            "_view_module_version": "1.5.0",
            "_view_name": "ProgressView",
            "bar_style": "success",
            "description": "",
            "description_tooltip": null,
            "layout": "IPY_MODEL_1ca9d4eafe5c407cba80568046de30ac",
            "max": 9912422,
            "min": 0,
            "orientation": "horizontal",
            "style": "IPY_MODEL_c305535719834569a1fb5f7731a696cb",
            "value": 9912422
          }
        },
        "7c1202936e9944b8ac5b4899b72eed8a": {
          "model_module": "@jupyter-widgets/controls",
          "model_name": "HTMLModel",
          "model_module_version": "1.5.0",
          "state": {
            "_dom_classes": [],
            "_model_module": "@jupyter-widgets/controls",
            "_model_module_version": "1.5.0",
            "_model_name": "HTMLModel",
            "_view_count": null,
            "_view_module": "@jupyter-widgets/controls",
            "_view_module_version": "1.5.0",
            "_view_name": "HTMLView",
            "description": "",
            "description_tooltip": null,
            "layout": "IPY_MODEL_3a7731447f9f4afebc285ad1befb80ec",
            "placeholder": "​",
            "style": "IPY_MODEL_43040fadf95e4fa58c4c1cd690a0c64b",
            "value": " 9913344/? [00:00&lt;00:00, 70297764.37it/s]"
          }
        },
        "8aeef5d160754623b221e021af700444": {
          "model_module": "@jupyter-widgets/base",
          "model_name": "LayoutModel",
          "model_module_version": "1.2.0",
          "state": {
            "_model_module": "@jupyter-widgets/base",
            "_model_module_version": "1.2.0",
            "_model_name": "LayoutModel",
            "_view_count": null,
            "_view_module": "@jupyter-widgets/base",
            "_view_module_version": "1.2.0",
            "_view_name": "LayoutView",
            "align_content": null,
            "align_items": null,
            "align_self": null,
            "border": null,
            "bottom": null,
            "display": null,
            "flex": null,
            "flex_flow": null,
            "grid_area": null,
            "grid_auto_columns": null,
            "grid_auto_flow": null,
            "grid_auto_rows": null,
            "grid_column": null,
            "grid_gap": null,
            "grid_row": null,
            "grid_template_areas": null,
            "grid_template_columns": null,
            "grid_template_rows": null,
            "height": null,
            "justify_content": null,
            "justify_items": null,
            "left": null,
            "margin": null,
            "max_height": null,
            "max_width": null,
            "min_height": null,
            "min_width": null,
            "object_fit": null,
            "object_position": null,
            "order": null,
            "overflow": null,
            "overflow_x": null,
            "overflow_y": null,
            "padding": null,
            "right": null,
            "top": null,
            "visibility": null,
            "width": null
          }
        },
        "eca93dc83572464a9d734d4be03281ed": {
          "model_module": "@jupyter-widgets/base",
          "model_name": "LayoutModel",
          "model_module_version": "1.2.0",
          "state": {
            "_model_module": "@jupyter-widgets/base",
            "_model_module_version": "1.2.0",
            "_model_name": "LayoutModel",
            "_view_count": null,
            "_view_module": "@jupyter-widgets/base",
            "_view_module_version": "1.2.0",
            "_view_name": "LayoutView",
            "align_content": null,
            "align_items": null,
            "align_self": null,
            "border": null,
            "bottom": null,
            "display": null,
            "flex": null,
            "flex_flow": null,
            "grid_area": null,
            "grid_auto_columns": null,
            "grid_auto_flow": null,
            "grid_auto_rows": null,
            "grid_column": null,
            "grid_gap": null,
            "grid_row": null,
            "grid_template_areas": null,
            "grid_template_columns": null,
            "grid_template_rows": null,
            "height": null,
            "justify_content": null,
            "justify_items": null,
            "left": null,
            "margin": null,
            "max_height": null,
            "max_width": null,
            "min_height": null,
            "min_width": null,
            "object_fit": null,
            "object_position": null,
            "order": null,
            "overflow": null,
            "overflow_x": null,
            "overflow_y": null,
            "padding": null,
            "right": null,
            "top": null,
            "visibility": null,
            "width": null
          }
        },
        "1394a300117c4498882d678ba966845c": {
          "model_module": "@jupyter-widgets/controls",
          "model_name": "DescriptionStyleModel",
          "model_module_version": "1.5.0",
          "state": {
            "_model_module": "@jupyter-widgets/controls",
            "_model_module_version": "1.5.0",
            "_model_name": "DescriptionStyleModel",
            "_view_count": null,
            "_view_module": "@jupyter-widgets/base",
            "_view_module_version": "1.2.0",
            "_view_name": "StyleView",
            "description_width": ""
          }
        },
        "1ca9d4eafe5c407cba80568046de30ac": {
          "model_module": "@jupyter-widgets/base",
          "model_name": "LayoutModel",
          "model_module_version": "1.2.0",
          "state": {
            "_model_module": "@jupyter-widgets/base",
            "_model_module_version": "1.2.0",
            "_model_name": "LayoutModel",
            "_view_count": null,
            "_view_module": "@jupyter-widgets/base",
            "_view_module_version": "1.2.0",
            "_view_name": "LayoutView",
            "align_content": null,
            "align_items": null,
            "align_self": null,
            "border": null,
            "bottom": null,
            "display": null,
            "flex": null,
            "flex_flow": null,
            "grid_area": null,
            "grid_auto_columns": null,
            "grid_auto_flow": null,
            "grid_auto_rows": null,
            "grid_column": null,
            "grid_gap": null,
            "grid_row": null,
            "grid_template_areas": null,
            "grid_template_columns": null,
            "grid_template_rows": null,
            "height": null,
            "justify_content": null,
            "justify_items": null,
            "left": null,
            "margin": null,
            "max_height": null,
            "max_width": null,
            "min_height": null,
            "min_width": null,
            "object_fit": null,
            "object_position": null,
            "order": null,
            "overflow": null,
            "overflow_x": null,
            "overflow_y": null,
            "padding": null,
            "right": null,
            "top": null,
            "visibility": null,
            "width": null
          }
        },
        "c305535719834569a1fb5f7731a696cb": {
          "model_module": "@jupyter-widgets/controls",
          "model_name": "ProgressStyleModel",
          "model_module_version": "1.5.0",
          "state": {
            "_model_module": "@jupyter-widgets/controls",
            "_model_module_version": "1.5.0",
            "_model_name": "ProgressStyleModel",
            "_view_count": null,
            "_view_module": "@jupyter-widgets/base",
            "_view_module_version": "1.2.0",
            "_view_name": "StyleView",
            "bar_color": null,
            "description_width": ""
          }
        },
        "3a7731447f9f4afebc285ad1befb80ec": {
          "model_module": "@jupyter-widgets/base",
          "model_name": "LayoutModel",
          "model_module_version": "1.2.0",
          "state": {
            "_model_module": "@jupyter-widgets/base",
            "_model_module_version": "1.2.0",
            "_model_name": "LayoutModel",
            "_view_count": null,
            "_view_module": "@jupyter-widgets/base",
            "_view_module_version": "1.2.0",
            "_view_name": "LayoutView",
            "align_content": null,
            "align_items": null,
            "align_self": null,
            "border": null,
            "bottom": null,
            "display": null,
            "flex": null,
            "flex_flow": null,
            "grid_area": null,
            "grid_auto_columns": null,
            "grid_auto_flow": null,
            "grid_auto_rows": null,
            "grid_column": null,
            "grid_gap": null,
            "grid_row": null,
            "grid_template_areas": null,
            "grid_template_columns": null,
            "grid_template_rows": null,
            "height": null,
            "justify_content": null,
            "justify_items": null,
            "left": null,
            "margin": null,
            "max_height": null,
            "max_width": null,
            "min_height": null,
            "min_width": null,
            "object_fit": null,
            "object_position": null,
            "order": null,
            "overflow": null,
            "overflow_x": null,
            "overflow_y": null,
            "padding": null,
            "right": null,
            "top": null,
            "visibility": null,
            "width": null
          }
        },
        "43040fadf95e4fa58c4c1cd690a0c64b": {
          "model_module": "@jupyter-widgets/controls",
          "model_name": "DescriptionStyleModel",
          "model_module_version": "1.5.0",
          "state": {
            "_model_module": "@jupyter-widgets/controls",
            "_model_module_version": "1.5.0",
            "_model_name": "DescriptionStyleModel",
            "_view_count": null,
            "_view_module": "@jupyter-widgets/base",
            "_view_module_version": "1.2.0",
            "_view_name": "StyleView",
            "description_width": ""
          }
        },
        "bb1facc14762450f88b10fd97dc34484": {
          "model_module": "@jupyter-widgets/controls",
          "model_name": "HBoxModel",
          "model_module_version": "1.5.0",
          "state": {
            "_dom_classes": [],
            "_model_module": "@jupyter-widgets/controls",
            "_model_module_version": "1.5.0",
            "_model_name": "HBoxModel",
            "_view_count": null,
            "_view_module": "@jupyter-widgets/controls",
            "_view_module_version": "1.5.0",
            "_view_name": "HBoxView",
            "box_style": "",
            "children": [
              "IPY_MODEL_245642408e684f9c970b8fece404f98f",
              "IPY_MODEL_d8bdf0b7bd194f36821308de416a7e91",
              "IPY_MODEL_67ac03db39ec43fe9d6b3ddf6ff20f64"
            ],
            "layout": "IPY_MODEL_27ad15e02762459e8441612ed4e923ac"
          }
        },
        "245642408e684f9c970b8fece404f98f": {
          "model_module": "@jupyter-widgets/controls",
          "model_name": "HTMLModel",
          "model_module_version": "1.5.0",
          "state": {
            "_dom_classes": [],
            "_model_module": "@jupyter-widgets/controls",
            "_model_module_version": "1.5.0",
            "_model_name": "HTMLModel",
            "_view_count": null,
            "_view_module": "@jupyter-widgets/controls",
            "_view_module_version": "1.5.0",
            "_view_name": "HTMLView",
            "description": "",
            "description_tooltip": null,
            "layout": "IPY_MODEL_cd4443d8c21042a6962a7220dbce51cf",
            "placeholder": "​",
            "style": "IPY_MODEL_7420d623dce24986add65f7ae0cfc9bd",
            "value": ""
          }
        },
        "d8bdf0b7bd194f36821308de416a7e91": {
          "model_module": "@jupyter-widgets/controls",
          "model_name": "FloatProgressModel",
          "model_module_version": "1.5.0",
          "state": {
            "_dom_classes": [],
            "_model_module": "@jupyter-widgets/controls",
            "_model_module_version": "1.5.0",
            "_model_name": "FloatProgressModel",
            "_view_count": null,
            "_view_module": "@jupyter-widgets/controls",
            "_view_module_version": "1.5.0",
            "_view_name": "ProgressView",
            "bar_style": "success",
            "description": "",
            "description_tooltip": null,
            "layout": "IPY_MODEL_5553c2f1a5ac435aae552d36e5c4db6f",
            "max": 28881,
            "min": 0,
            "orientation": "horizontal",
            "style": "IPY_MODEL_8162f27d22fe40a5b769a260abfff98a",
            "value": 28881
          }
        },
        "67ac03db39ec43fe9d6b3ddf6ff20f64": {
          "model_module": "@jupyter-widgets/controls",
          "model_name": "HTMLModel",
          "model_module_version": "1.5.0",
          "state": {
            "_dom_classes": [],
            "_model_module": "@jupyter-widgets/controls",
            "_model_module_version": "1.5.0",
            "_model_name": "HTMLModel",
            "_view_count": null,
            "_view_module": "@jupyter-widgets/controls",
            "_view_module_version": "1.5.0",
            "_view_name": "HTMLView",
            "description": "",
            "description_tooltip": null,
            "layout": "IPY_MODEL_df830f41d68c4f2fa6582702d87a85ca",
            "placeholder": "​",
            "style": "IPY_MODEL_f26f6e8558fd41d999dc1572d7d988cf",
            "value": " 29696/? [00:00&lt;00:00, 945467.91it/s]"
          }
        },
        "27ad15e02762459e8441612ed4e923ac": {
          "model_module": "@jupyter-widgets/base",
          "model_name": "LayoutModel",
          "model_module_version": "1.2.0",
          "state": {
            "_model_module": "@jupyter-widgets/base",
            "_model_module_version": "1.2.0",
            "_model_name": "LayoutModel",
            "_view_count": null,
            "_view_module": "@jupyter-widgets/base",
            "_view_module_version": "1.2.0",
            "_view_name": "LayoutView",
            "align_content": null,
            "align_items": null,
            "align_self": null,
            "border": null,
            "bottom": null,
            "display": null,
            "flex": null,
            "flex_flow": null,
            "grid_area": null,
            "grid_auto_columns": null,
            "grid_auto_flow": null,
            "grid_auto_rows": null,
            "grid_column": null,
            "grid_gap": null,
            "grid_row": null,
            "grid_template_areas": null,
            "grid_template_columns": null,
            "grid_template_rows": null,
            "height": null,
            "justify_content": null,
            "justify_items": null,
            "left": null,
            "margin": null,
            "max_height": null,
            "max_width": null,
            "min_height": null,
            "min_width": null,
            "object_fit": null,
            "object_position": null,
            "order": null,
            "overflow": null,
            "overflow_x": null,
            "overflow_y": null,
            "padding": null,
            "right": null,
            "top": null,
            "visibility": null,
            "width": null
          }
        },
        "cd4443d8c21042a6962a7220dbce51cf": {
          "model_module": "@jupyter-widgets/base",
          "model_name": "LayoutModel",
          "model_module_version": "1.2.0",
          "state": {
            "_model_module": "@jupyter-widgets/base",
            "_model_module_version": "1.2.0",
            "_model_name": "LayoutModel",
            "_view_count": null,
            "_view_module": "@jupyter-widgets/base",
            "_view_module_version": "1.2.0",
            "_view_name": "LayoutView",
            "align_content": null,
            "align_items": null,
            "align_self": null,
            "border": null,
            "bottom": null,
            "display": null,
            "flex": null,
            "flex_flow": null,
            "grid_area": null,
            "grid_auto_columns": null,
            "grid_auto_flow": null,
            "grid_auto_rows": null,
            "grid_column": null,
            "grid_gap": null,
            "grid_row": null,
            "grid_template_areas": null,
            "grid_template_columns": null,
            "grid_template_rows": null,
            "height": null,
            "justify_content": null,
            "justify_items": null,
            "left": null,
            "margin": null,
            "max_height": null,
            "max_width": null,
            "min_height": null,
            "min_width": null,
            "object_fit": null,
            "object_position": null,
            "order": null,
            "overflow": null,
            "overflow_x": null,
            "overflow_y": null,
            "padding": null,
            "right": null,
            "top": null,
            "visibility": null,
            "width": null
          }
        },
        "7420d623dce24986add65f7ae0cfc9bd": {
          "model_module": "@jupyter-widgets/controls",
          "model_name": "DescriptionStyleModel",
          "model_module_version": "1.5.0",
          "state": {
            "_model_module": "@jupyter-widgets/controls",
            "_model_module_version": "1.5.0",
            "_model_name": "DescriptionStyleModel",
            "_view_count": null,
            "_view_module": "@jupyter-widgets/base",
            "_view_module_version": "1.2.0",
            "_view_name": "StyleView",
            "description_width": ""
          }
        },
        "5553c2f1a5ac435aae552d36e5c4db6f": {
          "model_module": "@jupyter-widgets/base",
          "model_name": "LayoutModel",
          "model_module_version": "1.2.0",
          "state": {
            "_model_module": "@jupyter-widgets/base",
            "_model_module_version": "1.2.0",
            "_model_name": "LayoutModel",
            "_view_count": null,
            "_view_module": "@jupyter-widgets/base",
            "_view_module_version": "1.2.0",
            "_view_name": "LayoutView",
            "align_content": null,
            "align_items": null,
            "align_self": null,
            "border": null,
            "bottom": null,
            "display": null,
            "flex": null,
            "flex_flow": null,
            "grid_area": null,
            "grid_auto_columns": null,
            "grid_auto_flow": null,
            "grid_auto_rows": null,
            "grid_column": null,
            "grid_gap": null,
            "grid_row": null,
            "grid_template_areas": null,
            "grid_template_columns": null,
            "grid_template_rows": null,
            "height": null,
            "justify_content": null,
            "justify_items": null,
            "left": null,
            "margin": null,
            "max_height": null,
            "max_width": null,
            "min_height": null,
            "min_width": null,
            "object_fit": null,
            "object_position": null,
            "order": null,
            "overflow": null,
            "overflow_x": null,
            "overflow_y": null,
            "padding": null,
            "right": null,
            "top": null,
            "visibility": null,
            "width": null
          }
        },
        "8162f27d22fe40a5b769a260abfff98a": {
          "model_module": "@jupyter-widgets/controls",
          "model_name": "ProgressStyleModel",
          "model_module_version": "1.5.0",
          "state": {
            "_model_module": "@jupyter-widgets/controls",
            "_model_module_version": "1.5.0",
            "_model_name": "ProgressStyleModel",
            "_view_count": null,
            "_view_module": "@jupyter-widgets/base",
            "_view_module_version": "1.2.0",
            "_view_name": "StyleView",
            "bar_color": null,
            "description_width": ""
          }
        },
        "df830f41d68c4f2fa6582702d87a85ca": {
          "model_module": "@jupyter-widgets/base",
          "model_name": "LayoutModel",
          "model_module_version": "1.2.0",
          "state": {
            "_model_module": "@jupyter-widgets/base",
            "_model_module_version": "1.2.0",
            "_model_name": "LayoutModel",
            "_view_count": null,
            "_view_module": "@jupyter-widgets/base",
            "_view_module_version": "1.2.0",
            "_view_name": "LayoutView",
            "align_content": null,
            "align_items": null,
            "align_self": null,
            "border": null,
            "bottom": null,
            "display": null,
            "flex": null,
            "flex_flow": null,
            "grid_area": null,
            "grid_auto_columns": null,
            "grid_auto_flow": null,
            "grid_auto_rows": null,
            "grid_column": null,
            "grid_gap": null,
            "grid_row": null,
            "grid_template_areas": null,
            "grid_template_columns": null,
            "grid_template_rows": null,
            "height": null,
            "justify_content": null,
            "justify_items": null,
            "left": null,
            "margin": null,
            "max_height": null,
            "max_width": null,
            "min_height": null,
            "min_width": null,
            "object_fit": null,
            "object_position": null,
            "order": null,
            "overflow": null,
            "overflow_x": null,
            "overflow_y": null,
            "padding": null,
            "right": null,
            "top": null,
            "visibility": null,
            "width": null
          }
        },
        "f26f6e8558fd41d999dc1572d7d988cf": {
          "model_module": "@jupyter-widgets/controls",
          "model_name": "DescriptionStyleModel",
          "model_module_version": "1.5.0",
          "state": {
            "_model_module": "@jupyter-widgets/controls",
            "_model_module_version": "1.5.0",
            "_model_name": "DescriptionStyleModel",
            "_view_count": null,
            "_view_module": "@jupyter-widgets/base",
            "_view_module_version": "1.2.0",
            "_view_name": "StyleView",
            "description_width": ""
          }
        },
        "d4ce1733497048c7b0a092c76e73a4f7": {
          "model_module": "@jupyter-widgets/controls",
          "model_name": "HBoxModel",
          "model_module_version": "1.5.0",
          "state": {
            "_dom_classes": [],
            "_model_module": "@jupyter-widgets/controls",
            "_model_module_version": "1.5.0",
            "_model_name": "HBoxModel",
            "_view_count": null,
            "_view_module": "@jupyter-widgets/controls",
            "_view_module_version": "1.5.0",
            "_view_name": "HBoxView",
            "box_style": "",
            "children": [
              "IPY_MODEL_8b500b9ee7c54a8489bdc9619bc69c3f",
              "IPY_MODEL_4eeac5d8704a4a33801211a4c93c21ad",
              "IPY_MODEL_f4281abeada644379599cf6ace8a3b25"
            ],
            "layout": "IPY_MODEL_cc4a564fa5de45eca08cb015a17b9034"
          }
        },
        "8b500b9ee7c54a8489bdc9619bc69c3f": {
          "model_module": "@jupyter-widgets/controls",
          "model_name": "HTMLModel",
          "model_module_version": "1.5.0",
          "state": {
            "_dom_classes": [],
            "_model_module": "@jupyter-widgets/controls",
            "_model_module_version": "1.5.0",
            "_model_name": "HTMLModel",
            "_view_count": null,
            "_view_module": "@jupyter-widgets/controls",
            "_view_module_version": "1.5.0",
            "_view_name": "HTMLView",
            "description": "",
            "description_tooltip": null,
            "layout": "IPY_MODEL_613aae92caf44ed8b0c6533cda612d86",
            "placeholder": "​",
            "style": "IPY_MODEL_8afe85c103aa4573abbfb75b24458112",
            "value": ""
          }
        },
        "4eeac5d8704a4a33801211a4c93c21ad": {
          "model_module": "@jupyter-widgets/controls",
          "model_name": "FloatProgressModel",
          "model_module_version": "1.5.0",
          "state": {
            "_dom_classes": [],
            "_model_module": "@jupyter-widgets/controls",
            "_model_module_version": "1.5.0",
            "_model_name": "FloatProgressModel",
            "_view_count": null,
            "_view_module": "@jupyter-widgets/controls",
            "_view_module_version": "1.5.0",
            "_view_name": "ProgressView",
            "bar_style": "success",
            "description": "",
            "description_tooltip": null,
            "layout": "IPY_MODEL_e7ee96578e524187a3514a17595f48b3",
            "max": 1648877,
            "min": 0,
            "orientation": "horizontal",
            "style": "IPY_MODEL_1c14423e7c7242d7b81d083425eeed53",
            "value": 1648877
          }
        },
        "f4281abeada644379599cf6ace8a3b25": {
          "model_module": "@jupyter-widgets/controls",
          "model_name": "HTMLModel",
          "model_module_version": "1.5.0",
          "state": {
            "_dom_classes": [],
            "_model_module": "@jupyter-widgets/controls",
            "_model_module_version": "1.5.0",
            "_model_name": "HTMLModel",
            "_view_count": null,
            "_view_module": "@jupyter-widgets/controls",
            "_view_module_version": "1.5.0",
            "_view_name": "HTMLView",
            "description": "",
            "description_tooltip": null,
            "layout": "IPY_MODEL_5b70eacc1941496da4f3c50cc17cee9c",
            "placeholder": "​",
            "style": "IPY_MODEL_ad7fdda1ce3a44af86894e15fb267645",
            "value": " 1649664/? [00:00&lt;00:00, 32471817.62it/s]"
          }
        },
        "cc4a564fa5de45eca08cb015a17b9034": {
          "model_module": "@jupyter-widgets/base",
          "model_name": "LayoutModel",
          "model_module_version": "1.2.0",
          "state": {
            "_model_module": "@jupyter-widgets/base",
            "_model_module_version": "1.2.0",
            "_model_name": "LayoutModel",
            "_view_count": null,
            "_view_module": "@jupyter-widgets/base",
            "_view_module_version": "1.2.0",
            "_view_name": "LayoutView",
            "align_content": null,
            "align_items": null,
            "align_self": null,
            "border": null,
            "bottom": null,
            "display": null,
            "flex": null,
            "flex_flow": null,
            "grid_area": null,
            "grid_auto_columns": null,
            "grid_auto_flow": null,
            "grid_auto_rows": null,
            "grid_column": null,
            "grid_gap": null,
            "grid_row": null,
            "grid_template_areas": null,
            "grid_template_columns": null,
            "grid_template_rows": null,
            "height": null,
            "justify_content": null,
            "justify_items": null,
            "left": null,
            "margin": null,
            "max_height": null,
            "max_width": null,
            "min_height": null,
            "min_width": null,
            "object_fit": null,
            "object_position": null,
            "order": null,
            "overflow": null,
            "overflow_x": null,
            "overflow_y": null,
            "padding": null,
            "right": null,
            "top": null,
            "visibility": null,
            "width": null
          }
        },
        "613aae92caf44ed8b0c6533cda612d86": {
          "model_module": "@jupyter-widgets/base",
          "model_name": "LayoutModel",
          "model_module_version": "1.2.0",
          "state": {
            "_model_module": "@jupyter-widgets/base",
            "_model_module_version": "1.2.0",
            "_model_name": "LayoutModel",
            "_view_count": null,
            "_view_module": "@jupyter-widgets/base",
            "_view_module_version": "1.2.0",
            "_view_name": "LayoutView",
            "align_content": null,
            "align_items": null,
            "align_self": null,
            "border": null,
            "bottom": null,
            "display": null,
            "flex": null,
            "flex_flow": null,
            "grid_area": null,
            "grid_auto_columns": null,
            "grid_auto_flow": null,
            "grid_auto_rows": null,
            "grid_column": null,
            "grid_gap": null,
            "grid_row": null,
            "grid_template_areas": null,
            "grid_template_columns": null,
            "grid_template_rows": null,
            "height": null,
            "justify_content": null,
            "justify_items": null,
            "left": null,
            "margin": null,
            "max_height": null,
            "max_width": null,
            "min_height": null,
            "min_width": null,
            "object_fit": null,
            "object_position": null,
            "order": null,
            "overflow": null,
            "overflow_x": null,
            "overflow_y": null,
            "padding": null,
            "right": null,
            "top": null,
            "visibility": null,
            "width": null
          }
        },
        "8afe85c103aa4573abbfb75b24458112": {
          "model_module": "@jupyter-widgets/controls",
          "model_name": "DescriptionStyleModel",
          "model_module_version": "1.5.0",
          "state": {
            "_model_module": "@jupyter-widgets/controls",
            "_model_module_version": "1.5.0",
            "_model_name": "DescriptionStyleModel",
            "_view_count": null,
            "_view_module": "@jupyter-widgets/base",
            "_view_module_version": "1.2.0",
            "_view_name": "StyleView",
            "description_width": ""
          }
        },
        "e7ee96578e524187a3514a17595f48b3": {
          "model_module": "@jupyter-widgets/base",
          "model_name": "LayoutModel",
          "model_module_version": "1.2.0",
          "state": {
            "_model_module": "@jupyter-widgets/base",
            "_model_module_version": "1.2.0",
            "_model_name": "LayoutModel",
            "_view_count": null,
            "_view_module": "@jupyter-widgets/base",
            "_view_module_version": "1.2.0",
            "_view_name": "LayoutView",
            "align_content": null,
            "align_items": null,
            "align_self": null,
            "border": null,
            "bottom": null,
            "display": null,
            "flex": null,
            "flex_flow": null,
            "grid_area": null,
            "grid_auto_columns": null,
            "grid_auto_flow": null,
            "grid_auto_rows": null,
            "grid_column": null,
            "grid_gap": null,
            "grid_row": null,
            "grid_template_areas": null,
            "grid_template_columns": null,
            "grid_template_rows": null,
            "height": null,
            "justify_content": null,
            "justify_items": null,
            "left": null,
            "margin": null,
            "max_height": null,
            "max_width": null,
            "min_height": null,
            "min_width": null,
            "object_fit": null,
            "object_position": null,
            "order": null,
            "overflow": null,
            "overflow_x": null,
            "overflow_y": null,
            "padding": null,
            "right": null,
            "top": null,
            "visibility": null,
            "width": null
          }
        },
        "1c14423e7c7242d7b81d083425eeed53": {
          "model_module": "@jupyter-widgets/controls",
          "model_name": "ProgressStyleModel",
          "model_module_version": "1.5.0",
          "state": {
            "_model_module": "@jupyter-widgets/controls",
            "_model_module_version": "1.5.0",
            "_model_name": "ProgressStyleModel",
            "_view_count": null,
            "_view_module": "@jupyter-widgets/base",
            "_view_module_version": "1.2.0",
            "_view_name": "StyleView",
            "bar_color": null,
            "description_width": ""
          }
        },
        "5b70eacc1941496da4f3c50cc17cee9c": {
          "model_module": "@jupyter-widgets/base",
          "model_name": "LayoutModel",
          "model_module_version": "1.2.0",
          "state": {
            "_model_module": "@jupyter-widgets/base",
            "_model_module_version": "1.2.0",
            "_model_name": "LayoutModel",
            "_view_count": null,
            "_view_module": "@jupyter-widgets/base",
            "_view_module_version": "1.2.0",
            "_view_name": "LayoutView",
            "align_content": null,
            "align_items": null,
            "align_self": null,
            "border": null,
            "bottom": null,
            "display": null,
            "flex": null,
            "flex_flow": null,
            "grid_area": null,
            "grid_auto_columns": null,
            "grid_auto_flow": null,
            "grid_auto_rows": null,
            "grid_column": null,
            "grid_gap": null,
            "grid_row": null,
            "grid_template_areas": null,
            "grid_template_columns": null,
            "grid_template_rows": null,
            "height": null,
            "justify_content": null,
            "justify_items": null,
            "left": null,
            "margin": null,
            "max_height": null,
            "max_width": null,
            "min_height": null,
            "min_width": null,
            "object_fit": null,
            "object_position": null,
            "order": null,
            "overflow": null,
            "overflow_x": null,
            "overflow_y": null,
            "padding": null,
            "right": null,
            "top": null,
            "visibility": null,
            "width": null
          }
        },
        "ad7fdda1ce3a44af86894e15fb267645": {
          "model_module": "@jupyter-widgets/controls",
          "model_name": "DescriptionStyleModel",
          "model_module_version": "1.5.0",
          "state": {
            "_model_module": "@jupyter-widgets/controls",
            "_model_module_version": "1.5.0",
            "_model_name": "DescriptionStyleModel",
            "_view_count": null,
            "_view_module": "@jupyter-widgets/base",
            "_view_module_version": "1.2.0",
            "_view_name": "StyleView",
            "description_width": ""
          }
        },
        "a11c439e0a044230a2d9a6b7b2866208": {
          "model_module": "@jupyter-widgets/controls",
          "model_name": "HBoxModel",
          "model_module_version": "1.5.0",
          "state": {
            "_dom_classes": [],
            "_model_module": "@jupyter-widgets/controls",
            "_model_module_version": "1.5.0",
            "_model_name": "HBoxModel",
            "_view_count": null,
            "_view_module": "@jupyter-widgets/controls",
            "_view_module_version": "1.5.0",
            "_view_name": "HBoxView",
            "box_style": "",
            "children": [
              "IPY_MODEL_875ce73ded4c4b6eb11fd1a081eb02e8",
              "IPY_MODEL_92831ca6b9a84368be39000e9b4969f3",
              "IPY_MODEL_84a6d15b80a34b8ba9fda8cdd8ef2ea2"
            ],
            "layout": "IPY_MODEL_60d8e947351d40a591369ace3e4427f0"
          }
        },
        "875ce73ded4c4b6eb11fd1a081eb02e8": {
          "model_module": "@jupyter-widgets/controls",
          "model_name": "HTMLModel",
          "model_module_version": "1.5.0",
          "state": {
            "_dom_classes": [],
            "_model_module": "@jupyter-widgets/controls",
            "_model_module_version": "1.5.0",
            "_model_name": "HTMLModel",
            "_view_count": null,
            "_view_module": "@jupyter-widgets/controls",
            "_view_module_version": "1.5.0",
            "_view_name": "HTMLView",
            "description": "",
            "description_tooltip": null,
            "layout": "IPY_MODEL_019f03c9d6dc4857a66eb6ce4430cf17",
            "placeholder": "​",
            "style": "IPY_MODEL_4187840968d64698a045cfd7f15445c8",
            "value": ""
          }
        },
        "92831ca6b9a84368be39000e9b4969f3": {
          "model_module": "@jupyter-widgets/controls",
          "model_name": "FloatProgressModel",
          "model_module_version": "1.5.0",
          "state": {
            "_dom_classes": [],
            "_model_module": "@jupyter-widgets/controls",
            "_model_module_version": "1.5.0",
            "_model_name": "FloatProgressModel",
            "_view_count": null,
            "_view_module": "@jupyter-widgets/controls",
            "_view_module_version": "1.5.0",
            "_view_name": "ProgressView",
            "bar_style": "success",
            "description": "",
            "description_tooltip": null,
            "layout": "IPY_MODEL_d324a1931c5a428887773cec22f56d3f",
            "max": 4542,
            "min": 0,
            "orientation": "horizontal",
            "style": "IPY_MODEL_17ecddb98e634e739e638b8562e09023",
            "value": 4542
          }
        },
        "84a6d15b80a34b8ba9fda8cdd8ef2ea2": {
          "model_module": "@jupyter-widgets/controls",
          "model_name": "HTMLModel",
          "model_module_version": "1.5.0",
          "state": {
            "_dom_classes": [],
            "_model_module": "@jupyter-widgets/controls",
            "_model_module_version": "1.5.0",
            "_model_name": "HTMLModel",
            "_view_count": null,
            "_view_module": "@jupyter-widgets/controls",
            "_view_module_version": "1.5.0",
            "_view_name": "HTMLView",
            "description": "",
            "description_tooltip": null,
            "layout": "IPY_MODEL_cdbe6d7663714550969237810b9d9814",
            "placeholder": "​",
            "style": "IPY_MODEL_c438824f72ce4ae89d67cce4cc9b80a7",
            "value": " 5120/? [00:00&lt;00:00, 190518.25it/s]"
          }
        },
        "60d8e947351d40a591369ace3e4427f0": {
          "model_module": "@jupyter-widgets/base",
          "model_name": "LayoutModel",
          "model_module_version": "1.2.0",
          "state": {
            "_model_module": "@jupyter-widgets/base",
            "_model_module_version": "1.2.0",
            "_model_name": "LayoutModel",
            "_view_count": null,
            "_view_module": "@jupyter-widgets/base",
            "_view_module_version": "1.2.0",
            "_view_name": "LayoutView",
            "align_content": null,
            "align_items": null,
            "align_self": null,
            "border": null,
            "bottom": null,
            "display": null,
            "flex": null,
            "flex_flow": null,
            "grid_area": null,
            "grid_auto_columns": null,
            "grid_auto_flow": null,
            "grid_auto_rows": null,
            "grid_column": null,
            "grid_gap": null,
            "grid_row": null,
            "grid_template_areas": null,
            "grid_template_columns": null,
            "grid_template_rows": null,
            "height": null,
            "justify_content": null,
            "justify_items": null,
            "left": null,
            "margin": null,
            "max_height": null,
            "max_width": null,
            "min_height": null,
            "min_width": null,
            "object_fit": null,
            "object_position": null,
            "order": null,
            "overflow": null,
            "overflow_x": null,
            "overflow_y": null,
            "padding": null,
            "right": null,
            "top": null,
            "visibility": null,
            "width": null
          }
        },
        "019f03c9d6dc4857a66eb6ce4430cf17": {
          "model_module": "@jupyter-widgets/base",
          "model_name": "LayoutModel",
          "model_module_version": "1.2.0",
          "state": {
            "_model_module": "@jupyter-widgets/base",
            "_model_module_version": "1.2.0",
            "_model_name": "LayoutModel",
            "_view_count": null,
            "_view_module": "@jupyter-widgets/base",
            "_view_module_version": "1.2.0",
            "_view_name": "LayoutView",
            "align_content": null,
            "align_items": null,
            "align_self": null,
            "border": null,
            "bottom": null,
            "display": null,
            "flex": null,
            "flex_flow": null,
            "grid_area": null,
            "grid_auto_columns": null,
            "grid_auto_flow": null,
            "grid_auto_rows": null,
            "grid_column": null,
            "grid_gap": null,
            "grid_row": null,
            "grid_template_areas": null,
            "grid_template_columns": null,
            "grid_template_rows": null,
            "height": null,
            "justify_content": null,
            "justify_items": null,
            "left": null,
            "margin": null,
            "max_height": null,
            "max_width": null,
            "min_height": null,
            "min_width": null,
            "object_fit": null,
            "object_position": null,
            "order": null,
            "overflow": null,
            "overflow_x": null,
            "overflow_y": null,
            "padding": null,
            "right": null,
            "top": null,
            "visibility": null,
            "width": null
          }
        },
        "4187840968d64698a045cfd7f15445c8": {
          "model_module": "@jupyter-widgets/controls",
          "model_name": "DescriptionStyleModel",
          "model_module_version": "1.5.0",
          "state": {
            "_model_module": "@jupyter-widgets/controls",
            "_model_module_version": "1.5.0",
            "_model_name": "DescriptionStyleModel",
            "_view_count": null,
            "_view_module": "@jupyter-widgets/base",
            "_view_module_version": "1.2.0",
            "_view_name": "StyleView",
            "description_width": ""
          }
        },
        "d324a1931c5a428887773cec22f56d3f": {
          "model_module": "@jupyter-widgets/base",
          "model_name": "LayoutModel",
          "model_module_version": "1.2.0",
          "state": {
            "_model_module": "@jupyter-widgets/base",
            "_model_module_version": "1.2.0",
            "_model_name": "LayoutModel",
            "_view_count": null,
            "_view_module": "@jupyter-widgets/base",
            "_view_module_version": "1.2.0",
            "_view_name": "LayoutView",
            "align_content": null,
            "align_items": null,
            "align_self": null,
            "border": null,
            "bottom": null,
            "display": null,
            "flex": null,
            "flex_flow": null,
            "grid_area": null,
            "grid_auto_columns": null,
            "grid_auto_flow": null,
            "grid_auto_rows": null,
            "grid_column": null,
            "grid_gap": null,
            "grid_row": null,
            "grid_template_areas": null,
            "grid_template_columns": null,
            "grid_template_rows": null,
            "height": null,
            "justify_content": null,
            "justify_items": null,
            "left": null,
            "margin": null,
            "max_height": null,
            "max_width": null,
            "min_height": null,
            "min_width": null,
            "object_fit": null,
            "object_position": null,
            "order": null,
            "overflow": null,
            "overflow_x": null,
            "overflow_y": null,
            "padding": null,
            "right": null,
            "top": null,
            "visibility": null,
            "width": null
          }
        },
        "17ecddb98e634e739e638b8562e09023": {
          "model_module": "@jupyter-widgets/controls",
          "model_name": "ProgressStyleModel",
          "model_module_version": "1.5.0",
          "state": {
            "_model_module": "@jupyter-widgets/controls",
            "_model_module_version": "1.5.0",
            "_model_name": "ProgressStyleModel",
            "_view_count": null,
            "_view_module": "@jupyter-widgets/base",
            "_view_module_version": "1.2.0",
            "_view_name": "StyleView",
            "bar_color": null,
            "description_width": ""
          }
        },
        "cdbe6d7663714550969237810b9d9814": {
          "model_module": "@jupyter-widgets/base",
          "model_name": "LayoutModel",
          "model_module_version": "1.2.0",
          "state": {
            "_model_module": "@jupyter-widgets/base",
            "_model_module_version": "1.2.0",
            "_model_name": "LayoutModel",
            "_view_count": null,
            "_view_module": "@jupyter-widgets/base",
            "_view_module_version": "1.2.0",
            "_view_name": "LayoutView",
            "align_content": null,
            "align_items": null,
            "align_self": null,
            "border": null,
            "bottom": null,
            "display": null,
            "flex": null,
            "flex_flow": null,
            "grid_area": null,
            "grid_auto_columns": null,
            "grid_auto_flow": null,
            "grid_auto_rows": null,
            "grid_column": null,
            "grid_gap": null,
            "grid_row": null,
            "grid_template_areas": null,
            "grid_template_columns": null,
            "grid_template_rows": null,
            "height": null,
            "justify_content": null,
            "justify_items": null,
            "left": null,
            "margin": null,
            "max_height": null,
            "max_width": null,
            "min_height": null,
            "min_width": null,
            "object_fit": null,
            "object_position": null,
            "order": null,
            "overflow": null,
            "overflow_x": null,
            "overflow_y": null,
            "padding": null,
            "right": null,
            "top": null,
            "visibility": null,
            "width": null
          }
        },
        "c438824f72ce4ae89d67cce4cc9b80a7": {
          "model_module": "@jupyter-widgets/controls",
          "model_name": "DescriptionStyleModel",
          "model_module_version": "1.5.0",
          "state": {
            "_model_module": "@jupyter-widgets/controls",
            "_model_module_version": "1.5.0",
            "_model_name": "DescriptionStyleModel",
            "_view_count": null,
            "_view_module": "@jupyter-widgets/base",
            "_view_module_version": "1.2.0",
            "_view_name": "StyleView",
            "description_width": ""
          }
        }
      }
    }
  },
  "cells": [
    {
      "cell_type": "markdown",
      "metadata": {
        "id": "view-in-github",
        "colab_type": "text"
      },
      "source": [
        "<a href=\"https://colab.research.google.com/github/shazzad-hasan/practice-deep-learning-with-pytorch/blob/main/gan/gan_mnist.ipynb\" target=\"_parent\"><img src=\"https://colab.research.google.com/assets/colab-badge.svg\" alt=\"Open In Colab\"/></a>"
      ]
    },
    {
      "cell_type": "markdown",
      "source": [
        "In this notebook, we will build a generative adversarial network (GAN) trained on the MNIST dataset. From this we will be able to generate new handwritten digits. \n",
        "\n",
        "The process will be broken down into the following steps:\n",
        "\n",
        "  1. Load and visualize the dataset\n",
        "  2. Define a model\n",
        "      - Define a discriminator network\n",
        "      - Define a generator network\n",
        "      - Build complete network\n",
        "  3. Specify loss functions and optimizers\n",
        "  4. Train the model\n",
        "      - Discriminator training\n",
        "          * Compute the discriminator loss on real images\n",
        "          * Generate fake images\n",
        "          * Compute the discriminator loss on fake, generated images\n",
        "          * Add up real and fale losses\n",
        "          * Update discriminator's weights (backprop + optimization)\n",
        "      - Generator training\n",
        "          * Generate fake images\n",
        "          * Compute the discriminator loss on fake images using flipped labels\n",
        "          * Update generator's weights (backprop + optimization)\n",
        "  5. Generate new images\n"
      ],
      "metadata": {
        "id": "iC8Cfgstas6D"
      }
    },
    {
      "cell_type": "code",
      "source": [
        "# import required libraries\n",
        "import torch\n",
        "import torchvision\n",
        "\n",
        "import os\n",
        "import random\n",
        "import numpy as np\n",
        "import matplotlib.pyplot as plt\n",
        "%matplotlib inline"
      ],
      "metadata": {
        "id": "TR2XozawMDIO"
      },
      "execution_count": 1,
      "outputs": []
    },
    {
      "cell_type": "code",
      "source": [
        "# check if cuda is available\n",
        "train_on_gpu = torch.cuda.is_available()\n",
        "\n",
        "if train_on_gpu:\n",
        "  print(\"CUDA is available!\")\n",
        "else:\n",
        "  print(\"CUDA is not available!\")\n",
        "\n",
        "device = torch.device(\"cuda\") if train_on_gpu else torch.device(\"cpu\")"
      ],
      "metadata": {
        "id": "RGb712qpZo-I",
        "outputId": "a7990ed2-066f-4ee8-86b3-9d9889cbc9dd",
        "colab": {
          "base_uri": "https://localhost:8080/"
        }
      },
      "execution_count": 2,
      "outputs": [
        {
          "output_type": "stream",
          "name": "stdout",
          "text": [
            "CUDA is available!\n"
          ]
        }
      ]
    },
    {
      "cell_type": "code",
      "source": [
        "# settings\n",
        "    \n",
        "def set_all_seeds(seed):\n",
        "    os.environ[\"PL_GLOBAL_SEED\"] = str(seed)\n",
        "    random.seed(seed)\n",
        "    np.random.seed(seed)\n",
        "    torch.manual_seed(seed)\n",
        "    torch.cuda.manual_seed_all(seed)\n",
        "\n",
        "random_seed = 125\n",
        "set_all_seeds(random_seed)"
      ],
      "metadata": {
        "id": "cnkfX8AG3kbN"
      },
      "execution_count": 3,
      "outputs": []
    },
    {
      "cell_type": "markdown",
      "source": [
        "### Load and visualiza dataset"
      ],
      "metadata": {
        "id": "mhTqOKj_nPE_"
      }
    },
    {
      "cell_type": "code",
      "source": [
        "from torchvision import datasets\n",
        "import torchvision.transforms as transforms\n",
        "from torch.utils.data import DataLoader\n",
        "\n",
        "# convert data to torch.FloatTensor\n",
        "transform = transforms.ToTensor()\n",
        "\n",
        "# load dataset from torchvision.datasets \n",
        "train_data = datasets.MNIST(root=\"./data\", train=True, download=True, transform=transform)\n",
        "\n",
        "# number of subprocess to use for data loading\n",
        "num_workers = 0\n",
        "# how many samples per batch to load\n",
        "batch_size = 32\n",
        "\n",
        "# prepare dataloader\n",
        "train_loader = DataLoader(train_data, batch_size=batch_size, num_workers=num_workers)\n",
        "\n",
        "# image classes in the dataset\n",
        "classes = ['0','1','2','3','4','5', '6','7','8','9']\n",
        "num_classes = len(classes)"
      ],
      "metadata": {
        "id": "GhIbONz-mu9G",
        "outputId": "05a16cf7-c8dc-4a30-fb25-5a84b2dedeb5",
        "colab": {
          "base_uri": "https://localhost:8080/",
          "height": 423,
          "referenced_widgets": [
            "93cdd6a40d1a425fa5cfdec2bfbf9309",
            "806c3f80ad9c4b96a39fecc3b8ceaf9e",
            "e3fa7edba3c6462a946979717fba63e4",
            "7c1202936e9944b8ac5b4899b72eed8a",
            "8aeef5d160754623b221e021af700444",
            "eca93dc83572464a9d734d4be03281ed",
            "1394a300117c4498882d678ba966845c",
            "1ca9d4eafe5c407cba80568046de30ac",
            "c305535719834569a1fb5f7731a696cb",
            "3a7731447f9f4afebc285ad1befb80ec",
            "43040fadf95e4fa58c4c1cd690a0c64b",
            "bb1facc14762450f88b10fd97dc34484",
            "245642408e684f9c970b8fece404f98f",
            "d8bdf0b7bd194f36821308de416a7e91",
            "67ac03db39ec43fe9d6b3ddf6ff20f64",
            "27ad15e02762459e8441612ed4e923ac",
            "cd4443d8c21042a6962a7220dbce51cf",
            "7420d623dce24986add65f7ae0cfc9bd",
            "5553c2f1a5ac435aae552d36e5c4db6f",
            "8162f27d22fe40a5b769a260abfff98a",
            "df830f41d68c4f2fa6582702d87a85ca",
            "f26f6e8558fd41d999dc1572d7d988cf",
            "d4ce1733497048c7b0a092c76e73a4f7",
            "8b500b9ee7c54a8489bdc9619bc69c3f",
            "4eeac5d8704a4a33801211a4c93c21ad",
            "f4281abeada644379599cf6ace8a3b25",
            "cc4a564fa5de45eca08cb015a17b9034",
            "613aae92caf44ed8b0c6533cda612d86",
            "8afe85c103aa4573abbfb75b24458112",
            "e7ee96578e524187a3514a17595f48b3",
            "1c14423e7c7242d7b81d083425eeed53",
            "5b70eacc1941496da4f3c50cc17cee9c",
            "ad7fdda1ce3a44af86894e15fb267645",
            "a11c439e0a044230a2d9a6b7b2866208",
            "875ce73ded4c4b6eb11fd1a081eb02e8",
            "92831ca6b9a84368be39000e9b4969f3",
            "84a6d15b80a34b8ba9fda8cdd8ef2ea2",
            "60d8e947351d40a591369ace3e4427f0",
            "019f03c9d6dc4857a66eb6ce4430cf17",
            "4187840968d64698a045cfd7f15445c8",
            "d324a1931c5a428887773cec22f56d3f",
            "17ecddb98e634e739e638b8562e09023",
            "cdbe6d7663714550969237810b9d9814",
            "c438824f72ce4ae89d67cce4cc9b80a7"
          ]
        }
      },
      "execution_count": 4,
      "outputs": [
        {
          "output_type": "stream",
          "name": "stdout",
          "text": [
            "Downloading http://yann.lecun.com/exdb/mnist/train-images-idx3-ubyte.gz\n",
            "Downloading http://yann.lecun.com/exdb/mnist/train-images-idx3-ubyte.gz to ./data/MNIST/raw/train-images-idx3-ubyte.gz\n"
          ]
        },
        {
          "output_type": "display_data",
          "data": {
            "text/plain": [
              "  0%|          | 0/9912422 [00:00<?, ?it/s]"
            ],
            "application/vnd.jupyter.widget-view+json": {
              "version_major": 2,
              "version_minor": 0,
              "model_id": "93cdd6a40d1a425fa5cfdec2bfbf9309"
            }
          },
          "metadata": {}
        },
        {
          "output_type": "stream",
          "name": "stdout",
          "text": [
            "Extracting ./data/MNIST/raw/train-images-idx3-ubyte.gz to ./data/MNIST/raw\n",
            "\n",
            "Downloading http://yann.lecun.com/exdb/mnist/train-labels-idx1-ubyte.gz\n",
            "Downloading http://yann.lecun.com/exdb/mnist/train-labels-idx1-ubyte.gz to ./data/MNIST/raw/train-labels-idx1-ubyte.gz\n"
          ]
        },
        {
          "output_type": "display_data",
          "data": {
            "text/plain": [
              "  0%|          | 0/28881 [00:00<?, ?it/s]"
            ],
            "application/vnd.jupyter.widget-view+json": {
              "version_major": 2,
              "version_minor": 0,
              "model_id": "bb1facc14762450f88b10fd97dc34484"
            }
          },
          "metadata": {}
        },
        {
          "output_type": "stream",
          "name": "stdout",
          "text": [
            "Extracting ./data/MNIST/raw/train-labels-idx1-ubyte.gz to ./data/MNIST/raw\n",
            "\n",
            "Downloading http://yann.lecun.com/exdb/mnist/t10k-images-idx3-ubyte.gz\n",
            "Downloading http://yann.lecun.com/exdb/mnist/t10k-images-idx3-ubyte.gz to ./data/MNIST/raw/t10k-images-idx3-ubyte.gz\n"
          ]
        },
        {
          "output_type": "display_data",
          "data": {
            "text/plain": [
              "  0%|          | 0/1648877 [00:00<?, ?it/s]"
            ],
            "application/vnd.jupyter.widget-view+json": {
              "version_major": 2,
              "version_minor": 0,
              "model_id": "d4ce1733497048c7b0a092c76e73a4f7"
            }
          },
          "metadata": {}
        },
        {
          "output_type": "stream",
          "name": "stdout",
          "text": [
            "Extracting ./data/MNIST/raw/t10k-images-idx3-ubyte.gz to ./data/MNIST/raw\n",
            "\n",
            "Downloading http://yann.lecun.com/exdb/mnist/t10k-labels-idx1-ubyte.gz\n",
            "Downloading http://yann.lecun.com/exdb/mnist/t10k-labels-idx1-ubyte.gz to ./data/MNIST/raw/t10k-labels-idx1-ubyte.gz\n"
          ]
        },
        {
          "output_type": "display_data",
          "data": {
            "text/plain": [
              "  0%|          | 0/4542 [00:00<?, ?it/s]"
            ],
            "application/vnd.jupyter.widget-view+json": {
              "version_major": 2,
              "version_minor": 0,
              "model_id": "a11c439e0a044230a2d9a6b7b2866208"
            }
          },
          "metadata": {}
        },
        {
          "output_type": "stream",
          "name": "stdout",
          "text": [
            "Extracting ./data/MNIST/raw/t10k-labels-idx1-ubyte.gz to ./data/MNIST/raw\n",
            "\n"
          ]
        }
      ]
    },
    {
      "cell_type": "code",
      "source": [
        "# print out some data stats\n",
        "\n",
        "print('Number of training images:', len(train_data))\n",
        "\n",
        "for inputs, targets in train_loader:\n",
        "  print(\"Image batch dimensions:\", inputs.shape)\n",
        "  print(\"Image label dimensions:\", targets.shape)\n",
        "  print(\"Class labels of 10 examples:\", targets[:10])\n",
        "  break"
      ],
      "metadata": {
        "id": "Jayuhk8vpjD8",
        "outputId": "4c5df1ca-6afb-4425-90be-a1e067241b1e",
        "colab": {
          "base_uri": "https://localhost:8080/"
        }
      },
      "execution_count": 5,
      "outputs": [
        {
          "output_type": "stream",
          "name": "stdout",
          "text": [
            "Number of training images: 60000\n",
            "Image batch dimensions: torch.Size([32, 1, 28, 28])\n",
            "Image label dimensions: torch.Size([32])\n",
            "Class labels of 10 examples: tensor([5, 0, 4, 1, 9, 2, 1, 3, 1, 4])\n"
          ]
        }
      ]
    },
    {
      "cell_type": "code",
      "source": [
        "# visualize a batch of training data\n",
        "\n",
        "def imshow(img):\n",
        "  plt.imshow(np.squeeze(img), cmap=\"gray\")\n",
        "\n",
        "# obtain one batch on training images\n",
        "dataiter = iter(train_loader)\n",
        "inputs, targets = dataiter.next()\n",
        "inputs = inputs.numpy()\n",
        "\n",
        "# plot some images in the batch along with the corresponding labels\n",
        "fig = plt.figure(figsize=(10, 4))\n",
        "for idx in np.arange(10):\n",
        "  ax = fig.add_subplot(2, 10/2, idx+1, xticks=[], yticks=[])\n",
        "  imshow(inputs[idx])\n",
        "  ax.set_title(str(targets[idx].item()))"
      ],
      "metadata": {
        "id": "_TK2Ezk8sthd",
        "outputId": "ce33b16c-b032-4989-ac3a-a1039e774dc7",
        "colab": {
          "base_uri": "https://localhost:8080/",
          "height": 265
        }
      },
      "execution_count": 6,
      "outputs": [
        {
          "output_type": "display_data",
          "data": {
            "text/plain": [
              "<Figure size 720x288 with 10 Axes>"
            ],
            "image/png": "[encoded data removed]"
          },
          "metadata": {}
        }
      ]
    },
    {
      "cell_type": "markdown",
      "source": [
        "### Define the model"
      ],
      "metadata": {
        "id": "s3BeL45l0iFW"
      }
    },
    {
      "cell_type": "code",
      "source": [
        "# Discriminator network\n",
        "\n",
        "import torch.nn as nn\n",
        "import torch.nn.functional as F\n",
        "\n",
        "class Discriminator(nn.Module):\n",
        "  def __init__(self, input_size, hidden_dim, output_size):\n",
        "    super(Discriminator, self).__init__()\n",
        "    self.fc1 = nn.Linear(input_size, hidden_dim * 4)\n",
        "    self.fc2 = nn.Linear(hidden_dim * 4, hidden_dim * 2)\n",
        "    self.fc3 = nn.Linear(hidden_dim * 2, hidden_dim)\n",
        "    self.fc4 = nn.Linear(hidden_dim, output_size)\n",
        "    self.dropout = nn.Dropout(0.2)\n",
        "\n",
        "  def forward(self, x):\n",
        "    x = x.view(-1, 28 * 28)\n",
        "    x = F.leaky_relu(self.fc1(x), 0.2)\n",
        "    x = self.dropout(x)\n",
        "    x = F.leaky_relu(self.fc2(x), 0.2)\n",
        "    x = self.dropout(x)\n",
        "    x = F.leaky_relu(self.fc3(x), 0.2)\n",
        "    x = self.dropout(x)\n",
        "    out = self.fc4(x)\n",
        "    return out"
      ],
      "metadata": {
        "id": "a9GHrHAbzFr2"
      },
      "execution_count": 7,
      "outputs": []
    },
    {
      "cell_type": "code",
      "source": [
        "# Generator network\n",
        "\n",
        "class Generator(nn.Module):\n",
        "  def __init__(self, input_size, hidden_dim, output_size):\n",
        "    super(Generator, self).__init__()\n",
        "    self.fc1 = nn.Linear(input_size, hidden_dim)\n",
        "    self.fc2 = nn.Linear(hidden_dim, hidden_dim * 2)\n",
        "    self.fc3 = nn.Linear(hidden_dim * 2, hidden_dim * 4)\n",
        "    self.fc4 = nn.Linear(hidden_dim * 4, output_size)\n",
        "    self.dropout = nn.Dropout(0.2)\n",
        "\n",
        "  def forward(self, x):\n",
        "    x = F.leaky_relu(self.fc1(x), 0.2)\n",
        "    x = self.dropout(x)\n",
        "    x = F.leaky_relu(self.fc2(x), 0.2)\n",
        "    x = self.dropout(x)\n",
        "    x = F.leaky_relu(self.fc3(x), 0.2)\n",
        "    x = self.dropout(x)\n",
        "    out = F.tanh(self.fc4(x))\n",
        "    return out"
      ],
      "metadata": {
        "id": "JD-euqXl8Y-7"
      },
      "execution_count": 8,
      "outputs": []
    },
    {
      "cell_type": "code",
      "source": [
        "# Discriminator hyparameters\n",
        "\n",
        "# size of the input image to discriminator \n",
        "input_size = 28*28\n",
        "# size of the discriminator output\n",
        "d_output_size = 1\n",
        "# size of the last hidden layer\n",
        "d_hidden_size = 32\n",
        "\n",
        "# Generator hyperparameters\n",
        "\n",
        "# size of the latent vector\n",
        "z_size = 100\n",
        "# size of the generator output\n",
        "g_output_size = 28*28\n",
        "# size of the first hidden layer\n",
        "g_hidden_size = 32\n",
        "\n",
        "# Build complete network\n",
        "D = Discriminator(input_size, d_hidden_size, d_output_size).to(device)\n",
        "G = Generator(z_size, g_hidden_size, g_output_size).to(device)\n",
        "\n",
        "print(D)\n",
        "print()\n",
        "print(G)"
      ],
      "metadata": {
        "id": "01e1CX5f9o7D",
        "outputId": "f6cf67fc-c549-4db6-ac4f-395814fc2bc8",
        "colab": {
          "base_uri": "https://localhost:8080/"
        }
      },
      "execution_count": 9,
      "outputs": [
        {
          "output_type": "stream",
          "name": "stdout",
          "text": [
            "Discriminator(\n",
            "  (fc1): Linear(in_features=784, out_features=128, bias=True)\n",
            "  (fc2): Linear(in_features=128, out_features=64, bias=True)\n",
            "  (fc3): Linear(in_features=64, out_features=32, bias=True)\n",
            "  (fc4): Linear(in_features=32, out_features=1, bias=True)\n",
            "  (dropout): Dropout(p=0.2, inplace=False)\n",
            ")\n",
            "\n",
            "Generator(\n",
            "  (fc1): Linear(in_features=100, out_features=32, bias=True)\n",
            "  (fc2): Linear(in_features=32, out_features=64, bias=True)\n",
            "  (fc3): Linear(in_features=64, out_features=128, bias=True)\n",
            "  (fc4): Linear(in_features=128, out_features=784, bias=True)\n",
            "  (dropout): Dropout(p=0.2, inplace=False)\n",
            ")\n"
          ]
        }
      ]
    },
    {
      "cell_type": "markdown",
      "source": [
        "### Specify loss functions and optimizers"
      ],
      "metadata": {
        "id": "BsI4fzGx_y9T"
      }
    },
    {
      "cell_type": "code",
      "source": [
        "# real image loss\n",
        "def real_loss(D_out, smooth=False):\n",
        "  batch_size = D_out.size(0)\n",
        "  if smooth:\n",
        "    labels = torch.ones(batch_size) * 0.9 # label smoothing (from 1.0 to 0.9)\n",
        "  else:\n",
        "    labels = torch.ones(batch_size) # real label = 1\n",
        "  # move labels to the right device\n",
        "  labels = labels.to(device)\n",
        "  # binary cross entropy with logits loss\n",
        "  criterion = nn.BCEWithLogitsLoss()\n",
        "  # calculate loss\n",
        "  loss = criterion(D_out.squeeze(), labels)\n",
        "  return loss\n",
        "\n",
        "# fake image loss\n",
        "def fake_loss(D_out):\n",
        "  batch_size = D_out.size(0)\n",
        "  labels = torch.zeros(batch_size) # fake label = 0\n",
        "  labels = labels.to(device)\n",
        "  criterion = nn.BCEWithLogitsLoss()\n",
        "  loss = criterion(D_out.squeeze(), labels)\n",
        "  return loss "
      ],
      "metadata": {
        "id": "7cEmB2ODCW8r"
      },
      "execution_count": 10,
      "outputs": []
    },
    {
      "cell_type": "code",
      "source": [
        "import torch.optim as optim\n",
        "\n",
        "# specify optimizer\n",
        "lr = 0.0001\n",
        "\n",
        "# optimizer for discriminator\n",
        "d_optimizer = optim.Adam(D.parameters(), lr)\n",
        "# optimizer for generator\n",
        "g_optimizer = optim.Adam(G.parameters(), lr)"
      ],
      "metadata": {
        "id": "jE4Lkx7kVcDT"
      },
      "execution_count": 11,
      "outputs": []
    },
    {
      "cell_type": "markdown",
      "source": [
        "### Train the model"
      ],
      "metadata": {
        "id": "QFns9-YnCXdA"
      }
    },
    {
      "cell_type": "code",
      "source": [
        "import pickle as pkl\n",
        "\n",
        "# number of epochs to train the model\n",
        "num_epochs = 10\n",
        "\n",
        "print_every = 400\n",
        "\n",
        "# track training losses\n",
        "G_losses, D_losses = [], []\n",
        "# track generated fake samples\n",
        "samples = []\n",
        "\n",
        "# Get some fixed data / latent (noise) for sampling. These are images that are held\n",
        "# constant throughout training for evaluating / visualizing the model's performance\n",
        "sample_size=16\n",
        "fixed_z = np.random.uniform(-1, 1, size=(sample_size, z_size))\n",
        "fixed_z = torch.from_numpy(fixed_z).float()\n",
        "fixed_z = fixed_z.to(device)\n",
        "\n",
        "# set models to training mode\n",
        "D.train()\n",
        "G.train()\n",
        "for epoch in range(num_epochs):\n",
        "    \n",
        "    for batch_idx, (real_images, _) in enumerate(train_loader):\n",
        "\n",
        "        batch_size = real_images.size(0)\n",
        "\n",
        "        # move images to the right device        \n",
        "        real_images = real_images.to(device)\n",
        "        # rescale images from [0,1) to [-1, 1)\n",
        "        real_images = real_images * 2 - 1 \n",
        "        \n",
        "        # ----------- train the discriminator ------------\n",
        "\n",
        "        # clear the gradients of all optimized variables\n",
        "        d_optimizer.zero_grad()\n",
        "        \n",
        "        # 1. Train with real images\n",
        "\n",
        "        # compute the discriminator losses on real images\n",
        "        D_real = D(real_images)\n",
        "        d_real_loss = real_loss(D_real, smooth=True)\n",
        "        \n",
        "        # 2. Train with fake images\n",
        "        \n",
        "        # generate fake images\n",
        "        with torch.no_grad():\n",
        "            z = np.random.uniform(-1, 1, size=(batch_size, z_size))\n",
        "            z = torch.from_numpy(z).float()\n",
        "            z = z.to(device)\n",
        "            fake_images = G(z)\n",
        "        \n",
        "        # compute the discriminator losses on fake images        \n",
        "        D_fake = D(fake_images)\n",
        "        d_fake_loss = fake_loss(D_fake)\n",
        "        \n",
        "        # add up losses\n",
        "        d_loss = d_real_loss + d_fake_loss\n",
        "        # backward pass\n",
        "        d_loss.backward()\n",
        "        # update parameters\n",
        "        d_optimizer.step()\n",
        "        \n",
        "        # ----------- train the generator -------------\n",
        "\n",
        "        # clear the gradients of all optimized variables\n",
        "        g_optimizer.zero_grad()\n",
        "        \n",
        "        # 1. Train with fake images with flipped labels\n",
        "        \n",
        "        # Generate fake images\n",
        "        z = np.random.uniform(-1, 1, size=(batch_size, z_size))\n",
        "        z = torch.from_numpy(z).float()\n",
        "        z = z.to(device)\n",
        "        fake_images = G(z)\n",
        "        \n",
        "        # compute the discriminator losses on fake images with flipped labels\n",
        "        D_fake = D(fake_images)\n",
        "        g_loss = real_loss(D_fake)\n",
        "        \n",
        "        # backward pass\n",
        "        g_loss.backward()\n",
        "        # update parameters\n",
        "        g_optimizer.step()\n",
        "\n",
        "        if batch_idx % print_every == 0:\n",
        "          print('Epoch [{} / {}] | d_loss: {:.6f} | g_loss: {:.6f}'.format(epoch+1, num_epochs, d_loss.item(), g_loss.item()))\n",
        "\n",
        "    # append discriminator loss and generator loss after each epoch\n",
        "    G_losses.append(g_loss.item())\n",
        "    D_losses.append(d_loss.item())\n",
        "    \n",
        "    # set to evaluation mode\n",
        "    G.eval()\n",
        "    # generate samples\n",
        "    sample_z = G(fixed_z)\n",
        "    # save generated samples\n",
        "    samples.append(sample_z)\n",
        "    # set back to train mode\n",
        "    G.train()\n",
        "\n",
        "# save training generator samples\n",
        "with open(\"samples.pkl\", \"wb\") as f:\n",
        "  pkl.dump(samples, f)"
      ],
      "metadata": {
        "id": "YZUQaF5jD2zs",
        "outputId": "c50dc16e-0d6f-4ad6-ef00-98472e231aa2",
        "colab": {
          "base_uri": "https://localhost:8080/"
        }
      },
      "execution_count": 12,
      "outputs": [
        {
          "output_type": "stream",
          "name": "stderr",
          "text": [
            "/usr/local/lib/python3.7/dist-packages/torch/nn/functional.py:1933: UserWarning: nn.functional.tanh is deprecated. Use torch.tanh instead.\n",
            "  warnings.warn(\"nn.functional.tanh is deprecated. Use torch.tanh instead.\")\n"
          ]
        },
        {
          "output_type": "stream",
          "name": "stdout",
          "text": [
            "Epoch [1 / 10] | d_loss: 1.383274 | g_loss: 0.683199\n",
            "Epoch [1 / 10] | d_loss: 0.811550 | g_loss: 1.205373\n",
            "Epoch [1 / 10] | d_loss: 0.966385 | g_loss: 1.029440\n",
            "Epoch [1 / 10] | d_loss: 0.586537 | g_loss: 2.591331\n",
            "Epoch [1 / 10] | d_loss: 0.779294 | g_loss: 1.773248\n",
            "Epoch [2 / 10] | d_loss: 0.558656 | g_loss: 2.624938\n",
            "Epoch [2 / 10] | d_loss: 0.516201 | g_loss: 3.860445\n",
            "Epoch [2 / 10] | d_loss: 0.480233 | g_loss: 3.675329\n",
            "Epoch [2 / 10] | d_loss: 0.462014 | g_loss: 3.829152\n",
            "Epoch [2 / 10] | d_loss: 0.402482 | g_loss: 6.084248\n",
            "Epoch [3 / 10] | d_loss: 0.451207 | g_loss: 3.992004\n",
            "Epoch [3 / 10] | d_loss: 0.382212 | g_loss: 5.331577\n",
            "Epoch [3 / 10] | d_loss: 0.385536 | g_loss: 4.273800\n",
            "Epoch [3 / 10] | d_loss: 0.405408 | g_loss: 4.347970\n",
            "Epoch [3 / 10] | d_loss: 0.373488 | g_loss: 5.494362\n",
            "Epoch [4 / 10] | d_loss: 0.543807 | g_loss: 5.414948\n",
            "Epoch [4 / 10] | d_loss: 0.487185 | g_loss: 3.908448\n",
            "Epoch [4 / 10] | d_loss: 0.419029 | g_loss: 5.380918\n",
            "Epoch [4 / 10] | d_loss: 0.438093 | g_loss: 6.516597\n",
            "Epoch [4 / 10] | d_loss: 0.376727 | g_loss: 6.238174\n",
            "Epoch [5 / 10] | d_loss: 0.389990 | g_loss: 4.554489\n",
            "Epoch [5 / 10] | d_loss: 0.460374 | g_loss: 6.886982\n",
            "Epoch [5 / 10] | d_loss: 0.395868 | g_loss: 5.192853\n",
            "Epoch [5 / 10] | d_loss: 0.343812 | g_loss: 6.455979\n",
            "Epoch [5 / 10] | d_loss: 0.458408 | g_loss: 4.917011\n",
            "Epoch [6 / 10] | d_loss: 0.510223 | g_loss: 5.052538\n",
            "Epoch [6 / 10] | d_loss: 0.453158 | g_loss: 4.864378\n",
            "Epoch [6 / 10] | d_loss: 0.598075 | g_loss: 4.721760\n",
            "Epoch [6 / 10] | d_loss: 0.379633 | g_loss: 6.710869\n",
            "Epoch [6 / 10] | d_loss: 0.409579 | g_loss: 7.267069\n",
            "Epoch [7 / 10] | d_loss: 0.358334 | g_loss: 6.531765\n",
            "Epoch [7 / 10] | d_loss: 0.411551 | g_loss: 6.818349\n",
            "Epoch [7 / 10] | d_loss: 0.439831 | g_loss: 5.356922\n",
            "Epoch [7 / 10] | d_loss: 0.426881 | g_loss: 4.785917\n",
            "Epoch [7 / 10] | d_loss: 0.513831 | g_loss: 6.588455\n",
            "Epoch [8 / 10] | d_loss: 0.489959 | g_loss: 2.587180\n",
            "Epoch [8 / 10] | d_loss: 0.469690 | g_loss: 5.396869\n",
            "Epoch [8 / 10] | d_loss: 0.413431 | g_loss: 5.453050\n",
            "Epoch [8 / 10] | d_loss: 0.371225 | g_loss: 5.921677\n",
            "Epoch [8 / 10] | d_loss: 0.414827 | g_loss: 4.902284\n",
            "Epoch [9 / 10] | d_loss: 0.576346 | g_loss: 4.932872\n",
            "Epoch [9 / 10] | d_loss: 0.444616 | g_loss: 5.784899\n",
            "Epoch [9 / 10] | d_loss: 0.573590 | g_loss: 4.538888\n",
            "Epoch [9 / 10] | d_loss: 0.435956 | g_loss: 6.805131\n",
            "Epoch [9 / 10] | d_loss: 0.482468 | g_loss: 5.668795\n",
            "Epoch [10 / 10] | d_loss: 0.535180 | g_loss: 4.193266\n",
            "Epoch [10 / 10] | d_loss: 0.504916 | g_loss: 4.539857\n",
            "Epoch [10 / 10] | d_loss: 0.556009 | g_loss: 3.990646\n",
            "Epoch [10 / 10] | d_loss: 0.448074 | g_loss: 3.562104\n",
            "Epoch [10 / 10] | d_loss: 0.520468 | g_loss: 4.329806\n"
          ]
        }
      ]
    },
    {
      "cell_type": "code",
      "source": [
        "# plot discriminator and generator loss for each epoch\n",
        "epochs = range(1, num_epochs+1)\n",
        "\n",
        "plt.figure(figsize=(10,5))\n",
        "plt.plot(epochs, G_losses, label=\"Generator\")\n",
        "plt.plot(epochs, D_losses,label=\"Discriminator\")\n",
        "plt.xlabel(\"Epoch\")\n",
        "plt.ylabel(\"Loss\")\n",
        "plt.title(\"Generator and Discriminator Loss\")\n",
        "plt.legend()\n",
        "plt.show()"
      ],
      "metadata": {
        "id": "jccktprZODxn",
        "outputId": "40436287-863f-48b7-9862-d2e72184bc79",
        "colab": {
          "base_uri": "https://localhost:8080/",
          "height": 350
        }
      },
      "execution_count": 13,
      "outputs": [
        {
          "output_type": "display_data",
          "data": {
            "text/plain": [
              "<Figure size 720x360 with 1 Axes>"
            ],
            "image/png": "[encoded data removed]"
          },
          "metadata": {
            "needs_background": "light"
          }
        }
      ]
    },
    {
      "cell_type": "code",
      "source": [
        "# load saved samples from generator taken while training\n",
        "with open(\"samples.pkl\", \"rb\") as f:\n",
        "  samples = pkl.load(f)"
      ],
      "metadata": {
        "id": "udYbDnxZ2gKv"
      },
      "execution_count": 83,
      "outputs": []
    },
    {
      "cell_type": "code",
      "source": [
        "# vilualize generator's progress (generated samples)\n",
        "# after every 10 epochs as the model was training\n",
        "\n",
        "for epoch in range(0, num_epochs, 5):\n",
        "    fig, axes = plt.subplots(figsize=(10,5), nrows=2, ncols=5, sharey=True, sharex=True)\n",
        "    fig.suptitle(f'Generated images at epoch {epoch}')\n",
        "    for ax, img in zip(axes.flatten(), samples[epoch]):\n",
        "        img = img.detach().cpu().numpy()\n",
        "        ax.imshow(img.reshape((28,28)), cmap='gray')\n",
        "        ax.xaxis.set_visible(False)\n",
        "        ax.yaxis.set_visible(False)"
      ],
      "metadata": {
        "id": "gzVXdoKu_FUi",
        "outputId": "32c3ecbe-773c-408a-85a8-57f6a1bafc21",
        "colab": {
          "base_uri": "https://localhost:8080/",
          "height": 641
        }
      },
      "execution_count": 118,
      "outputs": [
        {
          "output_type": "display_data",
          "data": {
            "text/plain": [
              "<Figure size 720x360 with 10 Axes>"
            ],
            "image/png": "[encoded data removed]"
          },
          "metadata": {
            "needs_background": "light"
          }
        },
        {
          "output_type": "display_data",
          "data": {
            "text/plain": [
              "<Figure size 720x360 with 10 Axes>"
            ],
            "image/png": "[encoded data removed]"
          },
          "metadata": {
            "needs_background": "light"
          }
        }
      ]
    },
    {
      "cell_type": "code",
      "source": [
        "# visualize generated samples at the last epoch\n",
        "fig, axes = plt.subplots(figsize=(10,5), nrows=2, ncols=5, sharey=True, sharex=True)\n",
        "fig.suptitle('Generated images after last epoch')\n",
        "for ax, img in zip(axes.flatten(), samples[num_epochs-1]):\n",
        "    img = img.detach().cpu().numpy()\n",
        "    ax.imshow(img.reshape((28,28)), cmap='gray')\n",
        "    ax.xaxis.set_visible(False)\n",
        "    ax.yaxis.set_visible(False)"
      ],
      "metadata": {
        "id": "spGoPf4a-n1r",
        "outputId": "b3f505a0-184a-4c16-dc87-38e7dd354252",
        "colab": {
          "base_uri": "https://localhost:8080/",
          "height": 329
        }
      },
      "execution_count": 119,
      "outputs": [
        {
          "output_type": "display_data",
          "data": {
            "text/plain": [
              "<Figure size 720x360 with 10 Axes>"
            ],
            "image/png": "[encoded data removed]"
          },
          "metadata": {
            "needs_background": "light"
          }
        }
      ]
    },
    {
      "cell_type": "markdown",
      "source": [
        "### Generate new images"
      ],
      "metadata": {
        "id": "xOpuEUFfCo_j"
      }
    },
    {
      "cell_type": "code",
      "source": [
        "# new latent vectors\n",
        "\n",
        "sample_size = 16\n",
        "size_z = 100 # size of the latent vector\n",
        "rand_z = np.random.uniform(-1, 1, size=(sample_size, z_size))\n",
        "rand_z = torch.from_numpy(rand_z).float()\n",
        "rand_z = rand_z.to(device)\n",
        "\n",
        "G.eval()\n",
        "rand_images = G(rand_z)\n",
        "\n",
        "fig, axes = plt.subplots(figsize=(10,5), nrows=2, ncols=5, sharey=True, sharex=True)\n",
        "fig.suptitle('Generated new images from the generator')\n",
        "for ax, img in zip(axes.flatten(), [rand_images][0]):\n",
        "    img = img.detach().cpu().numpy()\n",
        "    ax.imshow(img.reshape((28,28)), cmap='gray')\n",
        "    ax.xaxis.set_visible(False)\n",
        "    ax.yaxis.set_visible(False)"
      ],
      "metadata": {
        "id": "XGhyxkmMjJmy",
        "outputId": "c863d6b7-0a81-44e6-e5f6-76d1a50f5a0c",
        "colab": {
          "base_uri": "https://localhost:8080/",
          "height": 364
        }
      },
      "execution_count": 121,
      "outputs": [
        {
          "output_type": "stream",
          "name": "stderr",
          "text": [
            "/usr/local/lib/python3.7/dist-packages/torch/nn/functional.py:1933: UserWarning: nn.functional.tanh is deprecated. Use torch.tanh instead.\n",
            "  warnings.warn(\"nn.functional.tanh is deprecated. Use torch.tanh instead.\")\n"
          ]
        },
        {
          "output_type": "display_data",
          "data": {
            "text/plain": [
              "<Figure size 720x360 with 10 Axes>"
            ],
            "image/png": "[encoded data removed]"
          },
          "metadata": {
            "needs_background": "light"
          }
        }
      ]
    },
    {
      "cell_type": "code",
      "source": [
        "# visualize some real images and fake images side by side."
      ],
      "metadata": {
        "id": "K2vAnmUejJqV"
      },
      "execution_count": null,
      "outputs": []
    }
  ]
}