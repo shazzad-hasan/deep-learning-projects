{
  "nbformat": 4,
  "nbformat_minor": 0,
  "metadata": {
    "colab": {
      "name": "dcgan_celebrity_faces.ipynb",
      "provenance": [],
      "machine_shape": "hm",
      "authorship_tag": "ABX9TyO95gja/4qaOBE4x2UGmQYX",
      "include_colab_link": true
    },
    "kernelspec": {
      "name": "python3",
      "display_name": "Python 3"
    },
    "language_info": {
      "name": "python"
    },
    "accelerator": "GPU",
    "gpuClass": "standard"
  },
  "cells": [
    {
      "cell_type": "markdown",
      "metadata": {
        "id": "view-in-github",
        "colab_type": "text"
      },
      "source": [
        "<a href=\"https://colab.research.google.com/github/shazzad-hasan/practice-deep-learning-with-pytorch/blob/main/gan/dcgan_celebrity_faces.ipynb\" target=\"_parent\"><img src=\"https://colab.research.google.com/assets/colab-badge.svg\" alt=\"Open In Colab\"/></a>"
      ]
    },
    {
      "cell_type": "code",
      "source": [
        "# upload kaggle API key from your local machine\n",
        "from google.colab import files\n",
        "files.upload()"
      ],
      "metadata": {
        "id": "1YS8Ojk5qeve"
      },
      "execution_count": null,
      "outputs": []
    },
    {
      "cell_type": "code",
      "source": [
        "# make a kaggle dir, copy the API key to it\n",
        "# and make sure the file is only readable by yourself (chmod 600)\n",
        "!mkdir ~/.kaggle \n",
        "!cp kaggle.json ~/.kaggle/\n",
        "!chmod 600 ~/.kaggle/kaggle.json"
      ],
      "metadata": {
        "id": "0_b7Jyiuqq60"
      },
      "execution_count": null,
      "outputs": []
    },
    {
      "cell_type": "code",
      "source": [
        "# use API command to download the dataset\n",
        "!kaggle datasets download -d jessicali9530/celeba-dataset"
      ],
      "metadata": {
        "id": "u9uISwWDqq-K"
      },
      "execution_count": null,
      "outputs": []
    },
    {
      "cell_type": "code",
      "source": [
        "!unzip -qq celeba-dataset.zip"
      ],
      "metadata": {
        "id": "ofj9z6BzqrB3"
      },
      "execution_count": null,
      "outputs": []
    },
    {
      "cell_type": "code",
      "execution_count": null,
      "metadata": {
        "id": "Jh0ZnQx3HcBN"
      },
      "outputs": [],
      "source": [
        "# import required libraries\n",
        "import torch\n",
        "import torchvision\n",
        "\n",
        "import os\n",
        "import random\n",
        "import numpy as np\n",
        "import matplotlib.pyplot as plt\n",
        "%matplotlib inline"
      ]
    },
    {
      "cell_type": "code",
      "source": [
        "# check if cuda is available\n",
        "train_on_gpu = torch.cuda.is_available()\n",
        "\n",
        "if train_on_gpu:\n",
        "  print(\"CUDA is available!\")\n",
        "else:\n",
        "  print(\"CUDA is not available!\")\n",
        "\n",
        "device = torch.device(\"cuda\") if train_on_gpu else torch.device(\"cpu\")"
      ],
      "metadata": {
        "id": "6iBvvnrrpXDU"
      },
      "execution_count": null,
      "outputs": []
    },
    {
      "cell_type": "code",
      "source": [
        "# settings\n",
        "    \n",
        "def set_all_seeds(seed):\n",
        "    os.environ[\"PL_GLOBAL_SEED\"] = str(seed)\n",
        "    random.seed(seed)\n",
        "    np.random.seed(seed)\n",
        "    torch.manual_seed(seed)\n",
        "    torch.cuda.manual_seed_all(seed)\n",
        "\n",
        "random_seed = 125\n",
        "set_all_seeds(random_seed)"
      ],
      "metadata": {
        "id": "kjck21_WpjCS"
      },
      "execution_count": null,
      "outputs": []
    },
    {
      "cell_type": "markdown",
      "source": [
        "### Load and visualiza dataset"
      ],
      "metadata": {
        "id": "_oQuCofopehO"
      }
    },
    {
      "cell_type": "code",
      "source": [
        "from torchvision import datasets\n",
        "import torchvision.transforms as transforms\n",
        "from torch.utils.data import DataLoader\n",
        "from torch.utils.data.sampler import SubsetRandomSampler\n",
        "\n",
        "# load and transform data using ImageFolder\n",
        "transform = transforms.Compose([\n",
        "                  transforms.Resize(64),\n",
        "                  transforms.CenterCrop(64),\n",
        "                  transforms.ToTensor(),\n",
        "                  transforms.Normalize((0.5, 0.5, 0.5), (0.5, 0.5, 0.5))\n",
        "])\n",
        "\n",
        "train_data = datasets.ImageFolder(root=\"./celeba\", transform=transform)\n",
        "\n",
        "num_workers = 0\n",
        "batch_size = 20\n",
        "\n",
        "train_loader = DataLoader(train_data, batch_size=batch_size, shuffle=True, num_workers=num_workers)"
      ],
      "metadata": {
        "id": "V_sG2UgmpcL0"
      },
      "execution_count": null,
      "outputs": []
    },
    {
      "cell_type": "code",
      "source": [
        "# visualize a batch of training data\n",
        "\n",
        "def imshow(img):\n",
        "  # unnormalize\n",
        "  img = img / 2 + 0.5\n",
        "  # convert from Tensor to image\n",
        "  plt.imshow(np.transpose(img, (1,2,0)))\n",
        "\n",
        "# obtain one batch on training images\n",
        "dataiter = iter(train_loader)\n",
        "images, labels = dataiter.next()\n",
        "# convert images to numpy for display\n",
        "images = images.numpy() \n",
        "\n",
        "# display 10 images\n",
        "fig = plt.figure(figsize=(10,4))\n",
        "for ind in np.arange(10):\n",
        "  ax = fig.add_subplot(2, 10/2, ind+1, xticks=[], yticks=[])\n",
        "  imshow(images[ind])"
      ],
      "metadata": {
        "id": "ZK85ufbWJwpr"
      },
      "execution_count": null,
      "outputs": []
    },
    {
      "cell_type": "code",
      "source": [
        "import torch.nn as nn\n",
        "import torch.nn.functional as F\n",
        "\n",
        "# Discriminator network\n",
        "\n",
        "class Discriminator(nn.Module):\n",
        "  def __init__(self, ngpu):\n",
        "      super(Discriminator, self).__init__()\n",
        "      self.ngpu = ngpu\n",
        "      self.main = nn.Sequential(\n",
        "          # input size in_channels x 64 x 64\n",
        "          nn.Conv2d(in_channels, num_feat_maps_d, 4, 2, 1, bias=False),\n",
        "          nn.LeakyReLU(0.2, inplace=True),\n",
        "          # state size. (num_feat_maps_d) x 32 x 32\n",
        "          nn.Conv2d(num_feat_maps_d, num_feat_maps_d * 2, 4, 2, 1, bias=False),\n",
        "          nn.BatchNorm2d(num_feat_maps_d * 2),\n",
        "          nn.LeakyReLU(0.2, inplace=True),\n",
        "          # state size. (num_feat_maps_d*2) x 16 x 16\n",
        "          nn.Conv2d(num_feat_maps_d * 2, num_feat_maps_d * 4, 4, 2, 1, bias=False),\n",
        "          nn.BatchNorm2d(num_feat_maps_d * 4),\n",
        "          nn.LeakyReLU(0.2, inplace=True),\n",
        "          # state size. (num_feat_maps_d*4) x 8 x 8\n",
        "          nn.Conv2d(num_feat_maps_d * 4, num_feat_maps_d * 8, 4, 2, 1, bias=False),\n",
        "          nn.BatchNorm2d(num_feat_maps_d * 8),\n",
        "          nn.LeakyReLU(0.2, inplace=True),\n",
        "          # state size. (num_feat_maps_d*8) x 4 x 4\n",
        "          nn.Conv2d(num_feat_maps_d * 8, 1, 4, 1, 0, bias=False),\n",
        "          nn.Sigmoid()\n",
        "      )\n",
        "\n",
        "  def forward(self, input):\n",
        "      return self.main(input)"
      ],
      "metadata": {
        "id": "LZvJuxPPax02"
      },
      "execution_count": null,
      "outputs": []
    },
    {
      "cell_type": "code",
      "source": [
        "# Generator network\n",
        "\n",
        "class Generator(nn.Module):\n",
        "  def __init__(self, ngpu):\n",
        "      super(Generator, self).__init__()\n",
        "      self.ngpu = ngpu\n",
        "      self.main = nn.Sequential(\n",
        "          # latent vertor z, going into a convolution\n",
        "          nn.ConvTranspose2d(latent_dim, num_feat_maps_g * 8, 4, 1, 0, bias=False),\n",
        "          nn.BatchNorm2d(num_feat_maps_g * 8),\n",
        "          nn.ReLU(True),\n",
        "          # state size. (num_feat_maps_g*8) x 4 x 4\n",
        "          nn.ConvTranspose2d(num_feat_maps_g * 8, num_feat_maps_g * 4, 4, 2, 1, bias=False),\n",
        "          nn.BatchNorm2d(num_feat_maps_g * 4),\n",
        "          nn.ReLU(True),\n",
        "          # state size. (num_feat_maps_g*4) x 8 x 8\n",
        "          nn.ConvTranspose2d(num_feat_maps_g * 4, num_feat_maps_g * 2, 4, 2, 1, bias=False),\n",
        "          nn.BatchNorm2d(num_feat_maps_g * 2),\n",
        "          nn.ReLU(True),\n",
        "          # state size. (num_feat_maps_g*2) x 16 x 16\n",
        "          nn.ConvTranspose2d(num_feat_maps_g * 2, num_feat_maps_g, 4, 2, 1, bias=False),\n",
        "          nn.BatchNorm2d(num_feat_maps_g),\n",
        "          nn.ReLU(True),\n",
        "          # state size. (num_feat_maps_g) x 32 x 32\n",
        "          nn.ConvTranspose2d(num_feat_maps_g, in_channels, 4, 2, 1, bias=False),\n",
        "          nn.Tanh()\n",
        "          # state size. (in_channels) x 64 x 64\n",
        "      )\n",
        "\n",
        "  def forward(self, input):\n",
        "      return self.main(input)"
      ],
      "metadata": {
        "id": "jspbjKHbT5hw"
      },
      "execution_count": null,
      "outputs": []
    },
    {
      "cell_type": "code",
      "source": [
        "## Discriminator hyparameters\n",
        "\n",
        "# num of channels in the training images\n",
        "in_channels = 3\n",
        "# size of feature map in discriminator\n",
        "num_feat_maps_d = 64\n",
        "\n",
        "\n",
        "## Generator hyperparameters\n",
        "\n",
        "# size of the latent vector, z\n",
        "latent_dim = 100\n",
        "# size of feature map in generator\n",
        "num_feat_maps_g = 64\n",
        "\n",
        "# Number of GPUs available (0 for CPU mode)\n",
        "num_gpu = 1\n",
        "\n",
        "# Build complete network\n",
        "D = Discriminator(num_gpu).to(device)\n",
        "G = Generator(num_gpu).to(device)\n",
        "\n",
        "print(D)\n",
        "print()\n",
        "print(G)"
      ],
      "metadata": {
        "id": "bHsPhDh2axxu"
      },
      "execution_count": null,
      "outputs": []
    },
    {
      "cell_type": "code",
      "source": [
        "import torch.optim as optim\n",
        "\n",
        "# Learning rate for optimizers\n",
        "lr = 0.0002\n",
        "\n",
        "# Beta1 hyperparam for Adam optimizers\n",
        "beta1 = 0.5\n",
        "\n",
        "# BCELoss function\n",
        "criterion = nn.BCELoss()\n",
        "\n",
        "# Create batch of latent vectors that we will use to visualize\n",
        "#  the progression of the generator\n",
        "fixed_noise = torch.randn(64, latent_dim, 1, 1, device=device)\n",
        "\n",
        "# Establish convention for real and fake labels during training\n",
        "real_label = 1.\n",
        "fake_label = 0.\n",
        "\n",
        "# optimizer for discriminator\n",
        "d_optimizer = optim.Adam(D.parameters(), lr, betas=(beta1, 0.999))\n",
        "# optimizer for generator\n",
        "g_optimizer = optim.Adam(G.parameters(), lr, betas=(beta1, 0.999))"
      ],
      "metadata": {
        "id": "l4p31rHvT5nw"
      },
      "execution_count": null,
      "outputs": []
    },
    {
      "cell_type": "code",
      "source": [
        "import torchvision.utils as vutils\n",
        "\n",
        "# Training Loop\n",
        "\n",
        "# Number of training epochs\n",
        "num_epochs = 5\n",
        "\n",
        "# Lists to keep track of progress\n",
        "img_list = []\n",
        "G_losses = []\n",
        "D_losses = []\n",
        "iters = 0\n",
        "\n",
        "print(\"Starting Training Loop...\")\n",
        "# For each epoch\n",
        "for epoch in range(num_epochs):\n",
        "    # For each batch in the dataloader\n",
        "    for i, data in enumerate(train_loader, 0):\n",
        "\n",
        "        ############################\n",
        "        # (1) Update D network: maximize log(D(x)) + log(1 - D(G(z)))\n",
        "        ###########################\n",
        "        ## Train with all-real batch\n",
        "        D.zero_grad()\n",
        "        # Format batch\n",
        "        real_cpu = data[0].to(device)\n",
        "        b_size = real_cpu.size(0)\n",
        "        label = torch.full((b_size,), real_label, dtype=torch.float, device=device)\n",
        "        # Forward pass real batch through D\n",
        "        output = D(real_cpu).view(-1)\n",
        "        # Calculate loss on all-real batch\n",
        "        errD_real = criterion(output, label)\n",
        "        # Calculate gradients for D in backward pass\n",
        "        errD_real.backward()\n",
        "        D_x = output.mean().item()\n",
        "\n",
        "        ## Train with all-fake batch\n",
        "        # Generate batch of latent vectors\n",
        "        noise = torch.randn(b_size, nz, 1, 1, device=device)\n",
        "        # Generate fake image batch with G\n",
        "        fake = G(noise)\n",
        "        label.fill_(fake_label)\n",
        "        # Classify all fake batch with D\n",
        "        output = D(fake.detach()).view(-1)\n",
        "        # Calculate D's loss on the all-fake batch\n",
        "        errD_fake = criterion(output, label)\n",
        "        # Calculate the gradients for this batch, accumulated (summed) with previous gradients\n",
        "        errD_fake.backward()\n",
        "        D_G_z1 = output.mean().item()\n",
        "        # Compute error of D as sum over the fake and the real batches\n",
        "        errD = errD_real + errD_fake\n",
        "        # Update D\n",
        "        d_optimizer.step()\n",
        "\n",
        "        ############################\n",
        "        # (2) Update G network: maximize log(D(G(z)))\n",
        "        ###########################\n",
        "        G.zero_grad()\n",
        "        label.fill_(real_label)  # fake labels are real for generator cost\n",
        "        # Since we just updated D, perform another forward pass of all-fake batch through D\n",
        "        output = D(fake).view(-1)\n",
        "        # Calculate G's loss based on this output\n",
        "        errG = criterion(output, label)\n",
        "        # Calculate gradients for G\n",
        "        errG.backward()\n",
        "        D_G_z2 = output.mean().item()\n",
        "        # Update G\n",
        "        g_optimizer.step()\n",
        "\n",
        "        # Output training stats\n",
        "        if i % 50 == 0:\n",
        "            print('[%d/%d][%d/%d]\\tLoss_D: %.4f\\tLoss_G: %.4f\\tD(x): %.4f\\tD(G(z)): %.4f / %.4f'\n",
        "                  % (epoch, num_epochs, i, len(train_loader),\n",
        "                     errD.item(), errG.item(), D_x, D_G_z1, D_G_z2))\n",
        "\n",
        "        # Save Losses for plotting later\n",
        "        G_losses.append(errG.item())\n",
        "        D_losses.append(errD.item())\n",
        "\n",
        "        # Check how the generator is doing by saving G's output on fixed_noise\n",
        "        if (iters % 500 == 0) or ((epoch == num_epochs-1) and (i == len(train_loader)-1)):\n",
        "            with torch.no_grad():\n",
        "                fake = G(fixed_noise).detach().cpu()\n",
        "            img_list.append(vutils.make_grid(fake, padding=2, normalize=True))\n",
        "\n",
        "        iters += 1"
      ],
      "metadata": {
        "id": "LlifmtKobT5x"
      },
      "execution_count": null,
      "outputs": []
    },
    {
      "cell_type": "code",
      "source": [
        ""
      ],
      "metadata": {
        "id": "QfawSxKobuQp"
      },
      "execution_count": null,
      "outputs": []
    }
  ]
}