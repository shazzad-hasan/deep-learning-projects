{
  "nbformat": 4,
  "nbformat_minor": 0,
  "metadata": {
    "colab": {
      "name": "dcgan_celebrity_faces.ipynb",
      "provenance": [],
      "machine_shape": "hm",
      "authorship_tag": "ABX9TyP6ad/60LfQvrGKSrDPKUyQ",
      "include_colab_link": true
    },
    "kernelspec": {
      "name": "python3",
      "display_name": "Python 3"
    },
    "language_info": {
      "name": "python"
    },
    "accelerator": "GPU",
    "gpuClass": "standard"
  },
  "cells": [
    {
      "cell_type": "markdown",
      "metadata": {
        "id": "view-in-github",
        "colab_type": "text"
      },
      "source": [
        "<a href=\"https://colab.research.google.com/github/shazzad-hasan/practice-deep-learning-with-pytorch/blob/main/gan/dcgan_celebrity_faces.ipynb\" target=\"_parent\"><img src=\"https://colab.research.google.com/assets/colab-badge.svg\" alt=\"Open In Colab\"/></a>"
      ]
    },
    {
      "cell_type": "code",
      "source": [
        "# upload kaggle API key from your local machine\n",
        "from google.colab import files\n",
        "files.upload()"
      ],
      "metadata": {
        "id": "1YS8Ojk5qeve"
      },
      "execution_count": null,
      "outputs": []
    },
    {
      "cell_type": "code",
      "source": [
        "# make a kaggle dir, copy the API key to it\n",
        "# and make sure the file is only readable by yourself (chmod 600)\n",
        "!mkdir ~/.kaggle \n",
        "!cp kaggle.json ~/.kaggle/\n",
        "!chmod 600 ~/.kaggle/kaggle.json"
      ],
      "metadata": {
        "id": "0_b7Jyiuqq60"
      },
      "execution_count": null,
      "outputs": []
    },
    {
      "cell_type": "code",
      "source": [
        "# use API command to download the dataset\n",
        "!kaggle datasets download -d jessicali9530/celeba-dataset"
      ],
      "metadata": {
        "id": "u9uISwWDqq-K"
      },
      "execution_count": null,
      "outputs": []
    },
    {
      "cell_type": "code",
      "source": [
        "!unzip -qq celeba-dataset.zip"
      ],
      "metadata": {
        "id": "ofj9z6BzqrB3"
      },
      "execution_count": null,
      "outputs": []
    },
    {
      "cell_type": "code",
      "execution_count": null,
      "metadata": {
        "id": "Jh0ZnQx3HcBN"
      },
      "outputs": [],
      "source": [
        "# import required libraries\n",
        "import torch\n",
        "import torchvision\n",
        "\n",
        "import os\n",
        "import random\n",
        "import numpy as np\n",
        "import matplotlib.pyplot as plt\n",
        "%matplotlib inline"
      ]
    },
    {
      "cell_type": "code",
      "source": [
        "# check if cuda is available\n",
        "train_on_gpu = torch.cuda.is_available()\n",
        "\n",
        "if train_on_gpu:\n",
        "  print(\"CUDA is available!\")\n",
        "else:\n",
        "  print(\"CUDA is not available!\")\n",
        "\n",
        "device = torch.device(\"cuda\") if train_on_gpu else torch.device(\"cpu\")"
      ],
      "metadata": {
        "id": "6iBvvnrrpXDU"
      },
      "execution_count": null,
      "outputs": []
    },
    {
      "cell_type": "code",
      "source": [
        "# settings\n",
        "    \n",
        "def set_all_seeds(seed):\n",
        "    os.environ[\"PL_GLOBAL_SEED\"] = str(seed)\n",
        "    random.seed(seed)\n",
        "    np.random.seed(seed)\n",
        "    torch.manual_seed(seed)\n",
        "    torch.cuda.manual_seed_all(seed)\n",
        "\n",
        "random_seed = 125\n",
        "set_all_seeds(random_seed)"
      ],
      "metadata": {
        "id": "kjck21_WpjCS"
      },
      "execution_count": null,
      "outputs": []
    },
    {
      "cell_type": "markdown",
      "source": [
        "### Load and visualiza dataset"
      ],
      "metadata": {
        "id": "_oQuCofopehO"
      }
    },
    {
      "cell_type": "code",
      "source": [
        "from torchvision import datasets\n",
        "import torchvision.transforms as transforms\n",
        "from torch.utils.data import DataLoader\n",
        "from torch.utils.data.sampler import SubsetRandomSampler\n",
        "\n",
        "# load and transform data using ImageFolder\n",
        "transform = transforms.Compose([\n",
        "                  transforms.Resize(64),\n",
        "                  transforms.CenterCrop(64),\n",
        "                  transforms.ToTensor(),\n",
        "                  transforms.Normalize((0.5, 0.5, 0.5), (0.5, 0.5, 0.5))\n",
        "])\n",
        "\n",
        "train_data = datasets.ImageFolder(root=\"./img_align_celeba\", transform=transform)\n",
        "\n",
        "# number of workers for dataloader\n",
        "num_workers = 0\n",
        "# batch size during training\n",
        "batch_size = 128\n",
        "\n",
        "train_loader = DataLoader(train_data, batch_size=batch_size, shuffle=True, num_workers=num_workers)"
      ],
      "metadata": {
        "id": "V_sG2UgmpcL0"
      },
      "execution_count": null,
      "outputs": []
    },
    {
      "cell_type": "code",
      "source": [
        "# visualize a batch of training data\n",
        "\n",
        "def imshow(img):\n",
        "  # unnormalize\n",
        "  img = img / 2 + 0.5\n",
        "  # convert from Tensor to image\n",
        "  plt.imshow(np.transpose(img, (1,2,0)))\n",
        "\n",
        "# obtain one batch on training images\n",
        "dataiter = iter(train_loader)\n",
        "images, labels = dataiter.next()\n",
        "# convert images to numpy for display\n",
        "images = images.numpy() \n",
        "\n",
        "# display 10 images\n",
        "fig = plt.figure(figsize=(10,4))\n",
        "for ind in np.arange(10):\n",
        "  ax = fig.add_subplot(2, 10/2, ind+1, xticks=[], yticks=[])\n",
        "  imshow(images[ind])"
      ],
      "metadata": {
        "id": "ZK85ufbWJwpr"
      },
      "execution_count": null,
      "outputs": []
    },
    {
      "cell_type": "code",
      "source": [
        "import torch.nn as nn\n",
        "import torch.nn.functional as F\n",
        "\n",
        "# Discriminator network\n",
        "\n",
        "class Discriminator(nn.Module):\n",
        "  def __init__(self, ngpu):\n",
        "      super(Discriminator, self).__init__()\n",
        "      self.ngpu = ngpu\n",
        "      self.main = nn.Sequential(\n",
        "          # in_channels x 64 x 64\n",
        "          nn.Conv2d(in_channels, num_feat_maps_d, 4, 2, 1, bias=False),\n",
        "          nn.LeakyReLU(0.2, inplace=True),\n",
        "          # (num_feat_maps_d) x 32 x 32\n",
        "          nn.Conv2d(num_feat_maps_d, num_feat_maps_d * 2, 4, 2, 1, bias=False),\n",
        "          nn.BatchNorm2d(num_feat_maps_d * 2),\n",
        "          nn.LeakyReLU(0.2, inplace=True),\n",
        "          # (num_feat_maps_d*2) x 16 x 16\n",
        "          nn.Conv2d(num_feat_maps_d * 2, num_feat_maps_d * 4, 4, 2, 1, bias=False),\n",
        "          nn.BatchNorm2d(num_feat_maps_d * 4),\n",
        "          nn.LeakyReLU(0.2, inplace=True),\n",
        "          # (num_feat_maps_d*4) x 8 x 8\n",
        "          nn.Conv2d(num_feat_maps_d * 4, num_feat_maps_d * 8, 4, 2, 1, bias=False),\n",
        "          nn.BatchNorm2d(num_feat_maps_d * 8),\n",
        "          nn.LeakyReLU(0.2, inplace=True),\n",
        "          # (num_feat_maps_d*8) x 4 x 4\n",
        "          nn.Conv2d(num_feat_maps_d * 8, 1, 4, 1, 0, bias=False),\n",
        "          # 1 x 1 x 1\n",
        "          nn.Flatten()\n",
        "      )\n",
        "\n",
        "  def forward(self, z):\n",
        "    img = self.main(z)\n",
        "    return img"
      ],
      "metadata": {
        "id": "LZvJuxPPax02"
      },
      "execution_count": null,
      "outputs": []
    },
    {
      "cell_type": "code",
      "source": [
        "# Generator network\n",
        "\n",
        "class Generator(nn.Module):\n",
        "  def __init__(self, ngpu):\n",
        "      super(Generator, self).__init__()\n",
        "      self.ngpu = ngpu\n",
        "      self.main = nn.Sequential(\n",
        "          # latent vertor z, going into a convolution\n",
        "          nn.ConvTranspose2d(latent_dim, num_feat_maps_g * 8, 4, 1, 0, bias=False),\n",
        "          nn.BatchNorm2d(num_feat_maps_g * 8),\n",
        "          nn.ReLU(True),\n",
        "          # (num_feat_maps_g * 8) x 4 x 4\n",
        "          nn.ConvTranspose2d(num_feat_maps_g * 8, num_feat_maps_g * 4, 4, 2, 1, bias=False),\n",
        "          nn.BatchNorm2d(num_feat_maps_g * 4),\n",
        "          nn.ReLU(True),\n",
        "          # (num_feat_maps_g * 4) x 8 x 8\n",
        "          nn.ConvTranspose2d(num_feat_maps_g * 4, num_feat_maps_g * 2, 4, 2, 1, bias=False),\n",
        "          nn.BatchNorm2d(num_feat_maps_g * 2),\n",
        "          nn.ReLU(True),\n",
        "          # (num_feat_maps_g*2) x 16 x 16\n",
        "          nn.ConvTranspose2d(num_feat_maps_g * 2, num_feat_maps_g, 4, 2, 1, bias=False),\n",
        "          nn.BatchNorm2d(num_feat_maps_g),\n",
        "          nn.ReLU(True),\n",
        "          # (num_feat_maps_g) x 32 x 32\n",
        "          nn.ConvTranspose2d(num_feat_maps_g, in_channels, 4, 2, 1, bias=False),\n",
        "          # (in_channels) x 64 x 64\n",
        "          nn.Tanh()\n",
        "      )\n",
        "\n",
        "  def forward(self, img):\n",
        "    logits = self.main(img)\n",
        "    return logits"
      ],
      "metadata": {
        "id": "jspbjKHbT5hw"
      },
      "execution_count": null,
      "outputs": []
    },
    {
      "cell_type": "code",
      "source": [
        "## Discriminator hyparameters\n",
        "\n",
        "# num of channels in the training images\n",
        "in_channels = 3\n",
        "# size of feature map in discriminator\n",
        "num_feat_maps_d = 64\n",
        "\n",
        "\n",
        "## Generator hyperparameters\n",
        "\n",
        "# size of the latent vector, z\n",
        "latent_dim = 100\n",
        "# size of feature map in generator\n",
        "num_feat_maps_g = 64\n",
        "\n",
        "# Number of GPUs available (0 for CPU mode)\n",
        "num_gpu = 1\n",
        "\n",
        "# Build complete network\n",
        "D = Discriminator(num_gpu).to(device)\n",
        "G = Generator(num_gpu).to(device)\n",
        "\n",
        "print(D)\n",
        "print()\n",
        "print(G)"
      ],
      "metadata": {
        "id": "bHsPhDh2axxu"
      },
      "execution_count": null,
      "outputs": []
    },
    {
      "cell_type": "code",
      "source": [
        "# real image loss\n",
        "def real_loss(D_out, smooth=False):\n",
        "  batch_size = D_out.size(0)\n",
        "  if smooth:\n",
        "    labels = torch.ones(batch_size) * 0.9 # label smoothing (from 1.0 to 0.9)\n",
        "  else:\n",
        "    labels = torch.ones(batch_size) # real label = 1\n",
        "  # move labels to the right device\n",
        "  labels = labels.to(device)\n",
        "  # binary cross entropy with logits loss\n",
        "  criterion = nn.BCEWithLogitsLoss()\n",
        "  # calculate loss\n",
        "  loss = criterion(D_out.squeeze(), labels)\n",
        "  return loss\n",
        "\n",
        "# fake image loss\n",
        "def fake_loss(D_out):\n",
        "  batch_size = D_out.size(0)\n",
        "  labels = torch.zeros(batch_size) # fake label = 0\n",
        "  labels = labels.to(device)\n",
        "  criterion = nn.BCEWithLogitsLoss()\n",
        "  loss = criterion(D_out.squeeze(), labels)\n",
        "  return loss"
      ],
      "metadata": {
        "id": "wuuYHMENzCc-"
      },
      "execution_count": null,
      "outputs": []
    },
    {
      "cell_type": "code",
      "source": [
        "import torch.optim as optim\n",
        "\n",
        "# Learning rate for optimizers\n",
        "lr = 0.0002\n",
        "\n",
        "# optimizer for discriminator\n",
        "d_optimizer = optim.Adam(D.parameters(), lr, betas=(0.5, 0.999))\n",
        "# optimizer for generator\n",
        "g_optimizer = optim.Adam(G.parameters(), lr, betas=(0.5, 0.999))"
      ],
      "metadata": {
        "id": "l4p31rHvT5nw"
      },
      "execution_count": null,
      "outputs": []
    },
    {
      "cell_type": "code",
      "source": [
        "import pickle as pkl\n",
        "\n",
        "# number of epochs to train the model\n",
        "num_epochs = 5\n",
        "\n",
        "print_every = 400\n",
        "\n",
        "# track training losses\n",
        "G_losses, D_losses = [], []\n",
        "# track generated fake samples\n",
        "samples = []\n",
        "\n",
        "# Get some fixed data / latent (noise) for sampling. These are images that are held\n",
        "# constant throughout training for evaluating / visualizing the model's performance\n",
        "fixed_noise = torch.randn(64, latent_dim, 1, 1, device=device)\n",
        "\n",
        "# set models to training mode\n",
        "D.train()\n",
        "G.train()\n",
        "for epoch in range(num_epochs):\n",
        "    \n",
        "    for batch_idx, (real_images, _) in enumerate(train_loader):\n",
        "\n",
        "        batch_size = real_images.size(0)\n",
        "\n",
        "        # move images to the right device        \n",
        "        real_images = real_images.to(device)\n",
        "        # rescale images from [0,1) to [-1, 1)\n",
        "        real_images = real_images * 2 - 1 \n",
        "        \n",
        "        # ----------- train the discriminator ------------\n",
        "\n",
        "        # clear the gradients of all optimized variables\n",
        "        d_optimizer.zero_grad()\n",
        "        \n",
        "        # 1. Train with real images\n",
        "\n",
        "        # compute the discriminator losses on real images\n",
        "        D_real = D(real_images)\n",
        "        d_real_loss = real_loss(D_real, smooth=True)\n",
        "        \n",
        "        # 2. Train with fake images\n",
        "        \n",
        "        # generate fake images\n",
        "        with torch.no_grad():\n",
        "            noise = torch.randn(batch_size, latent_dim, 1, 1, device=device)\n",
        "            fake_images = G(noise)\n",
        "        \n",
        "        # compute the discriminator losses on fake images        \n",
        "        D_fake = D(fake_images)\n",
        "        d_fake_loss = fake_loss(D_fake)\n",
        "        \n",
        "        # add up losses\n",
        "        d_loss = d_real_loss + d_fake_loss\n",
        "        # backward pass\n",
        "        d_loss.backward()\n",
        "        # update parameters\n",
        "        d_optimizer.step()\n",
        "        \n",
        "        # ----------- train the generator -------------\n",
        "\n",
        "        # clear the gradients of all optimized variables\n",
        "        g_optimizer.zero_grad()\n",
        "        \n",
        "        # 1. Train with fake images with flipped labels\n",
        "        \n",
        "        # Generate fake images\n",
        "        noise = torch.randn(batch_size, latent_dim, 1, 1, device=device)\n",
        "        fake_images = G(noise)\n",
        "        \n",
        "        # compute the discriminator losses on fake images with flipped labels\n",
        "        D_fake = D(fake_images)\n",
        "        g_loss = real_loss(D_fake)\n",
        "        \n",
        "        # backward pass\n",
        "        g_loss.backward()\n",
        "        # update parameters\n",
        "        g_optimizer.step()\n",
        "\n",
        "        if batch_idx % print_every == 0:\n",
        "          print('Epoch [{} / {}] | d_loss: {:.6f} | g_loss: {:.6f}'.format(epoch+1, num_epochs, d_loss.item(), g_loss.item()))\n",
        "\n",
        "    # append discriminator loss and generator loss after each epoch\n",
        "    G_losses.append(g_loss.item())\n",
        "    D_losses.append(d_loss.item())\n",
        "    \n",
        "    # set to evaluation mode\n",
        "    G.eval()\n",
        "    # generate samples\n",
        "    sample_z = G(fixed_noise)\n",
        "    # save generated samples\n",
        "    samples.append(sample_z)\n",
        "    # set back to train mode\n",
        "    G.train()\n",
        "\n",
        "# save training generator samples\n",
        "with open(\"samples.pkl\", \"wb\") as f:\n",
        "  pkl.dump(samples, f)"
      ],
      "metadata": {
        "id": "LlifmtKobT5x"
      },
      "execution_count": null,
      "outputs": []
    },
    {
      "cell_type": "code",
      "source": [
        ""
      ],
      "metadata": {
        "id": "QfawSxKobuQp"
      },
      "execution_count": null,
      "outputs": []
    }
  ]
}