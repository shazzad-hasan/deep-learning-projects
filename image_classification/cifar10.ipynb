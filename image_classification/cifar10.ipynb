{
  "nbformat": 4,
  "nbformat_minor": 0,
  "metadata": {
    "colab": {
      "name": "cifar10.ipynb",
      "provenance": [],
      "machine_shape": "hm",
      "authorship_tag": "ABX9TyPyx/eXavxedeTvDT2SvE6V",
      "include_colab_link": true
    },
    "kernelspec": {
      "name": "python3",
      "display_name": "Python 3"
    },
    "language_info": {
      "name": "python"
    },
    "accelerator": "GPU",
    "widgets": {
      "application/vnd.jupyter.widget-state+json": {
        "e07fc30014694f4588821066b8fca37a": {
          "model_module": "@jupyter-widgets/controls",
          "model_name": "HBoxModel",
          "model_module_version": "1.5.0",
          "state": {
            "_dom_classes": [],
            "_model_module": "@jupyter-widgets/controls",
            "_model_module_version": "1.5.0",
            "_model_name": "HBoxModel",
            "_view_count": null,
            "_view_module": "@jupyter-widgets/controls",
            "_view_module_version": "1.5.0",
            "_view_name": "HBoxView",
            "box_style": "",
            "children": [
              "IPY_MODEL_1afaf85e43f54c6683eaf066e3866cea",
              "IPY_MODEL_803812e33b8741cbacceb91dbbc6d0a4",
              "IPY_MODEL_3fb6b71f98ec4e55b4f92a43e5246d10"
            ],
            "layout": "IPY_MODEL_191bd7c0dcfe41b9a751f8bb291968b4"
          }
        },
        "1afaf85e43f54c6683eaf066e3866cea": {
          "model_module": "@jupyter-widgets/controls",
          "model_name": "HTMLModel",
          "model_module_version": "1.5.0",
          "state": {
            "_dom_classes": [],
            "_model_module": "@jupyter-widgets/controls",
            "_model_module_version": "1.5.0",
            "_model_name": "HTMLModel",
            "_view_count": null,
            "_view_module": "@jupyter-widgets/controls",
            "_view_module_version": "1.5.0",
            "_view_name": "HTMLView",
            "description": "",
            "description_tooltip": null,
            "layout": "IPY_MODEL_2386b7cadca64aafa04b964e0f7b23da",
            "placeholder": "​",
            "style": "IPY_MODEL_6bcb969a3ab445d28e69c12763c604df",
            "value": ""
          }
        },
        "803812e33b8741cbacceb91dbbc6d0a4": {
          "model_module": "@jupyter-widgets/controls",
          "model_name": "FloatProgressModel",
          "model_module_version": "1.5.0",
          "state": {
            "_dom_classes": [],
            "_model_module": "@jupyter-widgets/controls",
            "_model_module_version": "1.5.0",
            "_model_name": "FloatProgressModel",
            "_view_count": null,
            "_view_module": "@jupyter-widgets/controls",
            "_view_module_version": "1.5.0",
            "_view_name": "ProgressView",
            "bar_style": "success",
            "description": "",
            "description_tooltip": null,
            "layout": "IPY_MODEL_f4f8a55bf08e4c76bc134880f2d2871b",
            "max": 170498071,
            "min": 0,
            "orientation": "horizontal",
            "style": "IPY_MODEL_a80aac6cfa6346059cc00f4539df3a21",
            "value": 170498071
          }
        },
        "3fb6b71f98ec4e55b4f92a43e5246d10": {
          "model_module": "@jupyter-widgets/controls",
          "model_name": "HTMLModel",
          "model_module_version": "1.5.0",
          "state": {
            "_dom_classes": [],
            "_model_module": "@jupyter-widgets/controls",
            "_model_module_version": "1.5.0",
            "_model_name": "HTMLModel",
            "_view_count": null,
            "_view_module": "@jupyter-widgets/controls",
            "_view_module_version": "1.5.0",
            "_view_name": "HTMLView",
            "description": "",
            "description_tooltip": null,
            "layout": "IPY_MODEL_f83744be8aaa4fbf90b663cfdbc62830",
            "placeholder": "​",
            "style": "IPY_MODEL_671b854a7b8a4434b1a515f4e3dae499",
            "value": " 170499072/? [00:02&lt;00:00, 80006151.46it/s]"
          }
        },
        "191bd7c0dcfe41b9a751f8bb291968b4": {
          "model_module": "@jupyter-widgets/base",
          "model_name": "LayoutModel",
          "model_module_version": "1.2.0",
          "state": {
            "_model_module": "@jupyter-widgets/base",
            "_model_module_version": "1.2.0",
            "_model_name": "LayoutModel",
            "_view_count": null,
            "_view_module": "@jupyter-widgets/base",
            "_view_module_version": "1.2.0",
            "_view_name": "LayoutView",
            "align_content": null,
            "align_items": null,
            "align_self": null,
            "border": null,
            "bottom": null,
            "display": null,
            "flex": null,
            "flex_flow": null,
            "grid_area": null,
            "grid_auto_columns": null,
            "grid_auto_flow": null,
            "grid_auto_rows": null,
            "grid_column": null,
            "grid_gap": null,
            "grid_row": null,
            "grid_template_areas": null,
            "grid_template_columns": null,
            "grid_template_rows": null,
            "height": null,
            "justify_content": null,
            "justify_items": null,
            "left": null,
            "margin": null,
            "max_height": null,
            "max_width": null,
            "min_height": null,
            "min_width": null,
            "object_fit": null,
            "object_position": null,
            "order": null,
            "overflow": null,
            "overflow_x": null,
            "overflow_y": null,
            "padding": null,
            "right": null,
            "top": null,
            "visibility": null,
            "width": null
          }
        },
        "2386b7cadca64aafa04b964e0f7b23da": {
          "model_module": "@jupyter-widgets/base",
          "model_name": "LayoutModel",
          "model_module_version": "1.2.0",
          "state": {
            "_model_module": "@jupyter-widgets/base",
            "_model_module_version": "1.2.0",
            "_model_name": "LayoutModel",
            "_view_count": null,
            "_view_module": "@jupyter-widgets/base",
            "_view_module_version": "1.2.0",
            "_view_name": "LayoutView",
            "align_content": null,
            "align_items": null,
            "align_self": null,
            "border": null,
            "bottom": null,
            "display": null,
            "flex": null,
            "flex_flow": null,
            "grid_area": null,
            "grid_auto_columns": null,
            "grid_auto_flow": null,
            "grid_auto_rows": null,
            "grid_column": null,
            "grid_gap": null,
            "grid_row": null,
            "grid_template_areas": null,
            "grid_template_columns": null,
            "grid_template_rows": null,
            "height": null,
            "justify_content": null,
            "justify_items": null,
            "left": null,
            "margin": null,
            "max_height": null,
            "max_width": null,
            "min_height": null,
            "min_width": null,
            "object_fit": null,
            "object_position": null,
            "order": null,
            "overflow": null,
            "overflow_x": null,
            "overflow_y": null,
            "padding": null,
            "right": null,
            "top": null,
            "visibility": null,
            "width": null
          }
        },
        "6bcb969a3ab445d28e69c12763c604df": {
          "model_module": "@jupyter-widgets/controls",
          "model_name": "DescriptionStyleModel",
          "model_module_version": "1.5.0",
          "state": {
            "_model_module": "@jupyter-widgets/controls",
            "_model_module_version": "1.5.0",
            "_model_name": "DescriptionStyleModel",
            "_view_count": null,
            "_view_module": "@jupyter-widgets/base",
            "_view_module_version": "1.2.0",
            "_view_name": "StyleView",
            "description_width": ""
          }
        },
        "f4f8a55bf08e4c76bc134880f2d2871b": {
          "model_module": "@jupyter-widgets/base",
          "model_name": "LayoutModel",
          "model_module_version": "1.2.0",
          "state": {
            "_model_module": "@jupyter-widgets/base",
            "_model_module_version": "1.2.0",
            "_model_name": "LayoutModel",
            "_view_count": null,
            "_view_module": "@jupyter-widgets/base",
            "_view_module_version": "1.2.0",
            "_view_name": "LayoutView",
            "align_content": null,
            "align_items": null,
            "align_self": null,
            "border": null,
            "bottom": null,
            "display": null,
            "flex": null,
            "flex_flow": null,
            "grid_area": null,
            "grid_auto_columns": null,
            "grid_auto_flow": null,
            "grid_auto_rows": null,
            "grid_column": null,
            "grid_gap": null,
            "grid_row": null,
            "grid_template_areas": null,
            "grid_template_columns": null,
            "grid_template_rows": null,
            "height": null,
            "justify_content": null,
            "justify_items": null,
            "left": null,
            "margin": null,
            "max_height": null,
            "max_width": null,
            "min_height": null,
            "min_width": null,
            "object_fit": null,
            "object_position": null,
            "order": null,
            "overflow": null,
            "overflow_x": null,
            "overflow_y": null,
            "padding": null,
            "right": null,
            "top": null,
            "visibility": null,
            "width": null
          }
        },
        "a80aac6cfa6346059cc00f4539df3a21": {
          "model_module": "@jupyter-widgets/controls",
          "model_name": "ProgressStyleModel",
          "model_module_version": "1.5.0",
          "state": {
            "_model_module": "@jupyter-widgets/controls",
            "_model_module_version": "1.5.0",
            "_model_name": "ProgressStyleModel",
            "_view_count": null,
            "_view_module": "@jupyter-widgets/base",
            "_view_module_version": "1.2.0",
            "_view_name": "StyleView",
            "bar_color": null,
            "description_width": ""
          }
        },
        "f83744be8aaa4fbf90b663cfdbc62830": {
          "model_module": "@jupyter-widgets/base",
          "model_name": "LayoutModel",
          "model_module_version": "1.2.0",
          "state": {
            "_model_module": "@jupyter-widgets/base",
            "_model_module_version": "1.2.0",
            "_model_name": "LayoutModel",
            "_view_count": null,
            "_view_module": "@jupyter-widgets/base",
            "_view_module_version": "1.2.0",
            "_view_name": "LayoutView",
            "align_content": null,
            "align_items": null,
            "align_self": null,
            "border": null,
            "bottom": null,
            "display": null,
            "flex": null,
            "flex_flow": null,
            "grid_area": null,
            "grid_auto_columns": null,
            "grid_auto_flow": null,
            "grid_auto_rows": null,
            "grid_column": null,
            "grid_gap": null,
            "grid_row": null,
            "grid_template_areas": null,
            "grid_template_columns": null,
            "grid_template_rows": null,
            "height": null,
            "justify_content": null,
            "justify_items": null,
            "left": null,
            "margin": null,
            "max_height": null,
            "max_width": null,
            "min_height": null,
            "min_width": null,
            "object_fit": null,
            "object_position": null,
            "order": null,
            "overflow": null,
            "overflow_x": null,
            "overflow_y": null,
            "padding": null,
            "right": null,
            "top": null,
            "visibility": null,
            "width": null
          }
        },
        "671b854a7b8a4434b1a515f4e3dae499": {
          "model_module": "@jupyter-widgets/controls",
          "model_name": "DescriptionStyleModel",
          "model_module_version": "1.5.0",
          "state": {
            "_model_module": "@jupyter-widgets/controls",
            "_model_module_version": "1.5.0",
            "_model_name": "DescriptionStyleModel",
            "_view_count": null,
            "_view_module": "@jupyter-widgets/base",
            "_view_module_version": "1.2.0",
            "_view_name": "StyleView",
            "description_width": ""
          }
        }
      }
    }
  },
  "cells": [
    {
      "cell_type": "markdown",
      "metadata": {
        "id": "view-in-github",
        "colab_type": "text"
      },
      "source": [
        "<a href=\"https://colab.research.google.com/github/shazzad-hasan/practice-deep-learning-with-pytorch/blob/main/image_classification/cifar10.ipynb\" target=\"_parent\"><img src=\"https://colab.research.google.com/assets/colab-badge.svg\" alt=\"Open In Colab\"/></a>"
      ]
    },
    {
      "cell_type": "markdown",
      "source": [
        "In this notebook, we will train a ConvNet to classify images from the [CIFAR-10](https://www.cs.toronto.edu/~kriz/cifar.html) database. The CIFAR-10 dataset consists of 60000 32x32 colour images in 10 classes (airplane, automobile,bird, cat, deer,dog, frog, horse, ship, truck), with 6000 images per class. There are 50000 training images and 10000 test images.\n",
        "\n",
        "The process will be broken down into the following steps:\n",
        "\n",
        "    1. Load and visualize the dataset\n",
        "    2. Define a neural network\n",
        "    3. Define a Loss function and optimizer\n",
        "    4. Train the model on the training dataset\n",
        "    5. Evaluate the performance of the trained model on the test dataset"
      ],
      "metadata": {
        "id": "QpkSmFBNkTRI"
      }
    },
    {
      "cell_type": "code",
      "source": [
        "# import required libraries\n",
        "import torch\n",
        "import torchvision\n",
        "\n",
        "import numpy as np\n",
        "import matplotlib.pyplot as plt\n",
        "%matplotlib inline"
      ],
      "metadata": {
        "id": "z-oXR6C9lD4v"
      },
      "execution_count": 1,
      "outputs": []
    },
    {
      "cell_type": "code",
      "source": [
        "# check if cuda in available\n",
        "train_on_gpu = torch.cuda.is_available()\n",
        "\n",
        "if not train_on_gpu:\n",
        "  print(\"CUDA is not available\")\n",
        "else:\n",
        "  print(\"CUDA is available\")\n",
        "\n",
        "device = torch.device('cuda') if train_on_gpu else torch.device('cpu')"
      ],
      "metadata": {
        "colab": {
          "base_uri": "https://localhost:8080/"
        },
        "id": "6oj1ub4F8z94",
        "outputId": "f68b396a-1c89-4fd5-c1c5-d664efdd9df4"
      },
      "execution_count": 2,
      "outputs": [
        {
          "output_type": "stream",
          "name": "stdout",
          "text": [
            "CUDA is available\n"
          ]
        }
      ]
    },
    {
      "cell_type": "markdown",
      "source": [
        "### Load and visualize the dataset"
      ],
      "metadata": {
        "id": "alb7Q-PdnHDK"
      }
    },
    {
      "cell_type": "code",
      "source": [
        "from torchvision import datasets\n",
        "import torchvision.transforms as transforms\n",
        "from torch.utils.data.sampler import SubsetRandomSampler\n",
        "\n",
        "\n",
        "# convert the data to a normalized torch.FloatTensor\n",
        "transform = transforms.Compose([\n",
        "        transforms.ToTensor(),\n",
        "        transforms.Normalize((0.5, 0.5, 0.5),(0.5, 0.5, 0.5))])\n",
        "\n",
        "# choose the training and test dataset\n",
        "train_data = datasets.CIFAR10(root=\"./data\", train=True, download=True, transform=transform)\n",
        "test_data = datasets.CIFAR10(root=\"./data\", train=False, download=True, transform=transform)\n",
        "\n",
        "# obtain training indices for creating a validation dataset\n",
        "num_train = len(train_data)\n",
        "indices = list(range(num_train))\n",
        "np.random.shuffle(indices)\n",
        "# choose percentage of training data for validation\n",
        "valid_size = 0.2\n",
        "split = int(np.floor(valid_size * num_train))\n",
        "train_idx, valid_idx = indices[split:], indices[:split]\n",
        "\n",
        "# define samplers for obtaining training and validation batches\n",
        "train_sampler = SubsetRandomSampler(train_idx)\n",
        "valid_sampler = SubsetRandomSampler(valid_idx)\n",
        "\n",
        "# number of subprocesses to use for data loading\n",
        "num_workers = 0\n",
        "# how many samples per batch to load\n",
        "batch_size = 20\n",
        "\n",
        "\n",
        "# prepare train, test and valid data loaders\n",
        "train_loader = torch.utils.data.DataLoader(train_data, batch_size, sampler=train_sampler, num_workers=num_workers)\n",
        "valid_loader = torch.utils.data.DataLoader(train_data, batch_size, sampler=valid_sampler, num_workers=num_workers)\n",
        "test_loader = torch.utils.data.DataLoader(test_data, batch_size, num_workers=num_workers)\n",
        "\n",
        "# specify image classes in the dataset\n",
        "classes = ['airplane', 'automobile', 'bird', 'cat', 'deer', 'dog', 'frog', 'horse', 'ship', 'truck']"
      ],
      "metadata": {
        "id": "3NULsF2tpS1u",
        "outputId": "853948a8-6ce8-4164-b01f-2255acda823a",
        "colab": {
          "base_uri": "https://localhost:8080/",
          "height": 101,
          "referenced_widgets": [
            "e07fc30014694f4588821066b8fca37a",
            "1afaf85e43f54c6683eaf066e3866cea",
            "803812e33b8741cbacceb91dbbc6d0a4",
            "3fb6b71f98ec4e55b4f92a43e5246d10",
            "191bd7c0dcfe41b9a751f8bb291968b4",
            "2386b7cadca64aafa04b964e0f7b23da",
            "6bcb969a3ab445d28e69c12763c604df",
            "f4f8a55bf08e4c76bc134880f2d2871b",
            "a80aac6cfa6346059cc00f4539df3a21",
            "f83744be8aaa4fbf90b663cfdbc62830",
            "671b854a7b8a4434b1a515f4e3dae499"
          ]
        }
      },
      "execution_count": 3,
      "outputs": [
        {
          "output_type": "stream",
          "name": "stdout",
          "text": [
            "Downloading https://www.cs.toronto.edu/~kriz/cifar-10-python.tar.gz to ./data/cifar-10-python.tar.gz\n"
          ]
        },
        {
          "output_type": "display_data",
          "data": {
            "text/plain": [
              "  0%|          | 0/170498071 [00:00<?, ?it/s]"
            ],
            "application/vnd.jupyter.widget-view+json": {
              "version_major": 2,
              "version_minor": 0,
              "model_id": "e07fc30014694f4588821066b8fca37a"
            }
          },
          "metadata": {}
        },
        {
          "output_type": "stream",
          "name": "stdout",
          "text": [
            "Extracting ./data/cifar-10-python.tar.gz to ./data\n",
            "Files already downloaded and verified\n"
          ]
        }
      ]
    },
    {
      "cell_type": "code",
      "source": [
        "# visualize a batch of training data\n",
        "\n",
        "def imshow(img):\n",
        "  # unnormalize\n",
        "  img = img / 2 + 0.5\n",
        "  # convert from Tensor to image\n",
        "  plt.imshow(np.transpose(img, (1,2,0)))\n",
        "\n",
        "# obtain one batch on training images\n",
        "dataiter = iter(train_loader)\n",
        "images, labels = dataiter.next()\n",
        "# convert images to numpy for display\n",
        "images = images.numpy() \n",
        "\n",
        "# plot the images in the batch along with the corresponding labels\n",
        "fig = plt.figure(figsize=(10,4))\n",
        "# display 10 images\n",
        "for ind in np.arange(10):\n",
        "  ax = fig.add_subplot(2, 10/2, ind+1, xticks=[], yticks=[])\n",
        "  imshow(images[ind])\n",
        "  ax.set_title(classes[labels[ind]])"
      ],
      "metadata": {
        "id": "aBXdccVRpS9M",
        "outputId": "1ff3dab3-af0d-4cd4-e1f2-e0f2027b0436",
        "colab": {
          "base_uri": "https://localhost:8080/",
          "height": 265
        }
      },
      "execution_count": 4,
      "outputs": [
        {
          "output_type": "display_data",
          "data": {
            "text/plain": [
              "<Figure size 720x288 with 10 Axes>"
            ],
            "image/png": "[encoded data removed]"
          },
          "metadata": {}
        }
      ]
    },
    {
      "cell_type": "markdown",
      "source": [
        "### Define a neural network"
      ],
      "metadata": {
        "id": "juppJfF8_H6t"
      }
    },
    {
      "cell_type": "code",
      "source": [
        "import torch.nn as nn\n",
        "import torch.nn.functional as F\n",
        "\n",
        "class Net(nn.Module):\n",
        "  def __init__(self):\n",
        "    super(Net, self).__init__()\n",
        "    self.conv1 = nn.Conv2d(3, 16, 3, padding=1)  # (sees 32x32x3 image tensor)\n",
        "    self.conv2 = nn.Conv2d(16, 32, 3, padding=1) # (sees 16x16x16 tensor)\n",
        "    self.conv3 = nn.Conv2d(32, 64, 3, padding=1) # (sees 8x8x32 tensor)\n",
        "\n",
        "    self.pool = nn.MaxPool2d(2, 2)\n",
        "    self.fc1 = nn.Linear(64*4*4, 500) \n",
        "    self.fc2 = nn.Linear(500, 10)\n",
        "    self.dropout = nn.Dropout(0.25)\n",
        "\n",
        "  def forward(self, x):\n",
        "    x = self.pool(F.relu(self.conv1(x)))\n",
        "    x = self.pool(F.relu(self.conv2(x)))\n",
        "    x = self.pool(F.relu(self.conv3(x)))\n",
        "\n",
        "    # flatten image input\n",
        "    x = x.view(-1, 64*4*4)\n",
        "    x = self.dropout(x)\n",
        "    x = F.relu(self.fc1(x))\n",
        "    x = self.dropout(x)\n",
        "    x = self.fc2(x)\n",
        "    return x\n",
        "\n",
        "model = Net()\n",
        "model.to(device)\n",
        "\n",
        "print(model)"
      ],
      "metadata": {
        "id": "TNlqCWWLpTAS",
        "outputId": "004b4213-f5dd-4863-80d3-036199bca5d6",
        "colab": {
          "base_uri": "https://localhost:8080/"
        }
      },
      "execution_count": 5,
      "outputs": [
        {
          "output_type": "stream",
          "name": "stdout",
          "text": [
            "Net(\n",
            "  (conv1): Conv2d(3, 16, kernel_size=(3, 3), stride=(1, 1), padding=(1, 1))\n",
            "  (conv2): Conv2d(16, 32, kernel_size=(3, 3), stride=(1, 1), padding=(1, 1))\n",
            "  (conv3): Conv2d(32, 64, kernel_size=(3, 3), stride=(1, 1), padding=(1, 1))\n",
            "  (pool): MaxPool2d(kernel_size=2, stride=2, padding=0, dilation=1, ceil_mode=False)\n",
            "  (fc1): Linear(in_features=1024, out_features=500, bias=True)\n",
            "  (fc2): Linear(in_features=500, out_features=10, bias=True)\n",
            "  (dropout): Dropout(p=0.25, inplace=False)\n",
            ")\n"
          ]
        }
      ]
    },
    {
      "cell_type": "markdown",
      "source": [
        "### Define loss function and optimizer"
      ],
      "metadata": {
        "id": "5QraxtTVK9SC"
      }
    },
    {
      "cell_type": "code",
      "source": [
        "import torch.optim as optim\n",
        "\n",
        "# specify a loss function\n",
        "criterion = nn.CrossEntropyLoss() # categorical cross-entropy\n",
        "\n",
        "# specify an optimizer\n",
        "params = model.parameters()\n",
        "optimizer = optim.SGD(model.parameters(), lr=0.01)"
      ],
      "metadata": {
        "id": "bX9bUGtMK8o9"
      },
      "execution_count": 10,
      "outputs": []
    },
    {
      "cell_type": "markdown",
      "source": [
        "### Train the model on the training dataset"
      ],
      "metadata": {
        "id": "zs4jSUvcLh58"
      }
    },
    {
      "cell_type": "code",
      "source": [
        "# number of epochs to train the model\n",
        "num_epochs = 10\n",
        "\n",
        "train_loss, valid_loss = [], []\n",
        "\n",
        "# initialize trackers for min validation loss\n",
        "min_valid_loss = np.inf\n",
        "\n",
        "for epoch in range(num_epochs):\n",
        "  running_train_loss = 0.0\n",
        "  running_valid_loss = 0.0\n",
        "\n",
        "  #--------- train the model -----------\n",
        "  # prepare model for training\n",
        "  model.train()\n",
        "  for batch_idx, data in enumerate(train_loader):\n",
        "    inputs, targets = data\n",
        "    inputs, targets = inputs.to(device), targets.to(device)\n",
        "    # clear the gradients of all optimized variables\n",
        "    optimizer.zero_grad()\n",
        "    # forward pass\n",
        "    outputs = model(inputs)\n",
        "    # calculate the batch loss\n",
        "    loss = criterion(outputs, targets)\n",
        "    # backward loss\n",
        "    loss.backward()\n",
        "    # perform a single step\n",
        "    optimizer.step()\n",
        "    # update training loss\n",
        "    running_train_loss += loss.item() \n",
        "\n",
        "  # ---------- validate the model ----------\n",
        "  model.eval()\n",
        "  for batch_idx, data in enumerate(valid_loader):\n",
        "    inputs, targets = data\n",
        "    inputs, targets = inputs.to(device), targets.to(device)\n",
        "    # forward pass\n",
        "    outputs = model(inputs)\n",
        "    # calculate the batch loss\n",
        "    loss = criterion(outputs, targets)\n",
        "    # update validation loss\n",
        "    running_valid_loss += loss.item()\n",
        "\n",
        "  \n",
        "  # calculate average losses over an epoch\n",
        "  running_train_loss = running_train_loss / len(train_loader)\n",
        "  running_valid_loss = running_valid_loss / len(valid_loader)\n",
        "\n",
        "  train_loss.append(running_train_loss)\n",
        "  valid_loss.append(running_valid_loss)\n",
        "\n",
        "  print(\"Epochs: {} \\tTraining loss: {:.6f} \\tValidation loss: {:.6f}\".format(epoch+1, running_train_loss, running_valid_loss))\n",
        "\n",
        "  # save model if validation loss has decreased\n",
        "  if running_valid_loss <= min_valid_loss:\n",
        "    print(\"Validation loss decreased ({:.6f} --> {:.6f}). Saving model ... \".format(\n",
        "        min_valid_loss, running_valid_loss\n",
        "    ))\n",
        "\n",
        "    torch.save(model.state_dict(), 'model.pt')\n",
        "    min_valid_loss = running_valid_loss\n",
        "\n",
        "print(\"Finished training!\")"
      ],
      "metadata": {
        "id": "uVx5ATfppTXw",
        "outputId": "6b5058e9-247d-4180-ca58-8809c2e19150",
        "colab": {
          "base_uri": "https://localhost:8080/"
        }
      },
      "execution_count": 11,
      "outputs": [
        {
          "output_type": "stream",
          "name": "stdout",
          "text": [
            "Epochs: 1 \tTraining loss: 0.529053 \tValidation loss: 0.735283\n",
            "Validation loss decreased (inf --> 0.735283). Saving model ... \n",
            "Epochs: 2 \tTraining loss: 0.509680 \tValidation loss: 0.730247\n",
            "Validation loss decreased (0.735283 --> 0.730247). Saving model ... \n",
            "Epochs: 3 \tTraining loss: 0.484293 \tValidation loss: 0.720472\n",
            "Validation loss decreased (0.730247 --> 0.720472). Saving model ... \n",
            "Epochs: 4 \tTraining loss: 0.461101 \tValidation loss: 0.715329\n",
            "Validation loss decreased (0.720472 --> 0.715329). Saving model ... \n",
            "Epochs: 5 \tTraining loss: 0.440178 \tValidation loss: 0.726467\n",
            "Epochs: 6 \tTraining loss: 0.424634 \tValidation loss: 0.728493\n",
            "Epochs: 7 \tTraining loss: 0.402315 \tValidation loss: 0.736260\n",
            "Epochs: 8 \tTraining loss: 0.388495 \tValidation loss: 0.743755\n",
            "Epochs: 9 \tTraining loss: 0.368216 \tValidation loss: 0.762869\n",
            "Epochs: 10 \tTraining loss: 0.356181 \tValidation loss: 0.762551\n",
            "Finished training!\n"
          ]
        }
      ]
    },
    {
      "cell_type": "code",
      "source": [
        "epochs = range(1, num_epochs+1)\n",
        "plt.plot(epochs, train_loss, 'bo', label=\"Training loss\")\n",
        "plt.plot(epochs, valid_loss, 'b', label=\"Validation loss\")\n",
        "plt.xlabel('epochs')\n",
        "plt.ylabel('loss')\n",
        "plt.title('Training and validation loss')\n",
        "plt.show()"
      ],
      "metadata": {
        "id": "OPnVE9BdG02j",
        "outputId": "4a34e55f-5823-424d-cc1b-18a0e762c98c",
        "colab": {
          "base_uri": "https://localhost:8080/",
          "height": 295
        }
      },
      "execution_count": 12,
      "outputs": [
        {
          "output_type": "display_data",
          "data": {
            "text/plain": [
              "<Figure size 432x288 with 1 Axes>"
            ],
            "image/png": "[encoded data removed]"
          },
          "metadata": {
            "needs_background": "light"
          }
        }
      ]
    },
    {
      "cell_type": "markdown",
      "source": [
        "### Evaluate the performance of the trained model on the test dataset"
      ],
      "metadata": {
        "id": "jPkh0neBGV40"
      }
    },
    {
      "cell_type": "code",
      "source": [
        "# load the model with the lowest validation loss\n",
        "model.load_state_dict(torch.load('model.pt'))"
      ],
      "metadata": {
        "id": "ue1TH48ZGUjg"
      },
      "execution_count": null,
      "outputs": []
    },
    {
      "cell_type": "code",
      "source": [
        ""
      ],
      "metadata": {
        "id": "WYc4yTlmGUow"
      },
      "execution_count": null,
      "outputs": []
    },
    {
      "cell_type": "code",
      "source": [
        ""
      ],
      "metadata": {
        "id": "f8JN7LIrGUu5"
      },
      "execution_count": null,
      "outputs": []
    }
  ]
}