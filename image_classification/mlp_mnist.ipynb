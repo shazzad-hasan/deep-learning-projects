{
  "nbformat": 4,
  "nbformat_minor": 0,
  "metadata": {
    "colab": {
      "name": "mlp_mnist.ipynb",
      "provenance": [],
      "machine_shape": "hm",
      "authorship_tag": "ABX9TyOOiW3F+KkKbPGGXAMYJ21x",
      "include_colab_link": true
    },
    "kernelspec": {
      "name": "python3",
      "display_name": "Python 3"
    },
    "language_info": {
      "name": "python"
    },
    "accelerator": "GPU"
  },
  "cells": [
    {
      "cell_type": "markdown",
      "metadata": {
        "id": "view-in-github",
        "colab_type": "text"
      },
      "source": [
        "<a href=\"https://colab.research.google.com/github/shazzad-hasan/practice-deep-learning-with-pytorch/blob/main/image_classification/mlp_mnist.ipynb\" target=\"_parent\"><img src=\"https://colab.research.google.com/assets/colab-badge.svg\" alt=\"Open In Colab\"/></a>"
      ]
    },
    {
      "cell_type": "markdown",
      "source": [
        "In this notebook, we will train an MLP to classify handwritten digits using [MNIST](http://yann.lecun.com/exdb/mnist/) (Modified National Institute of Standards and Technology) dataset. The MNIST dataset is a set of 60,000 training images and 10,000 test images, assembled by the National Institute of Standards and Technology in the 1980s. This is considered as the \"Hello World\" of deep learning.\n",
        "\n",
        "The process will be broken down into the following steps:\n",
        "\n",
        "1. Load and visualize the dataset\n",
        "2. Define a neural network\n",
        "3. Define a Loss function and optimizer\n",
        "4. Train the model on the training dataset\n",
        "5. Evaluate the performance of the trained model on the test dataset\n"
      ],
      "metadata": {
        "id": "y1AGs2iJDqBo"
      }
    },
    {
      "cell_type": "code",
      "source": [
        "# import required libraries\n",
        "import torch\n",
        "import torchvision\n",
        "\n",
        "import numpy as np\n",
        "import matplotlib.pyplot as plt\n",
        "%matplotlib inline"
      ],
      "metadata": {
        "id": "i0rnHiAf5mjf"
      },
      "execution_count": 1,
      "outputs": []
    },
    {
      "cell_type": "code",
      "source": [
        "# check if cuda is available\n",
        "train_on_gpu = torch.cuda.is_available()\n",
        "\n",
        "if not train_on_gpu:\n",
        "  print(\"CUDA is not available\")\n",
        "else:\n",
        "  print(\"CUDA is available\")\n",
        "\n",
        "device = torch.device('cuda') if train_on_gpu else torch.device('cpu')"
      ],
      "metadata": {
        "colab": {
          "base_uri": "https://localhost:8080/"
        },
        "id": "0yauFfqSn35o",
        "outputId": "8886ee0a-5a65-48a7-9303-b8dfadd1ec6d"
      },
      "execution_count": 2,
      "outputs": [
        {
          "output_type": "stream",
          "name": "stdout",
          "text": [
            "CUDA is available\n"
          ]
        }
      ]
    },
    {
      "cell_type": "markdown",
      "source": [
        "### Load and visualize the dataset"
      ],
      "metadata": {
        "id": "ZlmpNR1w5iap"
      }
    },
    {
      "cell_type": "code",
      "source": [
        "from torchvision import datasets\n",
        "import torchvision.transforms as transforms\n",
        "from torch.utils.data.sampler import SubsetRandomSampler\n",
        "\n",
        "# convert data to torch.FloatTensor\n",
        "transform = transforms.ToTensor()\n",
        "\n",
        "train_data = datasets.MNIST(root=\"./data\", train=True, download=True, transform=transform)\n",
        "test_data = datasets.MNIST(root=\"./data\", train=False, download=True, transform=transform)\n",
        "\n",
        "# obtain training indices for creating a validation dataset\n",
        "num_train = len(train_data)\n",
        "indices = list(range(num_train))\n",
        "np.random.shuffle(indices)\n",
        "# choose percentage of training data for validation\n",
        "valid_size = 0.2\n",
        "split = int(np.floor(valid_size * num_train))\n",
        "train_idx, valid_idx = indices[split:], indices[:split]\n",
        "\n",
        "# define samplers for obtaining training and validation batches\n",
        "train_sampler = SubsetRandomSampler(train_idx)\n",
        "valid_sampler = SubsetRandomSampler(valid_idx)\n",
        "\n",
        "# number of subprocesses to use for data loading\n",
        "num_workers = 0\n",
        "# how many samples per batch to load\n",
        "batch_size = 20\n",
        "\n",
        "# prepare train, test and validation data loaders\n",
        "train_loader = torch.utils.data.DataLoader(train_data, batch_size=batch_size, sampler=train_sampler, num_workers=num_workers)\n",
        "valid_loader = torch.utils.data.DataLoader(train_data, batch_size=batch_size, sampler=valid_sampler, num_workers=num_workers)\n",
        "test_loader = torch.utils.data.DataLoader(test_data, batch_size=batch_size, num_workers=num_workers)\n",
        "\n",
        "# specify image classes in the dataset\n",
        "classes = ['0','1','2','3','4','5', '6','7','8','9']"
      ],
      "metadata": {
        "id": "uCyUdGzv6M7y"
      },
      "execution_count": 3,
      "outputs": []
    },
    {
      "cell_type": "code",
      "source": [
        "# visualize a batch of training data\n",
        "\n",
        "# obtain one batch of training images\n",
        "dataiter = iter(train_loader)\n",
        "images, labels = dataiter.next()\n",
        "images = images.numpy()\n",
        "\n",
        "# plot the images in the batch, along with the corresponding labels\n",
        "fig = plt.figure(figsize=(25, 4))\n",
        "for idx in np.arange(20):\n",
        "    ax = fig.add_subplot(2, 20/2, idx+1, xticks=[], yticks=[])\n",
        "    ax.imshow(np.squeeze(images[idx]), cmap='gray')\n",
        "    # print out the correct label for each image\n",
        "    # .item() gets the value contained in a Tensor\n",
        "    ax.set_title(str(labels[idx].item()))"
      ],
      "metadata": {
        "colab": {
          "base_uri": "https://localhost:8080/",
          "height": 268
        },
        "id": "IwsvDRoh-IDD",
        "outputId": "b96f3f83-ff26-454b-c5ce-fdf0e6b66e9d"
      },
      "execution_count": 4,
      "outputs": [
        {
          "output_type": "display_data",
          "data": {
            "text/plain": [
              "<Figure size 1800x288 with 20 Axes>"
            ],
            "image/png": "[encoded data removed]"
          },
          "metadata": {}
        }
      ]
    },
    {
      "cell_type": "markdown",
      "source": [
        "### Define a neural network"
      ],
      "metadata": {
        "id": "RHY2Re4I5nAc"
      }
    },
    {
      "cell_type": "code",
      "source": [
        "import torch.nn as nn\n",
        "import torch.nn.functional as F\n",
        "\n",
        "class Net(nn.Module):\n",
        "  def __init__(self):\n",
        "    super(Net, self).__init__()\n",
        "    self.fc1 = nn.Linear(28*28, 512) \n",
        "    self.fc2 = nn.Linear(512, 512)\n",
        "    self.fc3 = nn.Linear(512, 10)\n",
        "    self.dropout = nn.Dropout(0.5)\n",
        "\n",
        "  def forward(self, x):\n",
        "    x = x.view(-1, 28*28)\n",
        "    x = F.relu(self.fc1(x))\n",
        "    x = self.dropout(x)\n",
        "    x = F.relu(self.fc2(x))\n",
        "    x = self.dropout(x)\n",
        "    x = self.fc3(x)\n",
        "    return x\n",
        "  \n",
        "model = Net()\n",
        "model.to(device)\n",
        "\n",
        "print(model)"
      ],
      "metadata": {
        "colab": {
          "base_uri": "https://localhost:8080/"
        },
        "id": "0WEiVcgO5pqh",
        "outputId": "4c14b6d0-aa8c-42a1-c88c-029a46edcebc"
      },
      "execution_count": 26,
      "outputs": [
        {
          "output_type": "stream",
          "name": "stdout",
          "text": [
            "Net(\n",
            "  (fc1): Linear(in_features=784, out_features=512, bias=True)\n",
            "  (fc2): Linear(in_features=512, out_features=512, bias=True)\n",
            "  (fc3): Linear(in_features=512, out_features=10, bias=True)\n",
            "  (dropout): Dropout(p=0.5, inplace=False)\n",
            ")\n"
          ]
        }
      ]
    },
    {
      "cell_type": "code",
      "source": [
        "from torchsummary import summary\n",
        "\n",
        "# display model\n",
        "summary(model, input_size=(batch_size, 1, 28, 28))"
      ],
      "metadata": {
        "id": "7ckpXapgZdvp",
        "outputId": "43d63593-3d06-4472-ebd0-99d6fe7e6f00",
        "colab": {
          "base_uri": "https://localhost:8080/"
        }
      },
      "execution_count": 27,
      "outputs": [
        {
          "output_type": "stream",
          "name": "stdout",
          "text": [
            "----------------------------------------------------------------\n",
            "        Layer (type)               Output Shape         Param #\n",
            "================================================================\n",
            "            Linear-1                  [-1, 512]         401,920\n",
            "           Dropout-2                  [-1, 512]               0\n",
            "            Linear-3                  [-1, 512]         262,656\n",
            "           Dropout-4                  [-1, 512]               0\n",
            "            Linear-5                   [-1, 10]           5,130\n",
            "================================================================\n",
            "Total params: 669,706\n",
            "Trainable params: 669,706\n",
            "Non-trainable params: 0\n",
            "----------------------------------------------------------------\n",
            "Input size (MB): 0.06\n",
            "Forward/backward pass size (MB): 0.02\n",
            "Params size (MB): 2.55\n",
            "Estimated Total Size (MB): 2.63\n",
            "----------------------------------------------------------------\n"
          ]
        }
      ]
    },
    {
      "cell_type": "markdown",
      "source": [
        "### Define a Loss function and optimizer"
      ],
      "metadata": {
        "id": "_5wintQZPejx"
      }
    },
    {
      "cell_type": "code",
      "source": [
        "import torch.optim as optim\n",
        "\n",
        "# specify loss\n",
        "criterion = nn.CrossEntropyLoss() # categorical cross-entropy loss\n",
        "\n",
        "# specify optimizer\n",
        "params = model.parameters()\n",
        "optimizer = torch.optim.Adam(params, lr=0.001) # SGD with momentum\n",
        "# learning rate scheduler\n",
        "lr_scheduler = torch.optim.lr_scheduler.StepLR(optimizer, step_size=3, gamma=0.01)"
      ],
      "metadata": {
        "id": "dzkgQg5KAMOX"
      },
      "execution_count": 28,
      "outputs": []
    },
    {
      "cell_type": "markdown",
      "source": [
        "### Train the model on the training dataset"
      ],
      "metadata": {
        "id": "aLDQzqNL5qE6"
      }
    },
    {
      "cell_type": "code",
      "source": [
        "# number of epochs to train the model\n",
        "num_epochs = 20\n",
        "\n",
        "# track training and validation losses\n",
        "train_loss, valid_loss = [], []\n",
        "\n",
        "# initialize trackers for min validation loss\n",
        "min_valid_loss = np.inf\n",
        "\n",
        "for epoch in range(num_epochs):\n",
        "  running_train_loss = 0.0\n",
        "  running_valid_loss = 0.0\n",
        "\n",
        "  #--------- train the model -----------\n",
        "  # set model to training mode\n",
        "  model.train()\n",
        "\n",
        "  for batch_idx, data in enumerate(train_loader):\n",
        "    # get the inputs; data is a list of [inputs, targets]\n",
        "    inputs, targets = data\n",
        "    # move model to the right device\n",
        "    inputs, targets = inputs.to(device), targets.to(device)\n",
        "    # clear the gradients of all optimized variables\n",
        "    optimizer.zero_grad()\n",
        "    # forward pass\n",
        "    outputs = model(inputs)\n",
        "    # calculate the batch loss\n",
        "    loss = criterion(outputs, targets)\n",
        "    # backward loss\n",
        "    loss.backward()\n",
        "    # update parameters\n",
        "    optimizer.step()\n",
        "    # update training loss\n",
        "    running_train_loss += loss.item()\n",
        "  # update the learning rate\n",
        "  lr_scheduler.step()\n",
        "\n",
        "  # -------- validate the model ---------\n",
        "  # set model to evaluation mode\n",
        "  model.eval()\n",
        "\n",
        "  # since we're not training, we don't need to calculate the gradients for our outputs\n",
        "  with torch.no_grad():\n",
        "    for batch_idx, data in enumerate(valid_loader):\n",
        "      # get the inputs; data is a list of [inputs, targets]\n",
        "      inputs, targets = data\n",
        "      # move model to the right device\n",
        "      inputs, targets = inputs.to(device), targets.to(device)\n",
        "      # forward pass\n",
        "      outputs = model(inputs)\n",
        "      # calculate the batch loss\n",
        "      loss = criterion(outputs, targets)\n",
        "      # update validation loss\n",
        "      running_valid_loss += loss.item()\n",
        "\n",
        "  # calculate average loss over an epoch\n",
        "  running_train_loss = running_train_loss / len(train_loader)\n",
        "  running_valid_loss = running_valid_loss / len(valid_loader)\n",
        "\n",
        "  train_loss.append(running_train_loss)\n",
        "  valid_loss.append(running_valid_loss)\n",
        "\n",
        "  print(\"Epochs: {} \\tTraining loss: {:.6f} \\tValidation loss: {:.6f}\".format(epoch+1, running_train_loss, running_valid_loss))\n",
        "\n",
        "  # save model if validation loss has decreased\n",
        "  if running_valid_loss <= min_valid_loss:\n",
        "    print(\"Validation loss decreased ({:.6f} --> {:.6f}). Saving model ... \".format(\n",
        "        min_valid_loss, running_valid_loss\n",
        "    ))\n",
        "\n",
        "    torch.save(model.state_dict(), 'model.pt')\n",
        "    min_valid_loss = running_valid_loss\n",
        "\n",
        "print(\"Finished training!\")"
      ],
      "metadata": {
        "id": "JWsY1aZX5sPr",
        "outputId": "d7673733-7eca-40ae-8696-b9da531b571a",
        "colab": {
          "base_uri": "https://localhost:8080/"
        }
      },
      "execution_count": 29,
      "outputs": [
        {
          "output_type": "stream",
          "name": "stdout",
          "text": [
            "Epochs: 1 \tTraining loss: 0.323914 \tValidation loss: 0.130255\n",
            "Validation loss decreased (inf --> 0.130255). Saving model ... \n",
            "Epochs: 2 \tTraining loss: 0.189634 \tValidation loss: 0.099336\n",
            "Validation loss decreased (0.130255 --> 0.099336). Saving model ... \n",
            "Epochs: 3 \tTraining loss: 0.161364 \tValidation loss: 0.099077\n",
            "Validation loss decreased (0.099336 --> 0.099077). Saving model ... \n",
            "Epochs: 4 \tTraining loss: 0.134464 \tValidation loss: 0.088240\n",
            "Validation loss decreased (0.099077 --> 0.088240). Saving model ... \n",
            "Epochs: 5 \tTraining loss: 0.113524 \tValidation loss: 0.084285\n",
            "Validation loss decreased (0.088240 --> 0.084285). Saving model ... \n",
            "Epochs: 6 \tTraining loss: 0.107938 \tValidation loss: 0.081512\n",
            "Validation loss decreased (0.084285 --> 0.081512). Saving model ... \n",
            "Epochs: 7 \tTraining loss: 0.103280 \tValidation loss: 0.081492\n",
            "Validation loss decreased (0.081512 --> 0.081492). Saving model ... \n",
            "Epochs: 8 \tTraining loss: 0.103378 \tValidation loss: 0.081470\n",
            "Validation loss decreased (0.081492 --> 0.081470). Saving model ... \n",
            "Epochs: 9 \tTraining loss: 0.103245 \tValidation loss: 0.081455\n",
            "Validation loss decreased (0.081470 --> 0.081455). Saving model ... \n",
            "Epochs: 10 \tTraining loss: 0.100632 \tValidation loss: 0.081455\n",
            "Validation loss decreased (0.081455 --> 0.081455). Saving model ... \n",
            "Epochs: 11 \tTraining loss: 0.106300 \tValidation loss: 0.081455\n",
            "Validation loss decreased (0.081455 --> 0.081455). Saving model ... \n",
            "Epochs: 12 \tTraining loss: 0.103616 \tValidation loss: 0.081454\n",
            "Validation loss decreased (0.081455 --> 0.081454). Saving model ... \n",
            "Epochs: 13 \tTraining loss: 0.102797 \tValidation loss: 0.081454\n",
            "Epochs: 14 \tTraining loss: 0.101823 \tValidation loss: 0.081454\n",
            "Epochs: 15 \tTraining loss: 0.104077 \tValidation loss: 0.081454\n",
            "Epochs: 16 \tTraining loss: 0.106924 \tValidation loss: 0.081454\n",
            "Epochs: 17 \tTraining loss: 0.103591 \tValidation loss: 0.081454\n",
            "Epochs: 18 \tTraining loss: 0.104658 \tValidation loss: 0.081454\n",
            "Epochs: 19 \tTraining loss: 0.103556 \tValidation loss: 0.081454\n",
            "Epochs: 20 \tTraining loss: 0.105831 \tValidation loss: 0.081454\n",
            "Finished training!\n"
          ]
        }
      ]
    },
    {
      "cell_type": "code",
      "source": [
        "# plot training and validation loss for each epoch\n",
        "epochs = range(1, num_epochs+1)\n",
        "plt.plot(epochs, train_loss, 'bo', label='Training loss')\n",
        "plt.plot(epochs, valid_loss, 'b', label='Validation loss')\n",
        "plt.xlabel('epochs')\n",
        "plt.ylabel('loss')\n",
        "plt.title('Training and validation loss')\n",
        "plt.legend(loc='upper right')\n",
        "plt.show()"
      ],
      "metadata": {
        "id": "p402mTEVm1HS",
        "outputId": "9d0316a0-710f-4b84-fe98-7e0ee11fec57",
        "colab": {
          "base_uri": "https://localhost:8080/",
          "height": 295
        }
      },
      "execution_count": 30,
      "outputs": [
        {
          "output_type": "display_data",
          "data": {
            "text/plain": [
              "<Figure size 432x288 with 1 Axes>"
            ],
            "image/png": "[encoded data removed]"
          },
          "metadata": {
            "needs_background": "light"
          }
        }
      ]
    },
    {
      "cell_type": "markdown",
      "source": [
        "### Evaluate the performance of the trained model on the test dataset"
      ],
      "metadata": {
        "id": "DPtXaPWx5sjY"
      }
    },
    {
      "cell_type": "code",
      "source": [
        "# load model with the lowest validation loss\n",
        "model.load_state_dict(torch.load('model.pt'))"
      ],
      "metadata": {
        "colab": {
          "base_uri": "https://localhost:8080/"
        },
        "id": "x2FWz81RCmza",
        "outputId": "8c3180ed-e703-4d59-d837-1aa97540189e"
      },
      "execution_count": 31,
      "outputs": [
        {
          "output_type": "execute_result",
          "data": {
            "text/plain": [
              "<All keys matched successfully>"
            ]
          },
          "metadata": {},
          "execution_count": 31
        }
      ]
    },
    {
      "cell_type": "code",
      "source": [
        "# track test loss and accuracy\n",
        "test_loss = 0.0\n",
        "class_correct = [0 for i in range(10)]\n",
        "class_total = [0 for i in range(10)]\n",
        "\n",
        "# set model to evaluation mode\n",
        "model.eval()\n",
        "\n",
        "# since we're not training, we don't need to calculate the gradients for our outputs\n",
        "with torch.no_grad():\n",
        "  for batch_idx, data in enumerate(test_loader):\n",
        "    # get the inputs; data is a list of [inputs, targets]\n",
        "    inputs, targets = data\n",
        "    # get the inputs; data is a list of [inputs, targets]\n",
        "    inputs, targets = inputs.to(device), targets.to(device)\n",
        "    \n",
        "    # forward pass\n",
        "    outputs = model(inputs)\n",
        "    # calculate the batch loss\n",
        "    loss = criterion(outputs, targets)\n",
        "    # update test loss\n",
        "    test_loss += loss.item()\n",
        "    # convert output probabilities to predicted class\n",
        "    _, predictions = torch.max(outputs, 1)\n",
        "    # compare predictions to true labels\n",
        "    correct_tensor = predictions.eq(targets.data.view_as(predictions))\n",
        "    correct = np.squeeze(correct_tensor.numpy()) if not train_on_gpu else np.squeeze(correct_tensor.cpu().numpy())\n",
        "    # calculate test accuracy for each class\n",
        "    for i in range(batch_size):\n",
        "      label = targets.data[i]\n",
        "      class_correct[label] += correct[i].item()\n",
        "      class_total[label] += 1\n",
        "\n",
        "# average test loss\n",
        "test_loss = test_loss / len(test_loader.dataset)\n",
        "print(\"Test loss (overall): {:6f}\\n\".format(test_loss))\n",
        "\n",
        "# print test accuracy for each classes\n",
        "for i in range(len(classes)):\n",
        "  if class_total[i] > 0:\n",
        "    accuracy = (100 * class_correct[i]) / class_total[i]\n",
        "    print(f'Test accuracy of {classes[i]:10s}: {accuracy:.1f} % ({np.sum(class_correct[i])}/{np.sum(class_total[i])})')\n",
        "\n",
        "# overall test accuracy\n",
        "test_acc = 100 * np.sum(class_correct) / np.sum(class_total)\n",
        "print(\"\\nTest accuracy (overall): %2d%% (%2d/%2d)\" % ( \n",
        "      test_acc, np.sum(class_correct), np.sum(class_total)))"
      ],
      "metadata": {
        "id": "vZtB6axZaK8h",
        "outputId": "493e7f31-ecd5-48fa-a2ff-e87d1e4b16a9",
        "colab": {
          "base_uri": "https://localhost:8080/"
        }
      },
      "execution_count": 34,
      "outputs": [
        {
          "output_type": "stream",
          "name": "stdout",
          "text": [
            "Test loss (overall): 0.003946\n",
            "\n",
            "Test accuracy of 0         : 99.4 % (974/980)\n",
            "Test accuracy of 1         : 99.1 % (1125/1135)\n",
            "Test accuracy of 2         : 98.2 % (1013/1032)\n",
            "Test accuracy of 3         : 97.5 % (985/1010)\n",
            "Test accuracy of 4         : 97.3 % (955/982)\n",
            "Test accuracy of 5         : 97.9 % (873/892)\n",
            "Test accuracy of 6         : 98.1 % (940/958)\n",
            "Test accuracy of 7         : 97.3 % (1000/1028)\n",
            "Test accuracy of 8         : 96.0 % (935/974)\n",
            "Test accuracy of 9         : 95.9 % (968/1009)\n",
            "\n",
            "Test accuracy (overall): 97% (9768/10000)\n"
          ]
        }
      ]
    },
    {
      "cell_type": "code",
      "source": [
        "# obtain one batch of test images\n",
        "dataiter = iter(test_loader)\n",
        "inputs, targets = dataiter.next()\n",
        "inputs.numpy()\n",
        "\n",
        "inputs = inputs.to(device)\n",
        "\n",
        "# get sample outputs\n",
        "outputs = model(inputs)\n",
        "# convert output probabilities to predicted class\n",
        "_, preds_tensor = torch.max(outputs, 1)\n",
        "predictions = np.squeeze(preds_tensor.numpy()) if not train_on_gpu else np.squeeze(preds_tensor.cpu().numpy())\n",
        "\n",
        "\n",
        "# plot the images in the batch along with predicted and true labels\n",
        "fig = plt.figure(figsize=(25, 4))\n",
        "for idx in np.arange(20):\n",
        "    ax = fig.add_subplot(2, 20/2, idx+1, xticks=[], yticks=[])\n",
        "    ax.imshow(np.squeeze(inputs[idx]) if not train_on_gpu else np.squeeze(inputs[idx].cpu()), cmap=\"gray\")\n",
        "    ax.set_title(\"{} ({})\".format(classes[predictions[idx]], classes[targets[idx]]),\n",
        "                 color=(\"green\" if predictions[idx]==targets[idx].item() else \"red\"))"
      ],
      "metadata": {
        "colab": {
          "base_uri": "https://localhost:8080/",
          "height": 268
        },
        "id": "PvQnny39PzR5",
        "outputId": "cef82b97-ada0-4c44-e96a-dea0eb6e51eb"
      },
      "execution_count": 33,
      "outputs": [
        {
          "output_type": "display_data",
          "data": {
            "text/plain": [
              "<Figure size 1800x288 with 20 Axes>"
            ],
            "image/png": "[encoded data removed]"
          },
          "metadata": {}
        }
      ]
    },
    {
      "cell_type": "code",
      "source": [
        ""
      ],
      "metadata": {
        "id": "Qf6uUPnLSYV0"
      },
      "execution_count": 12,
      "outputs": []
    }
  ]
}