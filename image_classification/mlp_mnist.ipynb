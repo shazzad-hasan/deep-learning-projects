{
  "nbformat": 4,
  "nbformat_minor": 0,
  "metadata": {
    "colab": {
      "name": "mlp_mnist.ipynb",
      "provenance": [],
      "machine_shape": "hm",
      "authorship_tag": "ABX9TyNAtCWwlylMdI95BvIa4PDB",
      "include_colab_link": true
    },
    "kernelspec": {
      "name": "python3",
      "display_name": "Python 3"
    },
    "language_info": {
      "name": "python"
    },
    "accelerator": "GPU"
  },
  "cells": [
    {
      "cell_type": "markdown",
      "metadata": {
        "id": "view-in-github",
        "colab_type": "text"
      },
      "source": [
        "<a href=\"https://colab.research.google.com/github/shazzad-hasan/practice-deep-learning-with-pytorch/blob/main/image_classification/mlp_mnist.ipynb\" target=\"_parent\"><img src=\"https://colab.research.google.com/assets/colab-badge.svg\" alt=\"Open In Colab\"/></a>"
      ]
    },
    {
      "cell_type": "markdown",
      "source": [
        "## Load and visualize dataset"
      ],
      "metadata": {
        "id": "ZlmpNR1w5iap"
      }
    },
    {
      "cell_type": "code",
      "source": [
        "# import required libraries\n",
        "import torch\n",
        "import numpy as np\n",
        "import matplotlib.pyplot as plt\n",
        "%matplotlib inline"
      ],
      "metadata": {
        "id": "i0rnHiAf5mjf"
      },
      "execution_count": 19,
      "outputs": []
    },
    {
      "cell_type": "code",
      "source": [
        "# check if CUDA is available\n",
        "train_on_gpu = torch.cuda.is_available()\n",
        "\n",
        "if not train_on_gpu:\n",
        "    print('CUDA is not available.  Training on CPU ...')\n",
        "else:\n",
        "    print('CUDA is available!  Training on GPU ...')"
      ],
      "metadata": {
        "colab": {
          "base_uri": "https://localhost:8080/"
        },
        "id": "0yauFfqSn35o",
        "outputId": "2e7d09fa-e6b8-41bb-86eb-bf5c1f4bf185"
      },
      "execution_count": 20,
      "outputs": [
        {
          "output_type": "stream",
          "name": "stdout",
          "text": [
            "CUDA is available!  Training on GPU ...\n"
          ]
        }
      ]
    },
    {
      "cell_type": "code",
      "source": [
        "from torchvision import datasets\n",
        "import torchvision.transforms as transforms\n",
        "import torchvision.transforms as transforms\n",
        "\n",
        "transform = transforms.ToTensor()\n",
        "\n",
        "train_x = datasets.MNIST(root=\"data\", train=True, download=True, transform=transform)\n",
        "test_x = datasets.MNIST(root=\"data\", train=False, download=True, transform=transform)"
      ],
      "metadata": {
        "id": "uCyUdGzv6M7y"
      },
      "execution_count": 21,
      "outputs": []
    },
    {
      "cell_type": "code",
      "source": [
        "# specify the image classes\n",
        "classes = ['0','1','2','3','4','5'\n",
        "            '6','7','8','9']"
      ],
      "metadata": {
        "id": "Upw8ljPJudQn"
      },
      "execution_count": 22,
      "outputs": []
    },
    {
      "cell_type": "code",
      "source": [
        "# percentage of training set to use as validation\n",
        "valid_size = 0.2\n",
        "\n",
        "# split dataset into train and test datasets \n",
        "m = len(train_x) # num of training examples\n",
        "indices = list(range(m))\n",
        "np.random.shuffle(indices)\n",
        "split = int(np.floor(valid_size * m))\n",
        "train_idx, valid_idx = indices[split:], indices[:split]"
      ],
      "metadata": {
        "id": "JGhYOp6A6M_C"
      },
      "execution_count": 23,
      "outputs": []
    },
    {
      "cell_type": "code",
      "source": [
        "from torch.utils.data.sampler import SubsetRandomSampler\n",
        "\n",
        "# define samplers for obtaining training and validation batches\n",
        "train_sampler = SubsetRandomSampler(train_idx)\n",
        "valid_sampler = SubsetRandomSampler(valid_idx)\n",
        "\n",
        "# number of subprocesses to use for data loading\n",
        "num_workers = 0\n",
        "# how many samples per batch to load\n",
        "batch_size = 20\n",
        "\n",
        "# prepare data loaders\n",
        "train_loader = torch.utils.data.DataLoader(train_x, batch_size=batch_size, sampler=train_sampler, num_workers=num_workers)\n",
        "valid_loader = torch.utils.data.DataLoader(train_x, batch_size=batch_size, sampler=valid_sampler, num_workers=num_workers)\n",
        "test_loader = torch.utils.data.DataLoader(test_x, batch_size=batch_size, num_workers=num_workers)"
      ],
      "metadata": {
        "id": "vb7wL646tnqM"
      },
      "execution_count": 24,
      "outputs": []
    },
    {
      "cell_type": "code",
      "source": [
        "# obtain one batch of training images\n",
        "dataiter = iter(train_loader)\n",
        "images, labels = dataiter.next()\n",
        "images = images.numpy()"
      ],
      "metadata": {
        "id": "8twV9fyt6NCO"
      },
      "execution_count": 25,
      "outputs": []
    },
    {
      "cell_type": "code",
      "source": [
        "# visualize a training example\n",
        "img = np.squeeze(images[1])\n",
        "fig = plt.figure() \n",
        "ax = fig.add_subplot(111)\n",
        "ax.imshow(img, cmap='gray')"
      ],
      "metadata": {
        "colab": {
          "base_uri": "https://localhost:8080/",
          "height": 282
        },
        "id": "aWh4KHdRzeG_",
        "outputId": "a7670eca-0cc6-4683-fd3a-82f8129fe1a2"
      },
      "execution_count": 26,
      "outputs": [
        {
          "output_type": "execute_result",
          "data": {
            "text/plain": [
              "<matplotlib.image.AxesImage at 0x7f4eacfe14d0>"
            ]
          },
          "metadata": {},
          "execution_count": 26
        },
        {
          "output_type": "display_data",
          "data": {
            "text/plain": [
              "<Figure size 432x288 with 1 Axes>"
            ],
            "image/png": "[encoded data removed]"
          },
          "metadata": {
            "needs_background": "light"
          }
        }
      ]
    },
    {
      "cell_type": "code",
      "source": [
        "# visualize an example in more detail\n",
        "img = np.squeeze(images[1])\n",
        "\n",
        "fig = plt.figure(figsize = (12,12)) \n",
        "ax = fig.add_subplot(111)\n",
        "ax.imshow(img, cmap='gray')\n",
        "width, height = img.shape\n",
        "thresh = img.max()/2.5\n",
        "for x in range(width):\n",
        "    for y in range(height):\n",
        "        val = round(img[x][y],2) if img[x][y] !=0 else 0\n",
        "        ax.annotate(str(val), xy=(y,x),\n",
        "                    horizontalalignment='center',\n",
        "                    verticalalignment='center',\n",
        "                    color='white' if img[x][y]<thresh else 'black')"
      ],
      "metadata": {
        "colab": {
          "base_uri": "https://localhost:8080/",
          "height": 700
        },
        "id": "sx8Y5BpX6NFM",
        "outputId": "dca9235f-dc87-470c-fb2d-028b82e82586"
      },
      "execution_count": 27,
      "outputs": [
        {
          "output_type": "display_data",
          "data": {
            "text/plain": [
              "<Figure size 864x864 with 1 Axes>"
            ],
            "image/png": "[encoded data removed]"
          },
          "metadata": {
            "needs_background": "light"
          }
        }
      ]
    },
    {
      "cell_type": "code",
      "source": [
        "# plot a batch of training images along with the corresponding labels\n",
        "fig = plt.figure(figsize=(25, 4))\n",
        "for i in np.arange(20):\n",
        "  ax = fig.add_subplot(2, 20/2, i+1, xticks=[], yticks=[])\n",
        "  ax.imshow(np.squeeze(images[i]), cmap=\"gray\")\n",
        "  ax.set_title(str(labels[i].item()))"
      ],
      "metadata": {
        "colab": {
          "base_uri": "https://localhost:8080/",
          "height": 268
        },
        "id": "IwsvDRoh-IDD",
        "outputId": "e52db38c-7123-4ab6-a17c-f1c2a47aadec"
      },
      "execution_count": 28,
      "outputs": [
        {
          "output_type": "display_data",
          "data": {
            "text/plain": [
              "<Figure size 1800x288 with 20 Axes>"
            ],
            "image/png": "[encoded data removed]"
          },
          "metadata": {}
        }
      ]
    },
    {
      "cell_type": "code",
      "source": [
        ""
      ],
      "metadata": {
        "id": "WOpifL9W-II-"
      },
      "execution_count": 28,
      "outputs": []
    },
    {
      "cell_type": "markdown",
      "source": [
        "## Define a neural network"
      ],
      "metadata": {
        "id": "RHY2Re4I5nAc"
      }
    },
    {
      "cell_type": "code",
      "source": [
        "import torch.nn as nn\n",
        "import torch.nn.functional as F\n",
        "\n",
        "# define the neural network architecture\n",
        "class Network(nn.Module):\n",
        "  def __init__(self):\n",
        "    super(Network, self).__init__()\n",
        "    self.fc1 = nn.Linear(28*28, 512) \n",
        "    self.fc2 = nn.Linear(512, 512)\n",
        "    self.fc3 = nn.Linear(512, 10)\n",
        "    self.dropout = nn.Dropout(0.2)\n",
        "\n",
        "  def forward(self, x):\n",
        "    x = x.view(-1, 28*28)\n",
        "    x = F.relu(self.fc1(x))\n",
        "    x = self.dropout(x)\n",
        "    x = F.relu(self.fc2(x))\n",
        "    x = self.dropout(x)\n",
        "    x = self.fc3(x)\n",
        "    return x\n",
        "  \n",
        "model = Network()\n",
        "print(model)\n",
        "\n",
        "# move tensors to GPU if CUDA is available\n",
        "if train_on_gpu:\n",
        "    model.cuda()"
      ],
      "metadata": {
        "colab": {
          "base_uri": "https://localhost:8080/"
        },
        "id": "0WEiVcgO5pqh",
        "outputId": "c476d525-82d9-4623-bc5d-5ae89b7de399"
      },
      "execution_count": 29,
      "outputs": [
        {
          "output_type": "stream",
          "name": "stdout",
          "text": [
            "Network(\n",
            "  (fc1): Linear(in_features=784, out_features=512, bias=True)\n",
            "  (fc2): Linear(in_features=512, out_features=512, bias=True)\n",
            "  (fc3): Linear(in_features=512, out_features=10, bias=True)\n",
            "  (dropout): Dropout(p=0.2, inplace=False)\n",
            ")\n"
          ]
        }
      ]
    },
    {
      "cell_type": "code",
      "source": [
        "# specify loss (categorical cross-entropy loss)\n",
        "criterion = nn.CrossEntropyLoss()\n",
        "\n",
        "# specify optimizer\n",
        "optimizer = torch.optim.SGD(model.parameters(), lr=0.01)"
      ],
      "metadata": {
        "id": "dzkgQg5KAMOX"
      },
      "execution_count": 30,
      "outputs": []
    },
    {
      "cell_type": "code",
      "source": [
        ""
      ],
      "metadata": {
        "id": "eiwpA5LGAMRW"
      },
      "execution_count": 30,
      "outputs": []
    },
    {
      "cell_type": "code",
      "source": [
        ""
      ],
      "metadata": {
        "id": "u_hcIAWeAMUS"
      },
      "execution_count": 30,
      "outputs": []
    },
    {
      "cell_type": "markdown",
      "source": [
        "## Train the model"
      ],
      "metadata": {
        "id": "aLDQzqNL5qE6"
      }
    },
    {
      "cell_type": "code",
      "source": [
        "epochs = 20\n",
        "\n",
        "# initialize trackers for min validation loss\n",
        "min_valid_loss = np.inf\n",
        "\n",
        "for epoch in range(epochs):\n",
        "  train_loss = 0.0\n",
        "  valid_loss = 0.0\n",
        "\n",
        "  # ---------------------\n",
        "  # train the model\n",
        "  # ---------------------\n",
        "  # prepare model for training\n",
        "  model.train()\n",
        "  for input, label in train_loader:\n",
        "    # move tensors to GPU if CUDA is available\n",
        "    if train_on_gpu:\n",
        "      input, label = input.cuda(), label.cuda()\n",
        "    # clear the gradients of all optimized varibales\n",
        "    optimizer.zero_grad()\n",
        "    # forward pass\n",
        "    output = model(input)\n",
        "    # calculate the loss\n",
        "    loss = criterion(output, label)\n",
        "    # backward pass\n",
        "    loss.backward()\n",
        "    # optimization step to update parameters\n",
        "    optimizer.step()\n",
        "\n",
        "    train_loss += loss.item()\n",
        "\n",
        "  # -----------------------\n",
        "  # validate the model\n",
        "  # -----------------------\n",
        "  # prefer model for evaluation\n",
        "  model.eval()\n",
        "  for input, label in valid_loader:\n",
        "    # move tensors to GPU if CUDA is available\n",
        "    if train_on_gpu:\n",
        "      input, label = input.cuda(), label.cuda()\n",
        "    # forward pass\n",
        "    output = model(input)\n",
        "    # calculate loss\n",
        "    loss = criterion(output, label)\n",
        "    \n",
        "    valid_loss += loss.item()\n",
        "\n",
        "\n",
        "  #------------------------\n",
        "  # training/ validation statistics\n",
        "  # -----------------------\n",
        "  # calculate average loss over an epoch\n",
        "  train_loss = train_loss / len(train_loader)\n",
        "  valid_loss = valid_loss / len(valid_loader)\n",
        "\n",
        "  print(\"Epoch: {} \\tTraining loss: {:.6f}  \\tValidation loss: {:.6f}\".format(epoch+1, train_loss, valid_loss))\n",
        "\n",
        "  # save model if validation loss has decreased\n",
        "  if valid_loss <= min_valid_loss:\n",
        "      print('Validation loss decreased ({:.6f} --> {:.6f}).  Saving model ...'.format(\n",
        "      min_valid_loss,\n",
        "      valid_loss))\n",
        "      \n",
        "      torch.save(model.state_dict(), 'model.pt')\n",
        "      min_valid_loss = valid_loss"
      ],
      "metadata": {
        "colab": {
          "base_uri": "https://localhost:8080/"
        },
        "id": "JWsY1aZX5sPr",
        "outputId": "22eee246-4564-4974-93bf-35f9d31122a0"
      },
      "execution_count": 31,
      "outputs": [
        {
          "output_type": "stream",
          "name": "stdout",
          "text": [
            "Epoch: 1 \tTraining loss: 0.939795  \tValidation loss: 0.377766\n",
            "Validation loss decreased (inf --> 0.377766).  Saving model ...\n",
            "Epoch: 2 \tTraining loss: 0.356327  \tValidation loss: 0.287550\n",
            "Validation loss decreased (0.377766 --> 0.287550).  Saving model ...\n",
            "Epoch: 3 \tTraining loss: 0.283525  \tValidation loss: 0.236667\n",
            "Validation loss decreased (0.287550 --> 0.236667).  Saving model ...\n",
            "Epoch: 4 \tTraining loss: 0.236263  \tValidation loss: 0.200740\n",
            "Validation loss decreased (0.236667 --> 0.200740).  Saving model ...\n",
            "Epoch: 5 \tTraining loss: 0.199851  \tValidation loss: 0.171564\n",
            "Validation loss decreased (0.200740 --> 0.171564).  Saving model ...\n",
            "Epoch: 6 \tTraining loss: 0.171880  \tValidation loss: 0.150417\n",
            "Validation loss decreased (0.171564 --> 0.150417).  Saving model ...\n",
            "Epoch: 7 \tTraining loss: 0.151426  \tValidation loss: 0.136639\n",
            "Validation loss decreased (0.150417 --> 0.136639).  Saving model ...\n",
            "Epoch: 8 \tTraining loss: 0.135029  \tValidation loss: 0.123453\n",
            "Validation loss decreased (0.136639 --> 0.123453).  Saving model ...\n",
            "Epoch: 9 \tTraining loss: 0.123258  \tValidation loss: 0.112593\n",
            "Validation loss decreased (0.123453 --> 0.112593).  Saving model ...\n",
            "Epoch: 10 \tTraining loss: 0.111381  \tValidation loss: 0.106497\n",
            "Validation loss decreased (0.112593 --> 0.106497).  Saving model ...\n",
            "Epoch: 11 \tTraining loss: 0.101316  \tValidation loss: 0.100915\n",
            "Validation loss decreased (0.106497 --> 0.100915).  Saving model ...\n",
            "Epoch: 12 \tTraining loss: 0.092835  \tValidation loss: 0.092475\n",
            "Validation loss decreased (0.100915 --> 0.092475).  Saving model ...\n",
            "Epoch: 13 \tTraining loss: 0.085206  \tValidation loss: 0.091599\n",
            "Validation loss decreased (0.092475 --> 0.091599).  Saving model ...\n",
            "Epoch: 14 \tTraining loss: 0.079347  \tValidation loss: 0.085371\n",
            "Validation loss decreased (0.091599 --> 0.085371).  Saving model ...\n",
            "Epoch: 15 \tTraining loss: 0.073878  \tValidation loss: 0.081492\n",
            "Validation loss decreased (0.085371 --> 0.081492).  Saving model ...\n",
            "Epoch: 16 \tTraining loss: 0.067767  \tValidation loss: 0.079310\n",
            "Validation loss decreased (0.081492 --> 0.079310).  Saving model ...\n",
            "Epoch: 17 \tTraining loss: 0.064863  \tValidation loss: 0.075927\n",
            "Validation loss decreased (0.079310 --> 0.075927).  Saving model ...\n",
            "Epoch: 18 \tTraining loss: 0.059574  \tValidation loss: 0.075278\n",
            "Validation loss decreased (0.075927 --> 0.075278).  Saving model ...\n",
            "Epoch: 19 \tTraining loss: 0.056460  \tValidation loss: 0.073351\n",
            "Validation loss decreased (0.075278 --> 0.073351).  Saving model ...\n",
            "Epoch: 20 \tTraining loss: 0.052384  \tValidation loss: 0.071586\n",
            "Validation loss decreased (0.073351 --> 0.071586).  Saving model ...\n"
          ]
        }
      ]
    },
    {
      "cell_type": "code",
      "source": [
        "# load model with the lowest validation loss\n",
        "model.load_state_dict(torch.load('model.pt'))"
      ],
      "metadata": {
        "colab": {
          "base_uri": "https://localhost:8080/"
        },
        "id": "x2FWz81RCmza",
        "outputId": "318e8a9a-f67f-4fcd-e524-587c0d14535d"
      },
      "execution_count": 32,
      "outputs": [
        {
          "output_type": "execute_result",
          "data": {
            "text/plain": [
              "<All keys matched successfully>"
            ]
          },
          "metadata": {},
          "execution_count": 32
        }
      ]
    },
    {
      "cell_type": "code",
      "source": [
        ""
      ],
      "metadata": {
        "id": "6uMvTIg4Cm21"
      },
      "execution_count": 32,
      "outputs": []
    },
    {
      "cell_type": "markdown",
      "source": [
        "## Evaluate the performance of the trained model on a test dataset"
      ],
      "metadata": {
        "id": "DPtXaPWx5sjY"
      }
    },
    {
      "cell_type": "code",
      "source": [
        "test_loss = 0.0\n",
        "class_correct = [0. for i in range(10)]\n",
        "class_total = [0. for i in range(10)]\n",
        "\n",
        "model.eval()\n",
        "# iterate over test data\n",
        "for data, label in test_loader:\n",
        "    # move tensors to GPU if CUDA is available\n",
        "    if train_on_gpu:\n",
        "        data, label = data.cuda(), label.cuda()\n",
        "    # forward pass: compute predicted outputs by passing inputs to the model\n",
        "    output = model(data)\n",
        "    # calculate the batch loss\n",
        "    loss = criterion(output, label)\n",
        "    # update test loss \n",
        "    test_loss += loss.item()*input.size(0)\n",
        "    # convert output probabilities to predicted class\n",
        "    _, predicted = torch.max(output, 1)    \n",
        "    # compare predictions to true label\n",
        "    correct_tensor = predicted.eq(label.data.view_as(predicted))\n",
        "    correct = np.squeeze(correct_tensor.numpy()) if not train_on_gpu else np.squeeze(correct_tensor.cpu().numpy())\n",
        "    # calculate test accuracy for each object class\n",
        "    for i in range(batch_size):\n",
        "        class_correct[label.data[i]] += correct[i].item()\n",
        "        class_total[label.data[i]] += 1\n",
        "\n",
        "# average test loss\n",
        "test_loss = test_loss/len(test_loader.dataset)\n",
        "print('Test Loss: {:.6f}'.format(test_loss))\n",
        "\n",
        "# average accuracy\n",
        "print('Test Accuracy: %2d%% (%2d/%2d)\\n' % (\n",
        "    100. * np.sum(class_correct) / np.sum(class_total),\n",
        "    np.sum(class_correct), np.sum(class_total)))\n",
        "\n",
        "for i in range(10):\n",
        "    if class_total[i] > 0:\n",
        "        print('Test Accuracy of %5s: %2d%% (%2d/%2d)' % (\n",
        "            str(i), 100 * class_correct[i] / class_total[i],\n",
        "            np.sum(class_correct[i]), np.sum(class_total[i])))\n",
        "    else:\n",
        "        print('Test Accuracy of %5s: N/A (no training examples)' % (classes[i]))"
      ],
      "metadata": {
        "id": "ufl-b3WVt0OO",
        "outputId": "3da69490-37c0-403c-e751-32d6f41cfb78",
        "colab": {
          "base_uri": "https://localhost:8080/"
        }
      },
      "execution_count": 38,
      "outputs": [
        {
          "output_type": "stream",
          "name": "stdout",
          "text": [
            "Test Loss: 0.071177\n",
            "Test Accuracy: 97% (9782/10000)\n",
            "\n",
            "Test Accuracy of     0: 99% (972/980)\n",
            "Test Accuracy of     1: 99% (1127/1135)\n",
            "Test Accuracy of     2: 97% (1010/1032)\n",
            "Test Accuracy of     3: 98% (993/1010)\n",
            "Test Accuracy of     4: 97% (960/982)\n",
            "Test Accuracy of     5: 96% (860/892)\n",
            "Test Accuracy of     6: 98% (939/958)\n",
            "Test Accuracy of     7: 97% (1000/1028)\n",
            "Test Accuracy of     8: 97% (947/974)\n",
            "Test Accuracy of     9: 96% (974/1009)\n"
          ]
        }
      ]
    },
    {
      "cell_type": "code",
      "source": [
        "# visualize sample test result\n",
        "\n",
        "# obtain one batch of test image\n",
        "dataiter = iter(test_loader)\n",
        "images, labels = dataiter.next()\n",
        "\n",
        "# get sample outputs\n",
        "output = model(images)\n",
        "# convert output probabilities to predicted class\n",
        "_, predicted = torch.max(output, 1)\n",
        "# prepare images for display\n",
        "images = images.numpy()\n",
        "\n",
        "# plot images in the batch along with predicted and true labels\n"
      ],
      "metadata": {
        "id": "fQ79pYWW0G67"
      },
      "execution_count": 33,
      "outputs": []
    }
  ]
}