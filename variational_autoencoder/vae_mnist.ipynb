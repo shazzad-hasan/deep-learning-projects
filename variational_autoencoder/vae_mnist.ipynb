{
  "nbformat": 4,
  "nbformat_minor": 0,
  "metadata": {
    "colab": {
      "name": "vae_mnist.ipynb",
      "provenance": [],
      "machine_shape": "hm",
      "include_colab_link": true
    },
    "kernelspec": {
      "name": "python3",
      "display_name": "Python 3"
    },
    "language_info": {
      "name": "python"
    },
    "accelerator": "GPU",
    "gpuClass": "standard"
  },
  "cells": [
    {
      "cell_type": "markdown",
      "metadata": {
        "id": "view-in-github",
        "colab_type": "text"
      },
      "source": [
        "<a href=\"https://colab.research.google.com/github/shazzad-hasan/practice-deep-learning-with-pytorch/blob/main/variational_autoencoder/vae_mnist.ipynb\" target=\"_parent\"><img src=\"https://colab.research.google.com/assets/colab-badge.svg\" alt=\"Open In Colab\"/></a>"
      ]
    },
    {
      "cell_type": "code",
      "source": [
        "# import required libraries\n",
        "import torch\n",
        "import torchvision\n",
        "\n",
        "import os\n",
        "import random\n",
        "import numpy as np\n",
        "import matplotlib.pyplot as plt\n",
        "%matplotlib inline"
      ],
      "metadata": {
        "id": "5UQkX-39Z5l7"
      },
      "execution_count": null,
      "outputs": []
    },
    {
      "cell_type": "code",
      "source": [
        "# check if cuda is available\n",
        "train_on_gpu = torch.cuda.is_available()\n",
        "\n",
        "if train_on_gpu:\n",
        "  print(\"CUDA is available!\")\n",
        "else:\n",
        "  print(\"CUDA is not available!\")\n",
        "\n",
        "device = torch.device('cuda') if train_on_gpu else torch.device('cpu')"
      ],
      "metadata": {
        "id": "i_zk0IpsZ5oz"
      },
      "execution_count": null,
      "outputs": []
    },
    {
      "cell_type": "code",
      "source": [
        "# set up the general configeration\n",
        "def set_all_seeds(seed):\n",
        "  os.environ[\"PL_GLOBAL_SEED\"] = str(seed)\n",
        "  random.seed(seed)\n",
        "  np.random.seed(seed)\n",
        "  torch.manual_seed(seed)\n",
        "  torch.cuda.manual_seed_all(seed)\n",
        "\n",
        "random_seed = 125\n",
        "set_all_seeds(random_seed)"
      ],
      "metadata": {
        "id": "fSNuwz1NZ5rv"
      },
      "execution_count": null,
      "outputs": []
    },
    {
      "cell_type": "code",
      "source": [
        "from torchvision import datasets\n",
        "import torchvision.transforms as transforms\n",
        "from torch.utils.data import DataLoader\n",
        "import torchvision.transforms as transforms\n",
        "\n",
        "# convert data to torch.FloatTensor\n",
        "transform = transforms.ToTensor()\n",
        "# load dataset from torchvision.datasets module\n",
        "train_data = datasets.MNIST(root=\"./data\", train=True, download=True, transform=transform)\n",
        "test_data = datasets.MNIST(root=\"./data\", train=False, download=True, transform=transform)\n",
        "\n",
        "# number of subprocess to use for data loading\n",
        "num_workers = 0\n",
        "# how many samples per batch to load\n",
        "batch_size = 20\n",
        "# prepare data loaders\n",
        "train_loader = DataLoader(train_data, batch_size=batch_size, num_workers=num_workers)\n",
        "test_loader = DataLoader(test_data, batch_size=batch_size, num_workers=num_workers)"
      ],
      "metadata": {
        "id": "778flKpNZ5us"
      },
      "execution_count": null,
      "outputs": []
    },
    {
      "cell_type": "code",
      "source": [
        "# print out some data stats\n",
        "\n",
        "print(\"Number of training images: \", len(train_data))\n",
        "print(\"Number of test images: \", len(test_data))\n",
        "\n",
        "for inputs, _ in train_loader:\n",
        "  print(\"Image batch dimension: \", inputs.shape)\n",
        "  break"
      ],
      "metadata": {
        "id": "vpBo5gHsZ5xn"
      },
      "execution_count": null,
      "outputs": []
    },
    {
      "cell_type": "code",
      "source": [
        "# visualize a batch of training data\n",
        "def imshow(img):\n",
        "  plt.imshow(np.squeeze(img), cmap=\"gray\")\n",
        "\n",
        "# obtain one batch of training images\n",
        "dataiter = iter(train_loader)\n",
        "inputs, targets = dataiter.next()\n",
        "inputs = inputs.numpy()\n",
        "\n",
        "# plot some images\n",
        "fig = plt.figure(figsize=(10,4))\n",
        "for idx in np.arange(10):\n",
        "  ax = fig.add_subplot(2, 10/2, idx+1, xticks=[], yticks=[])\n",
        "  imshow(inputs[idx])\n",
        "  ax.set_title(str(targets[idx].item()))"
      ],
      "metadata": {
        "id": "GBNXRHhfZ50h"
      },
      "execution_count": null,
      "outputs": []
    },
    {
      "cell_type": "code",
      "source": [
        "import torch.nn as nn\n",
        "import torch.nn.functional as F\n",
        "\n",
        "class VAE(nn.Module):\n",
        "    def __init__(self):\n",
        "        super(VAE, self).__init__()\n",
        "\n",
        "        self.fc1 = nn.Linear(784, 400)\n",
        "        self.fc21 = nn.Linear(400, 20)\n",
        "        self.fc22 = nn.Linear(400, 20)\n",
        "        self.fc3 = nn.Linear(20, 400)\n",
        "        self.fc4 = nn.Linear(400, 784)\n",
        "\n",
        "    def encode(self, x):\n",
        "        h1 = F.relu(self.fc1(x))\n",
        "        return self.fc21(h1), self.fc22(h1)\n",
        "\n",
        "    def reparameterize(self, mu, log_var):\n",
        "        if self.training:\n",
        "            std = torch.exp(0.5*log_var)\n",
        "            eps = torch.randn_like(std)\n",
        "            sample = eps.mul(std).add_(mu) # sampling\n",
        "            return sample\n",
        "        else:\n",
        "            return mu\n",
        "\n",
        "    def decode(self, z):\n",
        "        h3 = F.relu(self.fc3(z))\n",
        "        return torch.sigmoid(self.fc4(h3))\n",
        "\n",
        "    def forward(self, x):\n",
        "        mu, log_var = self.encode(x.view(-1, 784))\n",
        "        z = self.reparameterize(mu, log_var) # latent vector\n",
        "        recon_input = self.decode(z)\n",
        "        return recon_input, mu, log_var\n",
        "\n",
        "model = VAE()\n",
        "model.to(device)\n",
        "print(model)"
      ],
      "metadata": {
        "id": "4vWu2VSoZ53e"
      },
      "execution_count": null,
      "outputs": []
    },
    {
      "cell_type": "code",
      "source": [
        "import torch.optim as optim\n",
        "\n",
        "def loss_function(recon_x, x, mu, logvar):\n",
        "    reconstruction_loss = F.binary_cross_entropy(recon_x, x.view(-1, 784), reduction='sum')\n",
        "    kl_divergence = -0.5 * torch.sum(1 + logvar - mu.pow(2) - logvar.exp())\n",
        "\n",
        "    return reconstruction_loss + kl_divergence\n",
        "\n",
        "# specify optimizer\n",
        "params = model.parameters()\n",
        "optimizer = torch.optim.Adam(params, lr=0.001)"
      ],
      "metadata": {
        "id": "2-03qlmhZ6D2"
      },
      "execution_count": null,
      "outputs": []
    },
    {
      "cell_type": "code",
      "source": [
        "# num of epochs to train the model\n",
        "num_epochs = 20\n",
        "\n",
        "# track training loss\n",
        "train_losses = []\n",
        "\n",
        "for epoch in range(num_epochs):\n",
        "  # running train loss\n",
        "  running_train_loss = 0.0\n",
        "  for batch_idx, data in enumerate(train_loader):\n",
        "      inputs, _ = data\n",
        "      inputs = inputs.to(device)\n",
        "      optimizer.zero_grad()\n",
        "      recon_batch, mu, logvar = model(inputs)\n",
        "      loss = loss_function(recon_batch, inputs, mu, logvar)\n",
        "      loss.backward()\n",
        "      optimizer.step()\n",
        "      running_train_loss += loss.item()\n",
        "\n",
        "  # calculate avg loss over an epoch\n",
        "  running_train_loss = running_train_loss / len(train_loader)\n",
        "  train_losses.append(running_train_loss)\n",
        "\n",
        "  print(\"Epoch: {} \\tTraining loss: {:.6f}\".format(epoch+1, running_train_loss))\n",
        "\n",
        "print(\"Finished training!\")"
      ],
      "metadata": {
        "id": "hwYxbs-xZ6Gz"
      },
      "execution_count": null,
      "outputs": []
    },
    {
      "cell_type": "code",
      "source": [
        "# plot training loss for each epoch\n",
        "epochs = range(1, num_epochs+1)\n",
        "plt.plot(epochs, train_losses, 'bo', label='Training loss')\n",
        "plt.xlabel('epochs')\n",
        "plt.ylabel('loss')\n",
        "plt.title('Training loss')\n",
        "plt.legend()\n",
        "plt.show()"
      ],
      "metadata": {
        "id": "jDD-vdq1Z6J3"
      },
      "execution_count": null,
      "outputs": []
    },
    {
      "cell_type": "code",
      "source": [
        ""
      ],
      "metadata": {
        "id": "8ATqQ0dHZ6Mw"
      },
      "execution_count": null,
      "outputs": []
    }
  ]
}