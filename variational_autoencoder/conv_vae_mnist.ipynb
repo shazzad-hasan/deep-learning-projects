{
  "nbformat": 4,
  "nbformat_minor": 0,
  "metadata": {
    "colab": {
      "name": "conv_vae_mnist.ipynb",
      "provenance": [],
      "machine_shape": "hm",
      "authorship_tag": "ABX9TyN7dbq//rgww1hc/upwWX9u",
      "include_colab_link": true
    },
    "kernelspec": {
      "name": "python3",
      "display_name": "Python 3"
    },
    "language_info": {
      "name": "python"
    },
    "accelerator": "GPU",
    "gpuClass": "standard"
  },
  "cells": [
    {
      "cell_type": "markdown",
      "metadata": {
        "id": "view-in-github",
        "colab_type": "text"
      },
      "source": [
        "<a href=\"https://colab.research.google.com/github/shazzad-hasan/practice-deep-learning-with-pytorch/blob/main/variational_autoencoder/conv_vae_mnist.ipynb\" target=\"_parent\"><img src=\"https://colab.research.google.com/assets/colab-badge.svg\" alt=\"Open In Colab\"/></a>"
      ]
    },
    {
      "cell_type": "code",
      "execution_count": null,
      "metadata": {
        "id": "kPgkUZRVbSgT"
      },
      "outputs": [],
      "source": [
        "# import required libraries\n",
        "import torch\n",
        "import torchvision\n",
        "\n",
        "import os\n",
        "import random\n",
        "import numpy as np\n",
        "import matplotlib.pyplot as plt\n",
        "%matplotlib inline"
      ]
    },
    {
      "cell_type": "code",
      "source": [
        "# check if cuda is available\n",
        "train_on_gpu = torch.cuda.is_available()\n",
        "\n",
        "if train_on_gpu:\n",
        "  print(\"CUDA is available!\")\n",
        "else:\n",
        "  print(\"CUDA is not available!\")\n",
        "\n",
        "device = torch.device('cuda') if train_on_gpu else torch.device('cpu')"
      ],
      "metadata": {
        "id": "ExFufW8acS60"
      },
      "execution_count": null,
      "outputs": []
    },
    {
      "cell_type": "code",
      "source": [
        "# set up the general configeration\n",
        "def set_all_seeds(seed):\n",
        "  os.environ[\"PL_GLOBAL_SEED\"] = str(seed)\n",
        "  random.seed(seed)\n",
        "  np.random.seed(seed)\n",
        "  torch.manual_seed(seed)\n",
        "  torch.cuda.manual_seed_all(seed)\n",
        "\n",
        "random_seed = 125\n",
        "set_all_seeds(random_seed)"
      ],
      "metadata": {
        "id": "VQUwkQAUcS99"
      },
      "execution_count": null,
      "outputs": []
    },
    {
      "cell_type": "code",
      "source": [
        "from torchvision import datasets\n",
        "import torchvision.transforms as transforms\n",
        "from torch.utils.data import DataLoader\n",
        "import torchvision.transforms as transforms\n",
        "\n",
        "# convert data to torch.FloatTensor\n",
        "transform = transforms.ToTensor()\n",
        "# load dataset from torchvision.datasets module\n",
        "train_data = datasets.MNIST(root=\"./data\", train=True, download=True, transform=transform)\n",
        "test_data = datasets.MNIST(root=\"./data\", train=False, download=True, transform=transform)\n",
        "\n",
        "# number of subprocess to use for data loading\n",
        "num_workers = 0\n",
        "# how many samples per batch to load\n",
        "batch_size = 128\n",
        "# prepare data loaders\n",
        "train_loader = DataLoader(train_data, batch_size=batch_size, num_workers=num_workers)\n",
        "test_loader = DataLoader(test_data, batch_size=batch_size, num_workers=num_workers)"
      ],
      "metadata": {
        "id": "XaoMRcuvcTAy"
      },
      "execution_count": null,
      "outputs": []
    },
    {
      "cell_type": "code",
      "source": [
        "# print out some data stats\n",
        "print(\"Number of training images: \", len(train_data))\n",
        "print(\"Number of test images: \", len(test_data))\n",
        "\n",
        "for inputs, _ in train_loader:\n",
        "  print(\"Image batch dimension: \", inputs.shape)\n",
        "  break"
      ],
      "metadata": {
        "id": "NCnJRKFwcTD4"
      },
      "execution_count": null,
      "outputs": []
    },
    {
      "cell_type": "code",
      "source": [
        "# visualize a batch of training data\n",
        "def imshow(img):\n",
        "  plt.imshow(np.squeeze(img), cmap=\"gray\")\n",
        "\n",
        "# obtain one batch of training images\n",
        "dataiter = iter(train_loader)\n",
        "inputs, targets = dataiter.next()\n",
        "inputs = inputs.numpy()\n",
        "\n",
        "# plot some images\n",
        "fig = plt.figure(figsize=(10,4))\n",
        "for idx in np.arange(10):\n",
        "  ax = fig.add_subplot(2, 10/2, idx+1, xticks=[], yticks=[])\n",
        "  imshow(inputs[idx])\n",
        "  ax.set_title(str(targets[idx].item()))"
      ],
      "metadata": {
        "id": "30qvPaYWcTG3"
      },
      "execution_count": null,
      "outputs": []
    },
    {
      "cell_type": "code",
      "source": [
        "import torch.nn as nn\n",
        "import torch.nn.functional as F\n",
        "\n",
        "class VAE(nn.Module):\n",
        "  def __init__(self, in_channels, latent_dim):\n",
        "    super(VAE, self).__init__()\n",
        "\n",
        "    # Initialize conv layers and fully-connected layers for the encoder\n",
        "    self.enConv1 = nn.Conv2d(in_channels, 16, 5)\n",
        "    self.enConv2 = nn.Conv2d(16, 32, 5)\n",
        "    self.enFC1 = nn.Linear(20*20*32, latent_dim)\n",
        "    self.enFC2 = nn.Linear(20*20*32, latent_dim)\n",
        "\n",
        "    # Initialize conv and fully-connected layers for the decoder\n",
        "    self.deFC1 = nn.Linear(latent_dim, 20*20*32)\n",
        "    self.deConv1 = nn.ConvTranspose2d(32, 16, 5)\n",
        "    self.deConv2 = nn.ConvTranspose2d(16, in_channels, 5)\n",
        "\n",
        "  def encoder(self, x):\n",
        "    x = F.relu(self.enConv1(x))\n",
        "    x = F.relu(self.enConv2(x))\n",
        "    x = x.view(-1, 20*20*32)\n",
        "    mu = self.enFC1(x)\n",
        "    log_var = self.enFC2(x)\n",
        "    return mu, log_var\n",
        "\n",
        "  def reparameterize(self, mu, log_var):\n",
        "    std = torch.exp(0.5*log_var)\n",
        "    eps = torch.randn_like(std)\n",
        "    sample = mu + std * eps\n",
        "    return sample\n",
        "\n",
        "  def decoder(self, z):\n",
        "    x = F.relu(self.deFC1(z))\n",
        "    x = x.view(-1, 32, 20, 20)\n",
        "    x = F.relu(self.deConv1(x))\n",
        "    x = torch.sigmoid(self.deConv2(x))\n",
        "    return x\n",
        "\n",
        "  def forward(self, x):\n",
        "    mu, log_var = self.encoder(x)\n",
        "    z = self.reparameterize(mu, log_var)\n",
        "    recon_x = self.decoder(z)\n",
        "    return recon_x, mu, log_var\n",
        "\n",
        "in_channels = 1\n",
        "latent_dim = 20\n",
        "\n",
        "model = VAE(in_channels, latent_dim)\n",
        "model.to(device)\n",
        "print(model)"
      ],
      "metadata": {
        "id": "VSI3HbuecTJ-"
      },
      "execution_count": null,
      "outputs": []
    },
    {
      "cell_type": "code",
      "source": [
        "import torch.optim as optim\n",
        "\n",
        "# define a loss function\n",
        "def loss_function(recon_x, x, mu, logvar):\n",
        "    recons_loss = F.binary_cross_entropy(recon_x, x, reduction='sum')\n",
        "    kl_divergence = -0.5 * torch.sum(1 + logvar - mu.pow(2) - logvar.exp())\n",
        "    return recons_loss + kl_divergence\n",
        "\n",
        "# specify optimizer\n",
        "params = model.parameters()\n",
        "optimizer = torch.optim.Adam(params, lr=0.001)"
      ],
      "metadata": {
        "id": "Go3OFs6QcTNK"
      },
      "execution_count": null,
      "outputs": []
    },
    {
      "cell_type": "code",
      "source": [
        "# num of epochs to train the model\n",
        "num_epochs = 20\n",
        "\n",
        "# track training loss\n",
        "train_losses = []\n",
        "\n",
        "for epoch in range(num_epochs):\n",
        "  # running train loss\n",
        "  running_train_loss = 0.0\n",
        "  for batch_idx, data in enumerate(train_loader):\n",
        "    # get the inputs; data is a list of [inputs, targets]\n",
        "    inputs, _ = data\n",
        "    # move tensor to the right device\n",
        "    inputs = inputs.to(device)\n",
        "    # clear the gradients of all optimized variables\n",
        "    optimizer.zero_grad()\n",
        "    # forward pass\n",
        "    recon_inputs, mu, log_var = model(inputs)\n",
        "    # calculate the batch loss\n",
        "    loss = loss_function(recon_inputs, inputs, mu, log_var)\n",
        "    # backward pass\n",
        "    loss.backward()\n",
        "    # update parameters\n",
        "    optimizer.step()\n",
        "    # update training loss\n",
        "    running_train_loss += loss.item()\n",
        "\n",
        "  # calculate avg loss over an epoch\n",
        "  running_train_loss = running_train_loss / len(train_loader)\n",
        "  train_losses.append(running_train_loss)\n",
        "\n",
        "  print(\"Epoch: {} \\tTraining loss: {:.6f}\".format(epoch+1, running_train_loss))\n",
        "\n",
        "print(\"Finished training!\")"
      ],
      "metadata": {
        "id": "BWcyt5sjcTQV"
      },
      "execution_count": null,
      "outputs": []
    },
    {
      "cell_type": "code",
      "source": [
        "# visualize one batch of test images along with their reconstruction\n",
        "\n",
        "# obtain one batch of test images\n",
        "dataiter = iter(test_loader)\n",
        "inputs, _ = dataiter.next()\n",
        "inputs = inputs.to(device)\n",
        "\n",
        "# get sample outputs\n",
        "recons_inputs, _, _ = model(inputs)\n",
        "# resize outputs into a batch of images\n",
        "recons_inputs = recons_inputs.view(batch_size, 1, 28, 28)\n",
        "\n",
        "# display some inputs and their reconstructed images\n",
        "fig, axes = plt.subplots(nrows=2, ncols=10, sharex=True, sharey=True, figsize=(25,4))\n",
        "\n",
        "# input images on top row, reconstructions on bottom\n",
        "for images, row in zip([inputs, recons_inputs], axes):\n",
        "  for img, ax in zip(inputs, row):\n",
        "    # prepare images for display\n",
        "    img = np.squeeze(img.numpy()) if not train_on_gpu else np.squeeze(img.cpu().numpy())\n",
        "    ax.imshow(img, cmap='gray')\n",
        "    ax.get_xaxis().set_visible(False)\n",
        "    ax.get_yaxis().set_visible(False)"
      ],
      "metadata": {
        "id": "lhk5xZtNcTTh"
      },
      "execution_count": null,
      "outputs": []
    },
    {
      "cell_type": "code",
      "source": [
        ""
      ],
      "metadata": {
        "id": "kMf35u22LjfF"
      },
      "execution_count": null,
      "outputs": []
    }
  ]
}