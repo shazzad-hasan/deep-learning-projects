{
  "nbformat": 4,
  "nbformat_minor": 0,
  "metadata": {
    "colab": {
      "name": "denoising_autoencoder_mnist.ipynb",
      "provenance": [],
      "machine_shape": "hm",
      "authorship_tag": "ABX9TyMD95sPlhd5Ye7MSJBH213V",
      "include_colab_link": true
    },
    "kernelspec": {
      "name": "python3",
      "display_name": "Python 3"
    },
    "language_info": {
      "name": "python"
    },
    "accelerator": "GPU",
    "gpuClass": "standard"
  },
  "cells": [
    {
      "cell_type": "markdown",
      "metadata": {
        "id": "view-in-github",
        "colab_type": "text"
      },
      "source": [
        "<a href=\"https://colab.research.google.com/github/shazzad-hasan/practice-deep-learning-with-pytorch/blob/main/autoencoder/denoising_autoencoder_mnist.ipynb\" target=\"_parent\"><img src=\"https://colab.research.google.com/assets/colab-badge.svg\" alt=\"Open In Colab\"/></a>"
      ]
    },
    {
      "cell_type": "code",
      "execution_count": null,
      "metadata": {
        "id": "pioj7hKzM9a7"
      },
      "outputs": [],
      "source": [
        "# import required libraries\n",
        "import torch\n",
        "import torchvision\n",
        "\n",
        "import os\n",
        "import random\n",
        "import numpy as np\n",
        "import matplotlib.pyplot as plt\n",
        "%matplotlib inline"
      ]
    },
    {
      "cell_type": "code",
      "source": [
        "# check if cuda is available\n",
        "train_on_gpu = torch.cuda.is_available()\n",
        "\n",
        "if train_on_gpu:\n",
        "  print(\"CUDA is available!\")\n",
        "else:\n",
        "  print(\"CUDA is not available!\")\n",
        "\n",
        "device = torch.device('cuda') if train_on_gpu else torch.device('cpu')"
      ],
      "metadata": {
        "id": "1MecYqS0NM-F"
      },
      "execution_count": null,
      "outputs": []
    },
    {
      "cell_type": "code",
      "source": [
        "# set up the general configeration\n",
        "def set_all_seeds(seed):\n",
        "  os.environ[\"PL_GLOBAL_SEED\"] = str(seed)\n",
        "  random.seed(seed)\n",
        "  np.random.seed(seed)\n",
        "  torch.manual_seed(seed)\n",
        "  torch.cuda.manual_seed_all(seed)\n",
        "\n",
        "random_seed = 125\n",
        "set_all_seeds(random_seed)"
      ],
      "metadata": {
        "id": "BcW0zzOZNNBG"
      },
      "execution_count": null,
      "outputs": []
    },
    {
      "cell_type": "code",
      "source": [
        "from torchvision import datasets\n",
        "import torchvision.transforms as transforms\n",
        "from torch.utils.data import DataLoader\n",
        "import torchvision.transforms as transforms\n",
        "\n",
        "# convert data to torch.FloatTensor\n",
        "transform = transforms.ToTensor()\n",
        "# load dataset from torchvision.datasets module\n",
        "train_data = datasets.MNIST(root=\"./data\", train=True, download=True, transform=transform)\n",
        "test_data = datasets.MNIST(root=\"./data\", train=False, download=True, transform=transform)\n",
        "\n",
        "# number of subprocess to use for data loading\n",
        "num_workers = 0\n",
        "# how many samples per batch to load\n",
        "batch_size = 20\n",
        "# prepare data loaders\n",
        "train_loader = DataLoader(train_data, batch_size=batch_size, num_workers=num_workers)\n",
        "test_loader = DataLoader(test_data, batch_size=batch_size, num_workers=num_workers)"
      ],
      "metadata": {
        "id": "HVpFrA4oNNEF"
      },
      "execution_count": null,
      "outputs": []
    },
    {
      "cell_type": "code",
      "source": [
        "import torch.nn as nn\n",
        "import torch.nn.functional as F\n",
        "\n",
        "class VAE(nn.Module):\n",
        "  def __init__(self):\n",
        "    super(VAE, self).__init__()\n",
        "\n",
        "    # encoder layers\n",
        "    self.enConv1 = nn.Conv2d(1, 32, 3, padding=1)\n",
        "    self.enConv2 = nn.Conv2d(32, 16, 3, padding=1)\n",
        "    self.enConv3 = nn.Conv2d(16, 8, 3, padding=1)\n",
        "    self.enPool = nn.MaxPool2d(2,2)\n",
        "\n",
        "    # decoder layers\n",
        "    self.deConv1 = nn.ConvTranspose2d(8, 8, 3, stride=2)\n",
        "    self.deConv2 = nn.ConvTranspose2d(8, 16, 2, stride=2)\n",
        "    self.deConv3 = nn.ConvTranspose2d(16, 32, 2, stride=2)\n",
        "    self.deConv4 = nn.Conv2d(32, 1, 3, padding=1)\n",
        "\n",
        "  def forward(self, x):\n",
        "    # encode\n",
        "    x = F.relu(self.enConv1(x))\n",
        "    x = self.pool(x)\n",
        "    x = F.relu(self.enConv2(x))\n",
        "    x = self.pool(x)\n",
        "    x = F.relu(self.enConv3(x))\n",
        "    x = self.pool(x)\n",
        "\n",
        "    # decode\n",
        "    x = F.relu(self.deConv1(x))\n",
        "    x = F.relu(self.deConv2(x))\n",
        "    x = F.relu(self.deConv3(x))\n",
        "    x = F.sigmoid(self.deConv4(x))\n",
        "\n",
        "    return x\n",
        "\n",
        "model = VAE()\n",
        "model.to(device)\n",
        "print(model)"
      ],
      "metadata": {
        "id": "vMpRK2BONNG3"
      },
      "execution_count": null,
      "outputs": []
    },
    {
      "cell_type": "code",
      "source": [
        "import torch.optim as optim\n",
        "\n",
        "# specify loss function\n",
        "criterion = nn.MSELoss()\n",
        "\n",
        "# specify optimizer\n",
        "params = model.parameters()\n",
        "optimizer = torch.optim.Adam(params, lr=0.001)"
      ],
      "metadata": {
        "id": "kWTdQ5wfNNJy"
      },
      "execution_count": null,
      "outputs": []
    },
    {
      "cell_type": "code",
      "source": [
        "# num of epochs to train the model\n",
        "num_epochs = 20\n",
        "\n",
        "noise_factor = 0.5\n",
        "\n",
        "# track training loss\n",
        "train_losses = []\n",
        "\n",
        "for epoch in range(num_epochs):\n",
        "  # running train loss\n",
        "  running_train_loss = 0.0\n",
        "\n",
        "  for data in train_loader:\n",
        "    # get the inputs; data is a list of [inputs, targets]\n",
        "    inputs, _ = data\n",
        "\n",
        "    # ----- create noisy data  -------\n",
        "    # add random noise to the input images \n",
        "    noisy_inputs = inputs + noise_factor * torch.randn(*inputs.shape)\n",
        "    # clip inputs in [0,1]\n",
        "    noisy_inputs = np.clip(noisy_inputs, 0, 1)\n",
        "\n",
        "    # move tensor to the right device\n",
        "    noisy_inputs = noisy_inputs.to(device)\n",
        "    # clear the gradients of all optimized variables\n",
        "    optimizer.zero_grad()\n",
        "    # forward pass\n",
        "    recon_inputs = model(noisy_inputs)\n",
        "    # calculate the batch loss\n",
        "    loss = criterion(recon_inputs, noisy_inputs)\n",
        "    # backward pass\n",
        "    loss.backward()\n",
        "    # update parameters\n",
        "    optimizer.step()\n",
        "    # update training loss\n",
        "    running_train_loss += loss.item() * inputs.size(0)\n",
        "\n",
        "  # calculate avg loss over an epoch\n",
        "  running_train_loss = running_train_loss / len(train_loader)\n",
        "\n",
        "  train_losses.append(running_train_loss)\n",
        "\n",
        "  print(\"Epoch: {} \\tTraining loss: {:.6f}\".format(epoch+1, running_train_loss))\n",
        "\n",
        "print(\"Finished training!\")"
      ],
      "metadata": {
        "id": "qyX20dvtNNM5"
      },
      "execution_count": null,
      "outputs": []
    },
    {
      "cell_type": "code",
      "source": [
        ""
      ],
      "metadata": {
        "id": "mdAHUdaINNQJ"
      },
      "execution_count": null,
      "outputs": []
    }
  ]
}