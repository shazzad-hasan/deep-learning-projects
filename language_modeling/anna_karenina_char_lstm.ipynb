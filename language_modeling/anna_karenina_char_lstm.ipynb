{
  "nbformat": 4,
  "nbformat_minor": 0,
  "metadata": {
    "colab": {
      "provenance": [],
      "include_colab_link": true
    },
    "kernelspec": {
      "name": "python3",
      "display_name": "Python 3"
    },
    "language_info": {
      "name": "python"
    },
    "accelerator": "GPU",
    "gpuClass": "standard"
  },
  "cells": [
    {
      "cell_type": "markdown",
      "metadata": {
        "id": "view-in-github",
        "colab_type": "text"
      },
      "source": [
        "<a href=\"https://colab.research.google.com/github/shazzad-hasan/practice-deep-learning-with-pytorch/blob/main/seq_to_seq/char_level_lstm.ipynb\" target=\"_parent\"><img src=\"https://colab.research.google.com/assets/colab-badge.svg\" alt=\"Open In Colab\"/></a>"
      ]
    },
    {
      "cell_type": "code",
      "execution_count": null,
      "metadata": {
        "id": "CITpOagOBv3Z"
      },
      "outputs": [],
      "source": [
        "# upload kaggle API key from your local machine\n",
        "from google.colab import files\n",
        "files.upload()"
      ]
    },
    {
      "cell_type": "code",
      "source": [
        "# make a kaggle dir, copy the API key to it\n",
        "# and make sure the file in only readable by yourself (chmod 600)\n",
        "!mkdir ~/.kaggle \n",
        "!cp kaggle.json ~/.kaggle/\n",
        "!chmod 600 ~/.kaggle/kaggle.json"
      ],
      "metadata": {
        "id": "IajRinOUFcEm"
      },
      "execution_count": null,
      "outputs": []
    },
    {
      "cell_type": "code",
      "source": [
        "# use API command to download the dataset\n",
        "!kaggle datasets download -d wanderdust/anna-karenina-book"
      ],
      "metadata": {
        "id": "BGlxw58uGJf1"
      },
      "execution_count": null,
      "outputs": []
    },
    {
      "cell_type": "code",
      "source": [
        "# uncompress the dataset\n",
        "!unzip -qq anna-karenina-book.zip"
      ],
      "metadata": {
        "id": "QfxEg189G_4J"
      },
      "execution_count": null,
      "outputs": []
    },
    {
      "cell_type": "code",
      "source": [
        "# import required libraries\n",
        "import torch\n",
        "import numpy as np"
      ],
      "metadata": {
        "id": "M7s-hXEgM4tN"
      },
      "execution_count": null,
      "outputs": []
    },
    {
      "cell_type": "code",
      "source": [
        "# check if cuda is available\n",
        "train_on_gpu = torch.cuda.is_available()\n",
        "\n",
        "if not train_on_gpu:\n",
        "  print(\"CUDA is not available\")\n",
        "else:\n",
        "  print(\"CUDA is available\")\n",
        "\n",
        "device = torch.device('cuda') if train_on_gpu else torch.device('cpu')"
      ],
      "metadata": {
        "id": "hmDInJ5mcHI0"
      },
      "execution_count": null,
      "outputs": []
    },
    {
      "cell_type": "code",
      "source": [
        "# open text file and read dataset\n",
        "with open(\"/content/anna.txt\", \"r\") as f:\n",
        "  text = f.read()\n",
        "\n",
        "text[:100]"
      ],
      "metadata": {
        "id": "ruMs8t0lGOwW"
      },
      "execution_count": null,
      "outputs": []
    },
    {
      "cell_type": "markdown",
      "source": [
        "### Pre-process the dataset"
      ],
      "metadata": {
        "id": "1XeTje0xHgu9"
      }
    },
    {
      "cell_type": "code",
      "source": [
        "# tokenization\n",
        "\n",
        "chars = tuple(set(text))\n",
        "# map each int to char\n",
        "int_to_char = dict(enumerate(chars))\n",
        "# map each char to int\n",
        "char_to_int = {ch:idx for idx, ch in int_to_char.items()}\n",
        "\n",
        "# encode \n",
        "encoded = np.array([char_to_int[ch] for ch in text])\n",
        "\n",
        "encoded[:100]"
      ],
      "metadata": {
        "id": "AuOH3bqVHRpP"
      },
      "execution_count": null,
      "outputs": []
    },
    {
      "cell_type": "code",
      "source": [
        "def one_hot_encode(arr, n_labels):\n",
        "  # initialize the encoded array with zeros\n",
        "  one_hot = np.zeros((arr.size, n_labels), dtype=np.float32)\n",
        "  # fill with ones where appropriate\n",
        "  one_hot[np.arange(one_hot.shape[0]), arr.flatten()] = 1.\n",
        "  # reshape to get back to the original array\n",
        "  one_hot = one_hot.reshape((*arr.shape, n_labels))\n",
        "  \n",
        "  return one_hot"
      ],
      "metadata": {
        "id": "Z_18UrpVQAjm"
      },
      "execution_count": null,
      "outputs": []
    },
    {
      "cell_type": "code",
      "source": [
        "def get_batches(arr, batch_size, seq_length):\n",
        "  \"\"\"returns batches of size batch_size * seq_length\"\"\"\n",
        "  total_batch_size = batch_size * seq_length\n",
        "  # total number of batches\n",
        "  n_batches = len(arr)//total_batch_size\n",
        "  \n",
        "  # keep enough characters to make full batches\n",
        "  arr = arr[:n_batches * total_batch_size]\n",
        "  # reshape into batch_size rows\n",
        "  arr = arr.reshape((batch_size, -1))\n",
        "  \n",
        "  for n in range(0, arr.shape[1], seq_length):\n",
        "      # features\n",
        "      x = arr[:, n:n+seq_length]\n",
        "      # targets, shifted by one\n",
        "      y = np.zeros_like(x)\n",
        "      try:\n",
        "          y[:, :-1], y[:, -1] = x[:, 1:], arr[:, n+seq_length]\n",
        "      except IndexError:\n",
        "          y[:, :-1], y[:, -1] = x[:, 1:], arr[:, 0]\n",
        "      yield x, y"
      ],
      "metadata": {
        "id": "XxElsQitRNph"
      },
      "execution_count": null,
      "outputs": []
    },
    {
      "cell_type": "code",
      "source": [
        "# split the dataset\n",
        "valid_size = 0.2\n",
        "\n",
        "valid_idx = int(len(encoded)*(1-valid_size))\n",
        "train_data, valid_data = encoded[:valid_idx], encoded[valid_idx:]"
      ],
      "metadata": {
        "id": "hZxzVyi6hpNA"
      },
      "execution_count": null,
      "outputs": []
    },
    {
      "cell_type": "markdown",
      "source": [
        "### Model"
      ],
      "metadata": {
        "id": "vCVb7_7fcL7k"
      }
    },
    {
      "cell_type": "code",
      "source": [
        "import torch.nn as nn\n",
        "import torch.nn.functional as F\n",
        "import torch.optim as optim\n",
        "\n",
        "class RNN(nn.Module):\n",
        "  def __init__(self, tokens, n_hidden, n_layers, drop_prob=0.5):\n",
        "    super().__init__()\n",
        "    self.n_layers = n_layers \n",
        "    self.n_hidden = n_hidden \n",
        "    self.drop_prob = drop_prob\n",
        "\n",
        "    # create character dictionaries\n",
        "    self.chars = tokens \n",
        "    self.int_to_char = dict(enumerate(self.chars))\n",
        "    self.char_to_int = {ch:idx for idx, ch in self.int_to_char.items()}\n",
        "\n",
        "    self.lstm = nn.LSTM(len(self.chars), n_hidden, n_layers, dropout=drop_prob, batch_first=True)\n",
        "    self.dropout = nn.Dropout(drop_prob)\n",
        "    self.fc = nn.Linear(n_hidden, len(self.chars))\n",
        "\n",
        "\n",
        "  def forward(self, x, hidden):\n",
        "    out, hidden = self.lstm(x, hidden)\n",
        "    out = self.dropout(out)\n",
        "    out = out.contiguous().view(-1, self.n_hidden)\n",
        "    out = self.fc(out)\n",
        "    return out, hidden\n",
        "\n",
        "  def initialize_hidden(self, batch_size):\n",
        "    weight = next(self.parameters()).data\n",
        "\n",
        "    # initialize hidden state and cell state of LSTM with zeros (n_layers * batch_size * n_hidden)\n",
        "    hidden = (weight.new(self.n_layers, batch_size, self.n_hidden).zero_().to(device),\n",
        "             weight.new(self.n_layers, batch_size, self.n_hidden).zero_().to(device))\n",
        "    \n",
        "    return hidden"
      ],
      "metadata": {
        "id": "jx8zpIx8Re2E"
      },
      "execution_count": null,
      "outputs": []
    },
    {
      "cell_type": "code",
      "source": [
        "n_hidden = 512 \n",
        "n_layers = 2 \n",
        "drop_prob=0.5\n",
        "lr=0.001\n",
        "\n",
        "model = RNN(chars, n_hidden, n_layers, drop_prob)\n",
        "print(model)\n",
        "model.to(device)"
      ],
      "metadata": {
        "id": "rxQgMBKE50NJ"
      },
      "execution_count": null,
      "outputs": []
    },
    {
      "cell_type": "markdown",
      "source": [
        "### Train"
      ],
      "metadata": {
        "id": "8cgoevWpoyhB"
      }
    },
    {
      "cell_type": "code",
      "source": [
        "def train(model, data, epochs, batch_size, seq_length, criterion, optimizer, clip, print_every=10):\n",
        "\n",
        "  model.train()\n",
        "\n",
        "  counter = 0\n",
        "  n_chars = len(model.chars)\n",
        "  for epoch in range(epochs):\n",
        "\n",
        "    # initialize the hidden state\n",
        "    h = model.initialize_hidden(batch_size)\n",
        "\n",
        "    for inputs, targets in get_batches(data, batch_size, seq_length):\n",
        "      counter += 1 \n",
        "      # one-hot encode the data\n",
        "      inputs = one_hot_encode(inputs, n_chars)\n",
        "      # make torch tensor\n",
        "      inputs, targets = torch.from_numpy(inputs), torch.from_numpy(targets)\n",
        "      # move the tensors to the right device\n",
        "      inputs, targets = inputs.to(device), targets.to(device)\n",
        "\n",
        "      # create new variable for the hidden state to avoid backprop through the \n",
        "      # entire training history\n",
        "      h = tuple([each.data for each in h])\n",
        "\n",
        "      # clear the gradients of all optimized variables\n",
        "      model.zero_grad()\n",
        "      # forward pass\n",
        "      output, h = model(inputs, h)\n",
        "      # calculate the loss\n",
        "      loss = criterion(output, targets.view(batch_size * seq_length).long())\n",
        "      # backprob\n",
        "      loss.backward()\n",
        "      # prevent exploding gradients problem in rnn/lstm\n",
        "      nn.utils.clip_grad_norm_(model.parameters(), clip)\n",
        "      # update parameters\n",
        "      optimizer.step()\n",
        "\n",
        "      # ------------ validate the model -----------------\n",
        "      if counter % print_every == 0:\n",
        "        # initialize the hidden state\n",
        "        valid_h = model.initialize_hidden(batch_size)\n",
        "\n",
        "        valid_losses = []\n",
        "\n",
        "        # set the model to evaluation mode\n",
        "        model.eval()\n",
        "        for inputs, targets in get_batches(valid_data, batch_size, seq_length):\n",
        "          # one-hot encode the inputs\n",
        "          inputs = one_hot_encode(inputs, n_chars)\n",
        "          # make torch tensor\n",
        "          inputs, targets = torch.from_numpy(inputs), torch.from_numpy(targets)\n",
        "          # create new variable for the hidden state to avoid backprop through the \n",
        "          # entire training history \n",
        "          valid_h = tuple([each for each in valid_h])\n",
        "          # move the tensor to the right device\n",
        "          inputs, targets = inputs.to(device), targets.to(device)\n",
        "          # forward pass\n",
        "          output, valid_h = model(inputs, valid_h)\n",
        "          # calculate the batch loss\n",
        "          valid_loss = criterion(output, targets.view(batch_size * seq_length).long())\n",
        "\n",
        "          valid_losses.append(valid_loss.item())\n",
        "\n",
        "        # reset to train mode\n",
        "        model.train()\n",
        "\n",
        "        print(\"Epochs: {} \\tStep: {} \\tTraining loss: {:.6f} \\tValidation loss: {:.6f}\".format(epoch+1, \n",
        "                                                                                               counter, \n",
        "                                                                                               loss.item(), \n",
        "                                                                                               np.mean(valid_losses)))"
      ],
      "metadata": {
        "id": "IsnPrdprRe5H"
      },
      "execution_count": null,
      "outputs": []
    },
    {
      "cell_type": "code",
      "source": [
        "epochs = 50\n",
        "batch_size = 128\n",
        "seq_length = 200\n",
        "lr=0.001\n",
        "clip = 5\n",
        "print_every=10\n",
        "\n",
        "# define an optimizer\n",
        "optimizer = optim.Adam(model.parameters(), lr = lr)\n",
        "# define a loss function\n",
        "criterion = nn.CrossEntropyLoss()\n",
        "\n",
        "# train the model\n",
        "train(model, encoded, epochs, batch_size, seq_length, criterion, optimizer, clip, print_every)"
      ],
      "metadata": {
        "id": "SjF7eho750QE"
      },
      "execution_count": null,
      "outputs": []
    },
    {
      "cell_type": "markdown",
      "source": [
        "### Test"
      ],
      "metadata": {
        "id": "YTGqB0O7gGho"
      }
    },
    {
      "cell_type": "code",
      "source": [
        "def predict(model, char, h=None, top_k=None):\n",
        "  \"\"\"Given an input character, returns the predicted next character and hidden state\"\"\"\n",
        "\n",
        "  x = np.array([[model.char_to_int[char]]])\n",
        "  x = one_hot_encode(x, len(model.chars))\n",
        "  inputs = torch.from_numpy(x)\n",
        "  inputs = inputs.to(device)\n",
        "\n",
        "  # detach hidden state from history\n",
        "  h = tuple([each.data for each in h])\n",
        "  # output of the model\n",
        "  out, h = model(inputs, h)\n",
        "\n",
        "  # character probabilities\n",
        "  p = F.softmax(out, dim=1).data \n",
        "\n",
        "  if train_on_gpu: p = p.cpu()\n",
        "\n",
        "  # get top charactors\n",
        "  if top_k is None:\n",
        "    top_ch = np.arange(len(model.chars))\n",
        "  else:\n",
        "    p, top_ch = p.topk(top_k)\n",
        "    top_ch = top_ch.numpy().squeeze()\n",
        "\n",
        "  # randomly select the probable next characters\n",
        "  p = p.numpy().squeeze()\n",
        "  char = np.random.choice(top_ch, p = p/p.sum())\n",
        "\n",
        "  return model.int_to_char[char], h"
      ],
      "metadata": {
        "id": "ZDPcIBLy50WH"
      },
      "execution_count": null,
      "outputs": []
    },
    {
      "cell_type": "code",
      "source": [
        "def sample(model, size, prime=\"The\", top_k=None):\n",
        "\n",
        "  model.to(device)\n",
        "\n",
        "  model.eval()\n",
        "  # run through the prime characters\n",
        "  chars = [ch for ch in prime]\n",
        "  h = model.initialize_hidden(1)\n",
        "  for ch in prime:\n",
        "    char, h = predict(model, ch, h, top_k=top_k)\n",
        "\n",
        "  chars.append(char)\n",
        "\n",
        "  for i in range(size):\n",
        "    char, h = predict(model, chars[-1], h, top_k=top_k)\n",
        "    chars.append(char)\n",
        "\n",
        "  return \"\".join(chars)"
      ],
      "metadata": {
        "id": "K0cSQ5KL50Y5"
      },
      "execution_count": null,
      "outputs": []
    },
    {
      "cell_type": "code",
      "source": [
        "print(sample(model, 2000, prime=\"Anna Levin\", top_k=10))"
      ],
      "metadata": {
        "id": "oUBVQmOYO6is"
      },
      "execution_count": null,
      "outputs": []
    },
    {
      "cell_type": "code",
      "source": [
        "# save the trained model\n",
        "model_name = \"char_rnn.model\"\n",
        "\n",
        "checkpoint = {\"n_hidden\": model.n_hidden,\n",
        "              \"n_layers\": model.n_layers,\n",
        "              \"state_dict\": model.state_dict(),\n",
        "              \"tokens\": model.chars}\n",
        "\n",
        "with open(model_name, \"wb\") as f:\n",
        "  torch.save(checkpoint, f)"
      ],
      "metadata": {
        "id": "1kHHTVxN50TF"
      },
      "execution_count": null,
      "outputs": []
    },
    {
      "cell_type": "code",
      "source": [
        "# load saved model\n",
        "with open(\"char_rnn.model\", \"rb\") as f:\n",
        "  checkpoint = torch.load(f)\n",
        "\n",
        "# sample using trained model\n",
        "loaded = RNN(checkpoint['tokens'], n_hidden=checkpoint[\"n_hidden\"], n_layers=checkpoint[\"n_layers\"])\n",
        "loaded.load_state_dict(checkpoint[\"state_dict\"])"
      ],
      "metadata": {
        "id": "z4zZJCN3PFHL"
      },
      "execution_count": null,
      "outputs": []
    },
    {
      "cell_type": "code",
      "source": [
        "print(sample(loaded, size = 2000, prime=\"Stepan Arkadyevitch\", top_k=10))"
      ],
      "metadata": {
        "id": "LwbIx2D6lLRF"
      },
      "execution_count": null,
      "outputs": []
    },
    {
      "cell_type": "code",
      "source": [
        "print(sample(loaded, size = 2000, prime=\"Alexey Alexandrovitch\", top_k=10))"
      ],
      "metadata": {
        "id": "Ma3nFHKaBQln"
      },
      "execution_count": null,
      "outputs": []
    },
    {
      "cell_type": "code",
      "source": [],
      "metadata": {
        "id": "hj23W4gABg-2"
      },
      "execution_count": null,
      "outputs": []
    }
  ]
}